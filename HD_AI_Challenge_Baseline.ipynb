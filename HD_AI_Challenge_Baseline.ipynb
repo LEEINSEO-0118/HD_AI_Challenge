{
  "nbformat": 4,
  "nbformat_minor": 0,
  "metadata": {
    "colab": {
      "provenance": [],
      "authorship_tag": "ABX9TyNvPB2gbdgJAOFTSfY7VHlN",
      "include_colab_link": true
    },
    "kernelspec": {
      "name": "python3",
      "display_name": "Python 3"
    },
    "language_info": {
      "name": "python"
    }
  },
  "cells": [
    {
      "cell_type": "markdown",
      "metadata": {
        "id": "view-in-github",
        "colab_type": "text"
      },
      "source": [
        "<a href=\"https://colab.research.google.com/github/LEEINSEO-0118/HD_AI_Challenge/blob/main/HD_AI_Challenge_Baseline.ipynb\" target=\"_parent\"><img src=\"https://colab.research.google.com/assets/colab-badge.svg\" alt=\"Open In Colab\"/></a>"
      ]
    },
    {
      "cell_type": "code",
      "source": [
        "from google.colab import drive\n",
        "drive.mount('/content/drive')"
      ],
      "metadata": {
        "colab": {
          "base_uri": "https://localhost:8080/"
        },
        "id": "Mej6quaaY48A",
        "outputId": "535ef2bb-c0f4-4919-f2c5-ceb1a7246242"
      },
      "execution_count": 1,
      "outputs": [
        {
          "output_type": "stream",
          "name": "stdout",
          "text": [
            "Mounted at /content/drive\n"
          ]
        }
      ]
    },
    {
      "cell_type": "code",
      "execution_count": 2,
      "metadata": {
        "id": "3RN_GbpXYimi"
      },
      "outputs": [],
      "source": [
        "import matplotlib.pyplot as plt\n",
        "import pandas as pd\n",
        "import numpy as np\n",
        "import lightgbm as lgb\n",
        "import bisect\n",
        "from tqdm import tqdm\n",
        "from sklearn.metrics import mean_absolute_error\n",
        "from sklearn.preprocessing import LabelEncoder\n",
        "from sklearn.model_selection import KFold\n",
        "\n",
        "file_path = '/content/drive/MyDrive/ai부트캠프/Machine_Learning/DATA/HD_challenge/'\n",
        "train = pd.read_csv(file_path+'train.csv').drop(columns=['SAMPLE_ID'])\n",
        "test = pd.read_csv(file_path+'test.csv').drop(columns=['SAMPLE_ID'])"
      ]
    },
    {
      "cell_type": "markdown",
      "source": [
        "## datetime 컬럼 처리"
      ],
      "metadata": {
        "id": "-l7liY6raRO1"
      }
    },
    {
      "cell_type": "code",
      "source": [
        "# datetime 컬럼 처리\n",
        "train.ATA = pd.to_datetime(train['ATA'])\n",
        "test.ATA = pd.to_datetime(train['ATA'])\n",
        "\n",
        "# datetime 변환\n",
        "for df in [train, test]:\n",
        "    df['year'] = df['ATA'].dt.year\n",
        "    df['month'] = df['ATA'].dt.month\n",
        "    df['day'] = df['ATA'].dt.day\n",
        "    df['hour'] = df['ATA'].dt.hour\n",
        "    df['minute'] = df['ATA'].dt.minute\n",
        "    df['weekday'] = df['ATA'].dt.weekday\n",
        "\n",
        "# datetime 컬럼 제거\n",
        "train.drop(columns='ATA', inplace=True)\n",
        "test.drop(columns='ATA', inplace=True)"
      ],
      "metadata": {
        "id": "l-f87yWjZYUF"
      },
      "execution_count": 3,
      "outputs": []
    },
    {
      "cell_type": "markdown",
      "source": [
        "## Categorical feature encoding"
      ],
      "metadata": {
        "id": "3T4DwsqLaOYu"
      }
    },
    {
      "cell_type": "code",
      "source": [
        "categorical_features = ['ARI_CO', 'ARI_PO', 'SHIP_TYPE_CATEGORY', 'ID', 'SHIPMANAGER', 'FLAG']\n",
        "encoders = {}\n",
        "\n",
        "for feature in tqdm(categorical_features, desc = 'Encoding features'):\n",
        "    le = LabelEncoder()\n",
        "    train[feature] = le.fit_transform(train[feature].astype(str))\n",
        "    le_classes_set = set(le.classes_)\n",
        "    test[feature] = test[feature].map(lambda s: '-1' if s not in le_classes_set else s)\n",
        "    le_classes = le.classes_.tolist()\n",
        "    bisect.insort_left(le_classes, '-1')\n",
        "    le.classes_ = np.array(le_classes)\n",
        "    test[feature] = le.transform(test[feature].astype(str))\n",
        "    encoders[feature] = le"
      ],
      "metadata": {
        "colab": {
          "base_uri": "https://localhost:8080/"
        },
        "id": "rybCo5Z0ahSW",
        "outputId": "8eba6efb-487c-48ab-a0e1-4a11c1c77a5f"
      },
      "execution_count": 4,
      "outputs": [
        {
          "output_type": "stream",
          "name": "stderr",
          "text": [
            "Encoding features: 100%|██████████| 6/6 [00:04<00:00,  1.33it/s]\n"
          ]
        }
      ]
    },
    {
      "cell_type": "markdown",
      "source": [
        "## 결측치 처리\n",
        "\n",
        "결측치를 means으로 대충 채운 경우 [U_WIND, V_WIND, AIR_TEMPERATURE, BN] 피쳐들의 중요도가 낮게 나옴.  \n",
        "*MAE = 53.45077523955608*\n",
        "\n",
        "결측치를 다 없애고. origin한 데이터로 예측을 하는 경우에도 중요도는 유사함\n"
      ],
      "metadata": {
        "id": "gAFhyQFya6Nq"
      }
    },
    {
      "cell_type": "code",
      "source": [
        "train.fillna(train.mean(),inplace= True)\n",
        "test.fillna(train.mean(), inplace=True)"
      ],
      "metadata": {
        "id": "nlxyk1yla8re"
      },
      "execution_count": 5,
      "outputs": []
    },
    {
      "cell_type": "code",
      "source": [
        "train.columns"
      ],
      "metadata": {
        "colab": {
          "base_uri": "https://localhost:8080/"
        },
        "id": "nXbgDiiEegZC",
        "outputId": "f970eceb-49f6-4af9-95e4-a01c2c46835a"
      },
      "execution_count": 6,
      "outputs": [
        {
          "output_type": "execute_result",
          "data": {
            "text/plain": [
              "Index(['ARI_CO', 'ARI_PO', 'SHIP_TYPE_CATEGORY', 'DIST', 'ID', 'BREADTH',\n",
              "       'BUILT', 'DEADWEIGHT', 'DEPTH', 'DRAUGHT', 'GT', 'LENGTH',\n",
              "       'SHIPMANAGER', 'FLAG', 'U_WIND', 'V_WIND', 'AIR_TEMPERATURE', 'BN',\n",
              "       'ATA_LT', 'DUBAI', 'BRENT', 'WTI', 'BDI_ADJ', 'PORT_SIZE', 'CI_HOUR',\n",
              "       'year', 'month', 'day', 'hour', 'minute', 'weekday'],\n",
              "      dtype='object')"
            ]
          },
          "metadata": {},
          "execution_count": 6
        }
      ]
    },
    {
      "cell_type": "markdown",
      "source": [
        "## 모델 학습, feature importance 확인"
      ],
      "metadata": {
        "id": "UqD-UkuIbIdx"
      }
    },
    {
      "cell_type": "code",
      "source": [
        "def train_and_evaluate(model, model_name, X_train, y_train):\n",
        "    print(f'Model Tune for {model_name}')\n",
        "    model.fit(X_train, y_train)\n",
        "\n",
        "    feature_importances = model.feature_importances_\n",
        "    sorted_idx = feature_importances.argsort()\n",
        "\n",
        "    plt.figure(figsize = (10, len(X_train.columns)))\n",
        "    plt.title(f'Fequre importance({model_name})')\n",
        "    plt.barh(range(X_train.shape[1]), feature_importances[sorted_idx], align='center')\n",
        "    plt.yticks(range(X_train.shape[1]), X_train.columns[sorted_idx])\n",
        "    plt.xlabel('Importance')\n",
        "    plt.show()\n",
        "\n",
        "    return model, feature_importances\n",
        "\n",
        "X_train = train.drop(columns = 'CI_HOUR')\n",
        "y_train = train.CI_HOUR\n",
        "\n",
        "lgbm_model, lgbm_feature_importances = train_and_evaluate(lgb.LGBMRegressor(), 'LGBM'\n",
        "                                                            , X_train, y_train)"
      ],
      "metadata": {
        "colab": {
          "base_uri": "https://localhost:8080/",
          "height": 1000
        },
        "id": "BQpstMZjbNdR",
        "outputId": "deda3799-9566-4d8e-8fdb-41e70e7ad32c"
      },
      "execution_count": 7,
      "outputs": [
        {
          "output_type": "stream",
          "name": "stdout",
          "text": [
            "Model Tune for LGBM\n",
            "[LightGBM] [Warning] Auto-choosing col-wise multi-threading, the overhead of testing was 0.208376 seconds.\n",
            "You can set `force_col_wise=true` to remove the overhead.\n",
            "[LightGBM] [Info] Total Bins 3931\n",
            "[LightGBM] [Info] Number of data points in the train set: 367441, number of used features: 30\n",
            "[LightGBM] [Info] Start training from score 61.877118\n"
          ]
        },
        {
          "output_type": "display_data",
          "data": {
            "text/plain": [
              "<Figure size 1000x3000 with 1 Axes>"
            ],
            "image/png": "[encoded data removed]"
          },
          "metadata": {}
        }
      ]
    },
    {
      "cell_type": "code",
      "source": [
        "threshold = 85\n",
        "low_importance_features = X_train.columns[lgbm_feature_importances < threshold]\n",
        "\n",
        "X_train_reduced = X_train.drop(columns=low_importance_features)\n",
        "X_test_reduced = test.drop(columns=low_importance_features)"
      ],
      "metadata": {
        "id": "odBmf2UedNUm"
      },
      "execution_count": 8,
      "outputs": []
    },
    {
      "cell_type": "code",
      "source": [
        "!pip install lightgbm optuna\n",
        "import optuna"
      ],
      "metadata": {
        "colab": {
          "base_uri": "https://localhost:8080/"
        },
        "id": "HzLrkAEZ-KMw",
        "outputId": "49f77de5-1686-4d05-932c-9788af4a4b13"
      },
      "execution_count": 9,
      "outputs": [
        {
          "output_type": "stream",
          "name": "stdout",
          "text": [
            "Requirement already satisfied: lightgbm in /usr/local/lib/python3.10/dist-packages (4.0.0)\n",
            "Collecting optuna\n",
            "  Downloading optuna-3.3.0-py3-none-any.whl (404 kB)\n",
            "\u001b[2K     \u001b[90m━━━━━━━━━━━━━━━━━━━━━━━━━━━━━━━━━━━━━━━\u001b[0m \u001b[32m404.2/404.2 kB\u001b[0m \u001b[31m5.9 MB/s\u001b[0m eta \u001b[36m0:00:00\u001b[0m\n",
            "\u001b[?25hRequirement already satisfied: numpy in /usr/local/lib/python3.10/dist-packages (from lightgbm) (1.23.5)\n",
            "Requirement already satisfied: scipy in /usr/local/lib/python3.10/dist-packages (from lightgbm) (1.11.3)\n",
            "Collecting alembic>=1.5.0 (from optuna)\n",
            "  Downloading alembic-1.12.0-py3-none-any.whl (226 kB)\n",
            "\u001b[2K     \u001b[90m━━━━━━━━━━━━━━━━━━━━━━━━━━━━━━━━━━━━━━\u001b[0m \u001b[32m226.0/226.0 kB\u001b[0m \u001b[31m18.0 MB/s\u001b[0m eta \u001b[36m0:00:00\u001b[0m\n",
            "\u001b[?25hCollecting cmaes>=0.10.0 (from optuna)\n",
            "  Downloading cmaes-0.10.0-py3-none-any.whl (29 kB)\n",
            "Collecting colorlog (from optuna)\n",
            "  Downloading colorlog-6.7.0-py2.py3-none-any.whl (11 kB)\n",
            "Requirement already satisfied: packaging>=20.0 in /usr/local/lib/python3.10/dist-packages (from optuna) (23.2)\n",
            "Requirement already satisfied: sqlalchemy>=1.3.0 in /usr/local/lib/python3.10/dist-packages (from optuna) (2.0.21)\n",
            "Requirement already satisfied: tqdm in /usr/local/lib/python3.10/dist-packages (from optuna) (4.66.1)\n",
            "Requirement already satisfied: PyYAML in /usr/local/lib/python3.10/dist-packages (from optuna) (6.0.1)\n",
            "Collecting Mako (from alembic>=1.5.0->optuna)\n",
            "  Downloading Mako-1.2.4-py3-none-any.whl (78 kB)\n",
            "\u001b[2K     \u001b[90m━━━━━━━━━━━━━━━━━━━━━━━━━━━━━━━━━━━━━━━━\u001b[0m \u001b[32m78.7/78.7 kB\u001b[0m \u001b[31m2.3 MB/s\u001b[0m eta \u001b[36m0:00:00\u001b[0m\n",
            "\u001b[?25hRequirement already satisfied: typing-extensions>=4 in /usr/local/lib/python3.10/dist-packages (from alembic>=1.5.0->optuna) (4.5.0)\n",
            "Requirement already satisfied: greenlet!=0.4.17 in /usr/local/lib/python3.10/dist-packages (from sqlalchemy>=1.3.0->optuna) (3.0.0)\n",
            "Requirement already satisfied: MarkupSafe>=0.9.2 in /usr/local/lib/python3.10/dist-packages (from Mako->alembic>=1.5.0->optuna) (2.1.3)\n",
            "Installing collected packages: Mako, colorlog, cmaes, alembic, optuna\n",
            "Successfully installed Mako-1.2.4 alembic-1.12.0 cmaes-0.10.0 colorlog-6.7.0 optuna-3.3.0\n"
          ]
        }
      ]
    },
    {
      "cell_type": "code",
      "source": [
        "params = {'n_estimators' : 500, 'learning_rate': 0.16, 'max_depth': 25, 'num_leaves': 512,\n",
        "          'min_child_samples' : 50, 'colsample_bytree' : 0.8}\n",
        "\n",
        "lgbm = lgb.LGBMRegressor(**params, random_state = 42)\n",
        "\n",
        "# 5-Fold 설정\n",
        "kf = KFold(n_splits=5, shuffle=True, random_state=42)\n",
        "\n",
        "# 각 fold의 모델로부터의 예측을 저장할 리스트와 MAE 점수 리스트\n",
        "ensemble_predictions = []\n",
        "scores = []\n",
        "\n",
        "for train_idx, val_idx in tqdm(kf.split(X_train_reduced), total=5, desc=\"Processing folds\"):\n",
        "    X_t, X_val = X_train_reduced.iloc[train_idx], X_train_reduced.iloc[val_idx]\n",
        "    y_t, y_val = y_train[train_idx], y_train[val_idx]\n",
        "\n",
        "    # 두 모델 모두 학습\n",
        "    lgbm.fit(X_t, y_t)\n",
        "\n",
        "    # 각 모델로부터 Validation set에 대한 예측을 평균내어 앙상블 예측 생성\n",
        "    val_pred = lgbm.predict(X_val)\n",
        "\n",
        "    # Validation set에 대한 대회 평가 산식 계산 후 저장\n",
        "    scores.append(mean_absolute_error(y_val, val_pred))\n",
        "\n",
        "    # test 데이터셋에 대한 예측 수행 후 저장\n",
        "    lgbm_pred = lgbm.predict(X_test_reduced)\n",
        "    lgbm_pred = np.where(lgbm_pred < 0, 0, lgbm_pred)\n",
        "\n",
        "    ensemble_predictions.append(lgbm_pred)\n",
        "\n",
        "# K-fold 모든 예측의 평균을 계산하여 fold별 모델들의 앙상블 예측 생성\n",
        "final_predictions = np.mean(ensemble_predictions, axis=0)\n",
        "\n",
        "# 각 fold에서의 Validation Metric Score와 전체 평균 Validation Metric Score출력\n",
        "print(\"Validation : MAE scores for each fold:\", scores)\n",
        "print(\"Validation : MAE:\", np.mean(scores))"
      ],
      "metadata": {
        "colab": {
          "base_uri": "https://localhost:8080/"
        },
        "id": "nvYRLdTNdbbc",
        "outputId": "2128d7c9-2732-4eb6-90e2-2d64c856d8e4"
      },
      "execution_count": 10,
      "outputs": [
        {
          "output_type": "stream",
          "name": "stderr",
          "text": [
            "\rProcessing folds:   0%|          | 0/5 [00:00<?, ?it/s]"
          ]
        },
        {
          "output_type": "stream",
          "name": "stdout",
          "text": [
            "[LightGBM] [Warning] Auto-choosing col-wise multi-threading, the overhead of testing was 0.164012 seconds.\n",
            "You can set `force_col_wise=true` to remove the overhead.\n",
            "[LightGBM] [Info] Total Bins 1917\n",
            "[LightGBM] [Info] Number of data points in the train set: 293952, number of used features: 15\n",
            "[LightGBM] [Info] Start training from score 62.047288\n"
          ]
        },
        {
          "output_type": "stream",
          "name": "stderr",
          "text": [
            "\rProcessing folds:  20%|██        | 1/5 [01:30<06:00, 90.12s/it]"
          ]
        },
        {
          "output_type": "stream",
          "name": "stdout",
          "text": [
            "[LightGBM] [Warning] Auto-choosing col-wise multi-threading, the overhead of testing was 0.079612 seconds.\n",
            "You can set `force_col_wise=true` to remove the overhead.\n",
            "[LightGBM] [Info] Total Bins 1917\n",
            "[LightGBM] [Info] Number of data points in the train set: 293953, number of used features: 15\n",
            "[LightGBM] [Info] Start training from score 61.719969\n"
          ]
        },
        {
          "output_type": "stream",
          "name": "stderr",
          "text": [
            "\rProcessing folds:  40%|████      | 2/5 [02:51<04:14, 84.76s/it]"
          ]
        },
        {
          "output_type": "stream",
          "name": "stdout",
          "text": [
            "[LightGBM] [Warning] Auto-choosing col-wise multi-threading, the overhead of testing was 0.048205 seconds.\n",
            "You can set `force_col_wise=true` to remove the overhead.\n",
            "[LightGBM] [Info] Total Bins 1918\n",
            "[LightGBM] [Info] Number of data points in the train set: 293953, number of used features: 15\n",
            "[LightGBM] [Info] Start training from score 61.754815\n"
          ]
        },
        {
          "output_type": "stream",
          "name": "stderr",
          "text": [
            "\rProcessing folds:  60%|██████    | 3/5 [04:13<02:47, 83.54s/it]"
          ]
        },
        {
          "output_type": "stream",
          "name": "stdout",
          "text": [
            "[LightGBM] [Warning] Auto-choosing col-wise multi-threading, the overhead of testing was 0.050791 seconds.\n",
            "You can set `force_col_wise=true` to remove the overhead.\n",
            "[LightGBM] [Info] Total Bins 1917\n",
            "[LightGBM] [Info] Number of data points in the train set: 293953, number of used features: 15\n",
            "[LightGBM] [Info] Start training from score 61.868218\n"
          ]
        },
        {
          "output_type": "stream",
          "name": "stderr",
          "text": [
            "\rProcessing folds:  80%|████████  | 4/5 [05:35<01:23, 83.07s/it]"
          ]
        },
        {
          "output_type": "stream",
          "name": "stdout",
          "text": [
            "[LightGBM] [Warning] Auto-choosing col-wise multi-threading, the overhead of testing was 0.049065 seconds.\n",
            "You can set `force_col_wise=true` to remove the overhead.\n",
            "[LightGBM] [Info] Total Bins 1918\n",
            "[LightGBM] [Info] Number of data points in the train set: 293953, number of used features: 15\n",
            "[LightGBM] [Info] Start training from score 61.995298\n"
          ]
        },
        {
          "output_type": "stream",
          "name": "stderr",
          "text": [
            "Processing folds: 100%|██████████| 5/5 [06:56<00:00, 83.33s/it]"
          ]
        },
        {
          "output_type": "stream",
          "name": "stdout",
          "text": [
            "Validation : MAE scores for each fold: [30.843265895947486, 31.422270564696085, 31.68424994752263, 31.266728212572435, 31.101892131818175]\n",
            "Validation : MAE: 31.263681350511366\n"
          ]
        },
        {
          "output_type": "stream",
          "name": "stderr",
          "text": [
            "\n"
          ]
        }
      ]
    },
    {
      "cell_type": "code",
      "source": [
        "def optimizer(trial, X, y, K):\n",
        "    # 조절할 hyper-parameter 조합을 적어줍니다.\n",
        "    # template\n",
        "    # num_leaves = trial.suggest_categorical('num_leaves', []) # Grid search의 방법\n",
        "    # max_depth = trial.suggest_int('max_depth', low, high)\n",
        "    # learning_rate = trial.suggest_float('learning_rate', low, high)\n",
        "    num_leaves = trial.suggest_categorical('num_leaves', [128, 256, 512]) # Grid search의 방법\n",
        "    max_depth = trial.suggest_int('max_depth', 10, 25)\n",
        "    learning_rate = trial.suggest_float('learning_rate', 0.01, 0.3)\n",
        "    n_estimators = trial.suggest_int('n_estimators', 50, 500)\n",
        "    min_child_samples = trial.suggest_int('min_child_samples', 1, 100)\n",
        "    colsample_bytree = trial.suggest_float('colsample_bytree', 0.5, 0.8)\n",
        "\n",
        "\n",
        "    # 원하는 모델을 지정합니다, optuna는 시간이 오래걸리기 때문에 저는 보통 RF로 일단 테스트를 해본 뒤에 LGBM을 사용합니다.\n",
        "    model = lgb.LGBMRegressor(num_leaves = num_leaves,\n",
        "                              max_depth = max_depth,\n",
        "                              learning_rate = learning_rate,\n",
        "                              n_estimators = n_estimators,\n",
        "                              min_child_samples = min_child_samples,\n",
        "                              colsample_bytree = colsample_bytree,\n",
        "                              random_state = 42)\n",
        "\n",
        "\n",
        "    # K-Fold Cross validation을 구현합니다.\n",
        "    folds = KFold(n_splits=K)\n",
        "    losses = []\n",
        "\n",
        "    for train_idx, val_idx in folds.split(X, y):\n",
        "        X_train = X.iloc[train_idx, :]\n",
        "        y_train = y.iloc[train_idx]\n",
        "\n",
        "        X_val = X.iloc[val_idx, :]\n",
        "        y_val = y.iloc[val_idx]\n",
        "\n",
        "        model.fit(X_train, y_train)\n",
        "        preds = model.predict(X_val)\n",
        "        loss = mean_absolute_error(y_val, preds)\n",
        "        losses.append(loss)\n",
        "\n",
        "\n",
        "    # K-Fold의 평균 loss값을 돌려줍니다.\n",
        "    return np.mean(losses)"
      ],
      "metadata": {
        "id": "i-zXW05e-_qk"
      },
      "execution_count": 11,
      "outputs": []
    },
    {
      "cell_type": "code",
      "source": [
        "from functools import partial\n",
        "\n",
        "K = 5   # Kfold 수\n",
        "opt_func = partial(optimizer, X=X_train_reduced, y=y_train, K=K)\n",
        "\n",
        "study = optuna.create_study(direction=\"minimize\") # 최소/최대 어느 방향의 최적값을 구할 건지.\n",
        "study.optimize(opt_func, n_trials=50) # 50정도의 시행횟수를 추천함."
      ],
      "metadata": {
        "colab": {
          "base_uri": "https://localhost:8080/"
        },
        "id": "pjHYhXTvBPPR",
        "outputId": "a22e9242-8931-418f-d38a-a23d6df1ad27"
      },
      "execution_count": null,
      "outputs": [
        {
          "output_type": "stream",
          "name": "stderr",
          "text": [
            "[I 2023-10-10 14:37:20,037] A new study created in memory with name: no-name-e170e825-7859-40ff-b4b1-75f4744735af\n"
          ]
        },
        {
          "output_type": "stream",
          "name": "stdout",
          "text": [
            "[LightGBM] [Warning] Auto-choosing row-wise multi-threading, the overhead of testing was 0.040786 seconds.\n",
            "You can set `force_row_wise=true` to remove the overhead.\n",
            "And if memory is not enough, you can set `force_col_wise=true`.\n",
            "[LightGBM] [Info] Total Bins 1919\n",
            "[LightGBM] [Info] Number of data points in the train set: 293952, number of used features: 15\n",
            "[LightGBM] [Info] Start training from score 61.807473\n",
            "[LightGBM] [Warning] Auto-choosing col-wise multi-threading, the overhead of testing was 0.046352 seconds.\n",
            "You can set `force_col_wise=true` to remove the overhead.\n",
            "[LightGBM] [Info] Total Bins 1918\n",
            "[LightGBM] [Info] Number of data points in the train set: 293953, number of used features: 15\n",
            "[LightGBM] [Info] Start training from score 62.051334\n",
            "[LightGBM] [Warning] Auto-choosing col-wise multi-threading, the overhead of testing was 0.046497 seconds.\n",
            "You can set `force_col_wise=true` to remove the overhead.\n",
            "[LightGBM] [Info] Total Bins 1915\n",
            "[LightGBM] [Info] Number of data points in the train set: 293953, number of used features: 15\n",
            "[LightGBM] [Info] Start training from score 61.660527\n",
            "[LightGBM] [Warning] Auto-choosing col-wise multi-threading, the overhead of testing was 0.045379 seconds.\n",
            "You can set `force_col_wise=true` to remove the overhead.\n",
            "[LightGBM] [Info] Total Bins 1917\n",
            "[LightGBM] [Info] Number of data points in the train set: 293953, number of used features: 15\n",
            "[LightGBM] [Info] Start training from score 61.822064\n",
            "[LightGBM] [Warning] Auto-choosing col-wise multi-threading, the overhead of testing was 0.045031 seconds.\n",
            "You can set `force_col_wise=true` to remove the overhead.\n",
            "[LightGBM] [Info] Total Bins 1917\n",
            "[LightGBM] [Info] Number of data points in the train set: 293953, number of used features: 15\n",
            "[LightGBM] [Info] Start training from score 62.044190\n"
          ]
        },
        {
          "output_type": "stream",
          "name": "stderr",
          "text": [
            "[I 2023-10-10 14:39:15,667] Trial 0 finished with value: 32.41418144358808 and parameters: {'num_leaves': 256, 'max_depth': 22, 'learning_rate': 0.20064432589996076, 'n_estimators': 461, 'min_child_samples': 52, 'colsample_bytree': 0.657206113728951}. Best is trial 0 with value: 32.41418144358808.\n"
          ]
        },
        {
          "output_type": "stream",
          "name": "stdout",
          "text": [
            "[LightGBM] [Warning] Auto-choosing col-wise multi-threading, the overhead of testing was 0.044527 seconds.\n",
            "You can set `force_col_wise=true` to remove the overhead.\n",
            "[LightGBM] [Info] Total Bins 1919\n",
            "[LightGBM] [Info] Number of data points in the train set: 293952, number of used features: 15\n",
            "[LightGBM] [Info] Start training from score 61.807473\n",
            "[LightGBM] [Warning] Auto-choosing row-wise multi-threading, the overhead of testing was 0.007824 seconds.\n",
            "You can set `force_row_wise=true` to remove the overhead.\n",
            "And if memory is not enough, you can set `force_col_wise=true`.\n",
            "[LightGBM] [Info] Total Bins 1918\n",
            "[LightGBM] [Info] Number of data points in the train set: 293953, number of used features: 15\n",
            "[LightGBM] [Info] Start training from score 62.051334\n",
            "[LightGBM] [Warning] No further splits with positive gain, best gain: -inf\n",
            "[LightGBM] [Warning] Auto-choosing col-wise multi-threading, the overhead of testing was 0.041241 seconds.\n",
            "You can set `force_col_wise=true` to remove the overhead.\n",
            "[LightGBM] [Info] Total Bins 1915\n",
            "[LightGBM] [Info] Number of data points in the train set: 293953, number of used features: 15\n",
            "[LightGBM] [Info] Start training from score 61.660527\n",
            "[LightGBM] [Warning] Auto-choosing col-wise multi-threading, the overhead of testing was 0.067833 seconds.\n",
            "You can set `force_col_wise=true` to remove the overhead.\n",
            "[LightGBM] [Info] Total Bins 1917\n",
            "[LightGBM] [Info] Number of data points in the train set: 293953, number of used features: 15\n",
            "[LightGBM] [Info] Start training from score 61.822064\n",
            "[LightGBM] [Warning] Auto-choosing col-wise multi-threading, the overhead of testing was 0.042220 seconds.\n",
            "You can set `force_col_wise=true` to remove the overhead.\n",
            "[LightGBM] [Info] Total Bins 1917\n",
            "[LightGBM] [Info] Number of data points in the train set: 293953, number of used features: 15\n",
            "[LightGBM] [Info] Start training from score 62.044190\n"
          ]
        },
        {
          "output_type": "stream",
          "name": "stderr",
          "text": [
            "[I 2023-10-10 14:40:13,899] Trial 1 finished with value: 35.56468103078288 and parameters: {'num_leaves': 512, 'max_depth': 18, 'learning_rate': 0.21049535657280039, 'n_estimators': 164, 'min_child_samples': 49, 'colsample_bytree': 0.6187421396188139}. Best is trial 0 with value: 32.41418144358808.\n"
          ]
        },
        {
          "output_type": "stream",
          "name": "stdout",
          "text": [
            "[LightGBM] [Warning] Auto-choosing col-wise multi-threading, the overhead of testing was 0.040616 seconds.\n",
            "You can set `force_col_wise=true` to remove the overhead.\n",
            "[LightGBM] [Info] Total Bins 1919\n",
            "[LightGBM] [Info] Number of data points in the train set: 293952, number of used features: 15\n",
            "[LightGBM] [Info] Start training from score 61.807473\n",
            "[LightGBM] [Warning] Auto-choosing col-wise multi-threading, the overhead of testing was 0.042925 seconds.\n",
            "You can set `force_col_wise=true` to remove the overhead.\n",
            "[LightGBM] [Info] Total Bins 1918\n",
            "[LightGBM] [Info] Number of data points in the train set: 293953, number of used features: 15\n",
            "[LightGBM] [Info] Start training from score 62.051334\n",
            "[LightGBM] [Warning] Auto-choosing col-wise multi-threading, the overhead of testing was 0.065395 seconds.\n",
            "You can set `force_col_wise=true` to remove the overhead.\n",
            "[LightGBM] [Info] Total Bins 1915\n",
            "[LightGBM] [Info] Number of data points in the train set: 293953, number of used features: 15\n",
            "[LightGBM] [Info] Start training from score 61.660527\n",
            "[LightGBM] [Warning] No further splits with positive gain, best gain: -inf\n",
            "[LightGBM] [Warning] Auto-choosing col-wise multi-threading, the overhead of testing was 0.040735 seconds.\n",
            "You can set `force_col_wise=true` to remove the overhead.\n",
            "[LightGBM] [Info] Total Bins 1917\n",
            "[LightGBM] [Info] Number of data points in the train set: 293953, number of used features: 15\n",
            "[LightGBM] [Info] Start training from score 61.822064\n",
            "[LightGBM] [Warning] No further splits with positive gain, best gain: -inf\n",
            "[LightGBM] [Warning] Auto-choosing col-wise multi-threading, the overhead of testing was 0.040200 seconds.\n",
            "You can set `force_col_wise=true` to remove the overhead.\n",
            "[LightGBM] [Info] Total Bins 1917\n",
            "[LightGBM] [Info] Number of data points in the train set: 293953, number of used features: 15\n",
            "[LightGBM] [Info] Start training from score 62.044190\n"
          ]
        },
        {
          "output_type": "stream",
          "name": "stderr",
          "text": [
            "[I 2023-10-10 14:42:15,606] Trial 2 finished with value: 33.61779229104942 and parameters: {'num_leaves': 512, 'max_depth': 25, 'learning_rate': 0.21088679450842257, 'n_estimators': 355, 'min_child_samples': 64, 'colsample_bytree': 0.5701276884384243}. Best is trial 0 with value: 32.41418144358808.\n"
          ]
        },
        {
          "output_type": "stream",
          "name": "stdout",
          "text": [
            "[LightGBM] [Warning] Auto-choosing col-wise multi-threading, the overhead of testing was 0.073133 seconds.\n",
            "You can set `force_col_wise=true` to remove the overhead.\n",
            "[LightGBM] [Info] Total Bins 1919\n",
            "[LightGBM] [Info] Number of data points in the train set: 293952, number of used features: 15\n",
            "[LightGBM] [Info] Start training from score 61.807473\n",
            "[LightGBM] [Warning] Auto-choosing col-wise multi-threading, the overhead of testing was 0.045984 seconds.\n",
            "You can set `force_col_wise=true` to remove the overhead.\n",
            "[LightGBM] [Info] Total Bins 1918\n",
            "[LightGBM] [Info] Number of data points in the train set: 293953, number of used features: 15\n",
            "[LightGBM] [Info] Start training from score 62.051334\n",
            "[LightGBM] [Warning] Auto-choosing col-wise multi-threading, the overhead of testing was 0.044498 seconds.\n",
            "You can set `force_col_wise=true` to remove the overhead.\n",
            "[LightGBM] [Info] Total Bins 1915\n",
            "[LightGBM] [Info] Number of data points in the train set: 293953, number of used features: 15\n",
            "[LightGBM] [Info] Start training from score 61.660527\n",
            "[LightGBM] [Warning] Auto-choosing col-wise multi-threading, the overhead of testing was 0.044619 seconds.\n",
            "You can set `force_col_wise=true` to remove the overhead.\n",
            "[LightGBM] [Info] Total Bins 1917\n",
            "[LightGBM] [Info] Number of data points in the train set: 293953, number of used features: 15\n",
            "[LightGBM] [Info] Start training from score 61.822064\n",
            "[LightGBM] [Warning] Auto-choosing col-wise multi-threading, the overhead of testing was 0.044616 seconds.\n",
            "You can set `force_col_wise=true` to remove the overhead.\n",
            "[LightGBM] [Info] Total Bins 1917\n",
            "[LightGBM] [Info] Number of data points in the train set: 293953, number of used features: 15\n",
            "[LightGBM] [Info] Start training from score 62.044190\n"
          ]
        },
        {
          "output_type": "stream",
          "name": "stderr",
          "text": [
            "[I 2023-10-10 14:43:15,034] Trial 3 finished with value: 33.198715944491724 and parameters: {'num_leaves': 128, 'max_depth': 15, 'learning_rate': 0.2278397686121757, 'n_estimators': 374, 'min_child_samples': 34, 'colsample_bytree': 0.7483964005172116}. Best is trial 0 with value: 32.41418144358808.\n"
          ]
        },
        {
          "output_type": "stream",
          "name": "stdout",
          "text": [
            "[LightGBM] [Warning] Auto-choosing col-wise multi-threading, the overhead of testing was 0.064784 seconds.\n",
            "You can set `force_col_wise=true` to remove the overhead.\n",
            "[LightGBM] [Info] Total Bins 1919\n",
            "[LightGBM] [Info] Number of data points in the train set: 293952, number of used features: 15\n",
            "[LightGBM] [Info] Start training from score 61.807473\n",
            "[LightGBM] [Warning] Auto-choosing col-wise multi-threading, the overhead of testing was 0.039510 seconds.\n",
            "You can set `force_col_wise=true` to remove the overhead.\n",
            "[LightGBM] [Info] Total Bins 1918\n",
            "[LightGBM] [Info] Number of data points in the train set: 293953, number of used features: 15\n",
            "[LightGBM] [Info] Start training from score 62.051334\n",
            "[LightGBM] [Warning] Auto-choosing col-wise multi-threading, the overhead of testing was 0.064122 seconds.\n",
            "You can set `force_col_wise=true` to remove the overhead.\n",
            "[LightGBM] [Info] Total Bins 1915\n",
            "[LightGBM] [Info] Number of data points in the train set: 293953, number of used features: 15\n",
            "[LightGBM] [Info] Start training from score 61.660527\n",
            "[LightGBM] [Warning] Auto-choosing row-wise multi-threading, the overhead of testing was 0.007089 seconds.\n",
            "You can set `force_row_wise=true` to remove the overhead.\n",
            "And if memory is not enough, you can set `force_col_wise=true`.\n",
            "[LightGBM] [Info] Total Bins 1917\n",
            "[LightGBM] [Info] Number of data points in the train set: 293953, number of used features: 15\n",
            "[LightGBM] [Info] Start training from score 61.822064\n",
            "[LightGBM] [Warning] Auto-choosing col-wise multi-threading, the overhead of testing was 0.062770 seconds.\n",
            "You can set `force_col_wise=true` to remove the overhead.\n",
            "[LightGBM] [Info] Total Bins 1917\n",
            "[LightGBM] [Info] Number of data points in the train set: 293953, number of used features: 15\n",
            "[LightGBM] [Info] Start training from score 62.044190\n"
          ]
        },
        {
          "output_type": "stream",
          "name": "stderr",
          "text": [
            "[I 2023-10-10 14:43:53,589] Trial 4 finished with value: 53.206868108519316 and parameters: {'num_leaves': 128, 'max_depth': 16, 'learning_rate': 0.030475722335435433, 'n_estimators': 173, 'min_child_samples': 74, 'colsample_bytree': 0.5291122651865068}. Best is trial 0 with value: 32.41418144358808.\n"
          ]
        },
        {
          "output_type": "stream",
          "name": "stdout",
          "text": [
            "[LightGBM] [Warning] Auto-choosing col-wise multi-threading, the overhead of testing was 0.040333 seconds.\n",
            "You can set `force_col_wise=true` to remove the overhead.\n",
            "[LightGBM] [Info] Total Bins 1919\n",
            "[LightGBM] [Info] Number of data points in the train set: 293952, number of used features: 15\n",
            "[LightGBM] [Info] Start training from score 61.807473\n",
            "[LightGBM] [Warning] Auto-choosing col-wise multi-threading, the overhead of testing was 0.041685 seconds.\n",
            "You can set `force_col_wise=true` to remove the overhead.\n",
            "[LightGBM] [Info] Total Bins 1918\n",
            "[LightGBM] [Info] Number of data points in the train set: 293953, number of used features: 15\n",
            "[LightGBM] [Info] Start training from score 62.051334\n",
            "[LightGBM] [Warning] Auto-choosing col-wise multi-threading, the overhead of testing was 0.039425 seconds.\n",
            "You can set `force_col_wise=true` to remove the overhead.\n",
            "[LightGBM] [Info] Total Bins 1915\n",
            "[LightGBM] [Info] Number of data points in the train set: 293953, number of used features: 15\n",
            "[LightGBM] [Info] Start training from score 61.660527\n",
            "[LightGBM] [Warning] Auto-choosing row-wise multi-threading, the overhead of testing was 0.006838 seconds.\n",
            "You can set `force_row_wise=true` to remove the overhead.\n",
            "And if memory is not enough, you can set `force_col_wise=true`.\n",
            "[LightGBM] [Info] Total Bins 1917\n",
            "[LightGBM] [Info] Number of data points in the train set: 293953, number of used features: 15\n",
            "[LightGBM] [Info] Start training from score 61.822064\n",
            "[LightGBM] [Warning] Auto-choosing col-wise multi-threading, the overhead of testing was 0.066286 seconds.\n",
            "You can set `force_col_wise=true` to remove the overhead.\n",
            "[LightGBM] [Info] Total Bins 1917\n",
            "[LightGBM] [Info] Number of data points in the train set: 293953, number of used features: 15\n",
            "[LightGBM] [Info] Start training from score 62.044190\n"
          ]
        },
        {
          "output_type": "stream",
          "name": "stderr",
          "text": [
            "[I 2023-10-10 14:45:14,006] Trial 5 finished with value: 33.024559949473215 and parameters: {'num_leaves': 256, 'max_depth': 19, 'learning_rate': 0.16758761291144933, 'n_estimators': 430, 'min_child_samples': 11, 'colsample_bytree': 0.5547260419385055}. Best is trial 0 with value: 32.41418144358808.\n"
          ]
        },
        {
          "output_type": "stream",
          "name": "stdout",
          "text": [
            "[LightGBM] [Warning] Auto-choosing col-wise multi-threading, the overhead of testing was 0.063871 seconds.\n",
            "You can set `force_col_wise=true` to remove the overhead.\n",
            "[LightGBM] [Info] Total Bins 1919\n",
            "[LightGBM] [Info] Number of data points in the train set: 293952, number of used features: 15\n",
            "[LightGBM] [Info] Start training from score 61.807473\n",
            "[LightGBM] [Warning] No further splits with positive gain, best gain: -inf\n",
            "[LightGBM] [Warning] No further splits with positive gain, best gain: -inf\n",
            "[LightGBM] [Warning] Auto-choosing col-wise multi-threading, the overhead of testing was 0.040898 seconds.\n",
            "You can set `force_col_wise=true` to remove the overhead.\n",
            "[LightGBM] [Info] Total Bins 1918\n",
            "[LightGBM] [Info] Number of data points in the train set: 293953, number of used features: 15\n",
            "[LightGBM] [Info] Start training from score 62.051334\n",
            "[LightGBM] [Warning] Auto-choosing col-wise multi-threading, the overhead of testing was 0.041101 seconds.\n",
            "You can set `force_col_wise=true` to remove the overhead.\n",
            "[LightGBM] [Info] Total Bins 1915\n",
            "[LightGBM] [Info] Number of data points in the train set: 293953, number of used features: 15\n",
            "[LightGBM] [Info] Start training from score 61.660527\n",
            "[LightGBM] [Warning] Auto-choosing row-wise multi-threading, the overhead of testing was 0.007070 seconds.\n",
            "You can set `force_row_wise=true` to remove the overhead.\n",
            "And if memory is not enough, you can set `force_col_wise=true`.\n",
            "[LightGBM] [Info] Total Bins 1917\n",
            "[LightGBM] [Info] Number of data points in the train set: 293953, number of used features: 15\n",
            "[LightGBM] [Info] Start training from score 61.822064\n",
            "[LightGBM] [Warning] Auto-choosing col-wise multi-threading, the overhead of testing was 0.039273 seconds.\n",
            "You can set `force_col_wise=true` to remove the overhead.\n",
            "[LightGBM] [Info] Total Bins 1917\n",
            "[LightGBM] [Info] Number of data points in the train set: 293953, number of used features: 15\n",
            "[LightGBM] [Info] Start training from score 62.044190\n"
          ]
        },
        {
          "output_type": "stream",
          "name": "stderr",
          "text": [
            "[I 2023-10-10 14:47:11,552] Trial 6 finished with value: 34.06230186926541 and parameters: {'num_leaves': 512, 'max_depth': 24, 'learning_rate': 0.14450007146923216, 'n_estimators': 321, 'min_child_samples': 81, 'colsample_bytree': 0.5411529433537734}. Best is trial 0 with value: 32.41418144358808.\n"
          ]
        },
        {
          "output_type": "stream",
          "name": "stdout",
          "text": [
            "[LightGBM] [Warning] Auto-choosing col-wise multi-threading, the overhead of testing was 0.075484 seconds.\n",
            "You can set `force_col_wise=true` to remove the overhead.\n",
            "[LightGBM] [Info] Total Bins 1919\n",
            "[LightGBM] [Info] Number of data points in the train set: 293952, number of used features: 15\n",
            "[LightGBM] [Info] Start training from score 61.807473\n",
            "[LightGBM] [Warning] Auto-choosing col-wise multi-threading, the overhead of testing was 0.045488 seconds.\n",
            "You can set `force_col_wise=true` to remove the overhead.\n",
            "[LightGBM] [Info] Total Bins 1918\n",
            "[LightGBM] [Info] Number of data points in the train set: 293953, number of used features: 15\n",
            "[LightGBM] [Info] Start training from score 62.051334\n",
            "[LightGBM] [Warning] Auto-choosing col-wise multi-threading, the overhead of testing was 0.046469 seconds.\n",
            "You can set `force_col_wise=true` to remove the overhead.\n",
            "[LightGBM] [Info] Total Bins 1915\n",
            "[LightGBM] [Info] Number of data points in the train set: 293953, number of used features: 15\n",
            "[LightGBM] [Info] Start training from score 61.660527\n",
            "[LightGBM] [Warning] Auto-choosing col-wise multi-threading, the overhead of testing was 0.046932 seconds.\n",
            "You can set `force_col_wise=true` to remove the overhead.\n",
            "[LightGBM] [Info] Total Bins 1917\n",
            "[LightGBM] [Info] Number of data points in the train set: 293953, number of used features: 15\n",
            "[LightGBM] [Info] Start training from score 61.822064\n",
            "[LightGBM] [Warning] Auto-choosing col-wise multi-threading, the overhead of testing was 0.044043 seconds.\n",
            "You can set `force_col_wise=true` to remove the overhead.\n",
            "[LightGBM] [Info] Total Bins 1917\n",
            "[LightGBM] [Info] Number of data points in the train set: 293953, number of used features: 15\n",
            "[LightGBM] [Info] Start training from score 62.044190\n"
          ]
        },
        {
          "output_type": "stream",
          "name": "stderr",
          "text": [
            "[I 2023-10-10 14:47:25,985] Trial 7 finished with value: 47.1083107088315 and parameters: {'num_leaves': 128, 'max_depth': 16, 'learning_rate': 0.22435841243084811, 'n_estimators': 51, 'min_child_samples': 91, 'colsample_bytree': 0.7063517031690573}. Best is trial 0 with value: 32.41418144358808.\n"
          ]
        },
        {
          "output_type": "stream",
          "name": "stdout",
          "text": [
            "[LightGBM] [Warning] Auto-choosing col-wise multi-threading, the overhead of testing was 0.070449 seconds.\n",
            "You can set `force_col_wise=true` to remove the overhead.\n",
            "[LightGBM] [Info] Total Bins 1919\n",
            "[LightGBM] [Info] Number of data points in the train set: 293952, number of used features: 15\n",
            "[LightGBM] [Info] Start training from score 61.807473\n",
            "[LightGBM] [Warning] Auto-choosing col-wise multi-threading, the overhead of testing was 0.043713 seconds.\n",
            "You can set `force_col_wise=true` to remove the overhead.\n",
            "[LightGBM] [Info] Total Bins 1918\n",
            "[LightGBM] [Info] Number of data points in the train set: 293953, number of used features: 15\n",
            "[LightGBM] [Info] Start training from score 62.051334\n",
            "[LightGBM] [Warning] Auto-choosing col-wise multi-threading, the overhead of testing was 0.043185 seconds.\n",
            "You can set `force_col_wise=true` to remove the overhead.\n",
            "[LightGBM] [Info] Total Bins 1915\n",
            "[LightGBM] [Info] Number of data points in the train set: 293953, number of used features: 15\n",
            "[LightGBM] [Info] Start training from score 61.660527\n",
            "[LightGBM] [Warning] Auto-choosing col-wise multi-threading, the overhead of testing was 0.045319 seconds.\n",
            "You can set `force_col_wise=true` to remove the overhead.\n",
            "[LightGBM] [Info] Total Bins 1917\n",
            "[LightGBM] [Info] Number of data points in the train set: 293953, number of used features: 15\n",
            "[LightGBM] [Info] Start training from score 61.822064\n",
            "[LightGBM] [Warning] Auto-choosing col-wise multi-threading, the overhead of testing was 0.043665 seconds.\n",
            "You can set `force_col_wise=true` to remove the overhead.\n",
            "[LightGBM] [Info] Total Bins 1917\n",
            "[LightGBM] [Info] Number of data points in the train set: 293953, number of used features: 15\n",
            "[LightGBM] [Info] Start training from score 62.044190\n"
          ]
        },
        {
          "output_type": "stream",
          "name": "stderr",
          "text": [
            "[I 2023-10-10 14:48:22,807] Trial 8 finished with value: 43.01475941237605 and parameters: {'num_leaves': 128, 'max_depth': 22, 'learning_rate': 0.05576685125224577, 'n_estimators': 311, 'min_child_samples': 46, 'colsample_bytree': 0.6591930515908095}. Best is trial 0 with value: 32.41418144358808.\n"
          ]
        },
        {
          "output_type": "stream",
          "name": "stdout",
          "text": [
            "[LightGBM] [Warning] Auto-choosing col-wise multi-threading, the overhead of testing was 0.069053 seconds.\n",
            "You can set `force_col_wise=true` to remove the overhead.\n",
            "[LightGBM] [Info] Total Bins 1919\n",
            "[LightGBM] [Info] Number of data points in the train set: 293952, number of used features: 15\n",
            "[LightGBM] [Info] Start training from score 61.807473\n",
            "[LightGBM] [Warning] No further splits with positive gain, best gain: -inf\n",
            "[LightGBM] [Warning] No further splits with positive gain, best gain: -inf\n",
            "[LightGBM] [Warning] No further splits with positive gain, best gain: -inf\n",
            "[LightGBM] [Warning] No further splits with positive gain, best gain: -inf\n",
            "[LightGBM] [Warning] No further splits with positive gain, best gain: -inf\n",
            "[LightGBM] [Warning] No further splits with positive gain, best gain: -inf\n",
            "[LightGBM] [Warning] No further splits with positive gain, best gain: -inf\n",
            "[LightGBM] [Warning] No further splits with positive gain, best gain: -inf\n",
            "[LightGBM] [Warning] No further splits with positive gain, best gain: -inf\n",
            "[LightGBM] [Warning] No further splits with positive gain, best gain: -inf\n",
            "[LightGBM] [Warning] No further splits with positive gain, best gain: -inf\n",
            "[LightGBM] [Warning] No further splits with positive gain, best gain: -inf\n",
            "[LightGBM] [Warning] No further splits with positive gain, best gain: -inf\n",
            "[LightGBM] [Warning] No further splits with positive gain, best gain: -inf\n",
            "[LightGBM] [Warning] No further splits with positive gain, best gain: -inf\n",
            "[LightGBM] [Warning] No further splits with positive gain, best gain: -inf\n",
            "[LightGBM] [Warning] No further splits with positive gain, best gain: -inf\n",
            "[LightGBM] [Warning] No further splits with positive gain, best gain: -inf\n",
            "[LightGBM] [Warning] No further splits with positive gain, best gain: -inf\n",
            "[LightGBM] [Warning] No further splits with positive gain, best gain: -inf\n",
            "[LightGBM] [Warning] No further splits with positive gain, best gain: -inf\n",
            "[LightGBM] [Warning] No further splits with positive gain, best gain: -inf\n",
            "[LightGBM] [Warning] No further splits with positive gain, best gain: -inf\n",
            "[LightGBM] [Warning] No further splits with positive gain, best gain: -inf\n",
            "[LightGBM] [Warning] No further splits with positive gain, best gain: -inf\n",
            "[LightGBM] [Warning] No further splits with positive gain, best gain: -inf\n",
            "[LightGBM] [Warning] No further splits with positive gain, best gain: -inf\n",
            "[LightGBM] [Warning] No further splits with positive gain, best gain: -inf\n",
            "[LightGBM] [Warning] No further splits with positive gain, best gain: -inf\n",
            "[LightGBM] [Warning] No further splits with positive gain, best gain: -inf\n",
            "[LightGBM] [Warning] No further splits with positive gain, best gain: -inf\n",
            "[LightGBM] [Warning] No further splits with positive gain, best gain: -inf\n",
            "[LightGBM] [Warning] No further splits with positive gain, best gain: -inf\n",
            "[LightGBM] [Warning] No further splits with positive gain, best gain: -inf\n",
            "[LightGBM] [Warning] No further splits with positive gain, best gain: -inf\n",
            "[LightGBM] [Warning] No further splits with positive gain, best gain: -inf\n",
            "[LightGBM] [Warning] No further splits with positive gain, best gain: -inf\n",
            "[LightGBM] [Warning] No further splits with positive gain, best gain: -inf\n",
            "[LightGBM] [Warning] No further splits with positive gain, best gain: -inf\n",
            "[LightGBM] [Warning] No further splits with positive gain, best gain: -inf\n",
            "[LightGBM] [Warning] No further splits with positive gain, best gain: -inf\n",
            "[LightGBM] [Warning] No further splits with positive gain, best gain: -inf\n",
            "[LightGBM] [Warning] No further splits with positive gain, best gain: -inf\n",
            "[LightGBM] [Warning] No further splits with positive gain, best gain: -inf\n",
            "[LightGBM] [Warning] No further splits with positive gain, best gain: -inf\n",
            "[LightGBM] [Warning] No further splits with positive gain, best gain: -inf\n",
            "[LightGBM] [Warning] No further splits with positive gain, best gain: -inf\n",
            "[LightGBM] [Warning] No further splits with positive gain, best gain: -inf\n",
            "[LightGBM] [Warning] No further splits with positive gain, best gain: -inf\n",
            "[LightGBM] [Warning] No further splits with positive gain, best gain: -inf\n",
            "[LightGBM] [Warning] No further splits with positive gain, best gain: -inf\n",
            "[LightGBM] [Warning] No further splits with positive gain, best gain: -inf\n",
            "[LightGBM] [Warning] No further splits with positive gain, best gain: -inf\n",
            "[LightGBM] [Warning] No further splits with positive gain, best gain: -inf\n",
            "[LightGBM] [Warning] No further splits with positive gain, best gain: -inf\n",
            "[LightGBM] [Warning] No further splits with positive gain, best gain: -inf\n",
            "[LightGBM] [Warning] No further splits with positive gain, best gain: -inf\n",
            "[LightGBM] [Warning] No further splits with positive gain, best gain: -inf\n",
            "[LightGBM] [Warning] No further splits with positive gain, best gain: -inf\n",
            "[LightGBM] [Warning] No further splits with positive gain, best gain: -inf\n",
            "[LightGBM] [Warning] No further splits with positive gain, best gain: -inf\n",
            "[LightGBM] [Warning] Auto-choosing col-wise multi-threading, the overhead of testing was 0.045523 seconds.\n",
            "You can set `force_col_wise=true` to remove the overhead.\n",
            "[LightGBM] [Info] Total Bins 1918\n",
            "[LightGBM] [Info] Number of data points in the train set: 293953, number of used features: 15\n",
            "[LightGBM] [Info] Start training from score 62.051334\n",
            "[LightGBM] [Warning] No further splits with positive gain, best gain: -inf\n",
            "[LightGBM] [Warning] No further splits with positive gain, best gain: -inf\n",
            "[LightGBM] [Warning] No further splits with positive gain, best gain: -inf\n",
            "[LightGBM] [Warning] No further splits with positive gain, best gain: -inf\n",
            "[LightGBM] [Warning] No further splits with positive gain, best gain: -inf\n",
            "[LightGBM] [Warning] No further splits with positive gain, best gain: -inf\n",
            "[LightGBM] [Warning] No further splits with positive gain, best gain: -inf\n",
            "[LightGBM] [Warning] No further splits with positive gain, best gain: -inf\n",
            "[LightGBM] [Warning] No further splits with positive gain, best gain: -inf\n",
            "[LightGBM] [Warning] No further splits with positive gain, best gain: -inf\n",
            "[LightGBM] [Warning] No further splits with positive gain, best gain: -inf\n",
            "[LightGBM] [Warning] No further splits with positive gain, best gain: -inf\n",
            "[LightGBM] [Warning] No further splits with positive gain, best gain: -inf\n",
            "[LightGBM] [Warning] No further splits with positive gain, best gain: -inf\n",
            "[LightGBM] [Warning] No further splits with positive gain, best gain: -inf\n",
            "[LightGBM] [Warning] No further splits with positive gain, best gain: -inf\n",
            "[LightGBM] [Warning] No further splits with positive gain, best gain: -inf\n",
            "[LightGBM] [Warning] No further splits with positive gain, best gain: -inf\n",
            "[LightGBM] [Warning] No further splits with positive gain, best gain: -inf\n",
            "[LightGBM] [Warning] No further splits with positive gain, best gain: -inf\n",
            "[LightGBM] [Warning] No further splits with positive gain, best gain: -inf\n",
            "[LightGBM] [Warning] No further splits with positive gain, best gain: -inf\n",
            "[LightGBM] [Warning] No further splits with positive gain, best gain: -inf\n",
            "[LightGBM] [Warning] No further splits with positive gain, best gain: -inf\n",
            "[LightGBM] [Warning] No further splits with positive gain, best gain: -inf\n",
            "[LightGBM] [Warning] No further splits with positive gain, best gain: -inf\n",
            "[LightGBM] [Warning] No further splits with positive gain, best gain: -inf\n",
            "[LightGBM] [Warning] No further splits with positive gain, best gain: -inf\n",
            "[LightGBM] [Warning] No further splits with positive gain, best gain: -inf\n",
            "[LightGBM] [Warning] No further splits with positive gain, best gain: -inf\n",
            "[LightGBM] [Warning] No further splits with positive gain, best gain: -inf\n",
            "[LightGBM] [Warning] No further splits with positive gain, best gain: -inf\n",
            "[LightGBM] [Warning] No further splits with positive gain, best gain: -inf\n",
            "[LightGBM] [Warning] No further splits with positive gain, best gain: -inf\n",
            "[LightGBM] [Warning] No further splits with positive gain, best gain: -inf\n",
            "[LightGBM] [Warning] No further splits with positive gain, best gain: -inf\n",
            "[LightGBM] [Warning] No further splits with positive gain, best gain: -inf\n",
            "[LightGBM] [Warning] No further splits with positive gain, best gain: -inf\n",
            "[LightGBM] [Warning] No further splits with positive gain, best gain: -inf\n",
            "[LightGBM] [Warning] No further splits with positive gain, best gain: -inf\n",
            "[LightGBM] [Warning] No further splits with positive gain, best gain: -inf\n",
            "[LightGBM] [Warning] No further splits with positive gain, best gain: -inf\n",
            "[LightGBM] [Warning] No further splits with positive gain, best gain: -inf\n",
            "[LightGBM] [Warning] No further splits with positive gain, best gain: -inf\n",
            "[LightGBM] [Warning] No further splits with positive gain, best gain: -inf\n",
            "[LightGBM] [Warning] No further splits with positive gain, best gain: -inf\n",
            "[LightGBM] [Warning] No further splits with positive gain, best gain: -inf\n",
            "[LightGBM] [Warning] No further splits with positive gain, best gain: -inf\n",
            "[LightGBM] [Warning] No further splits with positive gain, best gain: -inf\n",
            "[LightGBM] [Warning] No further splits with positive gain, best gain: -inf\n",
            "[LightGBM] [Warning] No further splits with positive gain, best gain: -inf\n",
            "[LightGBM] [Warning] No further splits with positive gain, best gain: -inf\n",
            "[LightGBM] [Warning] No further splits with positive gain, best gain: -inf\n",
            "[LightGBM] [Warning] No further splits with positive gain, best gain: -inf\n",
            "[LightGBM] [Warning] No further splits with positive gain, best gain: -inf\n",
            "[LightGBM] [Warning] No further splits with positive gain, best gain: -inf\n",
            "[LightGBM] [Warning] No further splits with positive gain, best gain: -inf\n",
            "[LightGBM] [Warning] No further splits with positive gain, best gain: -inf\n",
            "[LightGBM] [Warning] No further splits with positive gain, best gain: -inf\n",
            "[LightGBM] [Warning] No further splits with positive gain, best gain: -inf\n",
            "[LightGBM] [Warning] No further splits with positive gain, best gain: -inf\n",
            "[LightGBM] [Warning] Auto-choosing col-wise multi-threading, the overhead of testing was 0.043861 seconds.\n",
            "You can set `force_col_wise=true` to remove the overhead.\n",
            "[LightGBM] [Info] Total Bins 1915\n",
            "[LightGBM] [Info] Number of data points in the train set: 293953, number of used features: 15\n",
            "[LightGBM] [Info] Start training from score 61.660527\n",
            "[LightGBM] [Warning] No further splits with positive gain, best gain: -inf\n",
            "[LightGBM] [Warning] No further splits with positive gain, best gain: -inf\n",
            "[LightGBM] [Warning] No further splits with positive gain, best gain: -inf\n",
            "[LightGBM] [Warning] No further splits with positive gain, best gain: -inf\n",
            "[LightGBM] [Warning] No further splits with positive gain, best gain: -inf\n",
            "[LightGBM] [Warning] No further splits with positive gain, best gain: -inf\n",
            "[LightGBM] [Warning] No further splits with positive gain, best gain: -inf\n",
            "[LightGBM] [Warning] No further splits with positive gain, best gain: -inf\n",
            "[LightGBM] [Warning] No further splits with positive gain, best gain: -inf\n",
            "[LightGBM] [Warning] No further splits with positive gain, best gain: -inf\n",
            "[LightGBM] [Warning] No further splits with positive gain, best gain: -inf\n",
            "[LightGBM] [Warning] No further splits with positive gain, best gain: -inf\n",
            "[LightGBM] [Warning] No further splits with positive gain, best gain: -inf\n",
            "[LightGBM] [Warning] No further splits with positive gain, best gain: -inf\n",
            "[LightGBM] [Warning] No further splits with positive gain, best gain: -inf\n",
            "[LightGBM] [Warning] No further splits with positive gain, best gain: -inf\n",
            "[LightGBM] [Warning] No further splits with positive gain, best gain: -inf\n",
            "[LightGBM] [Warning] No further splits with positive gain, best gain: -inf\n",
            "[LightGBM] [Warning] No further splits with positive gain, best gain: -inf\n",
            "[LightGBM] [Warning] No further splits with positive gain, best gain: -inf\n",
            "[LightGBM] [Warning] No further splits with positive gain, best gain: -inf\n",
            "[LightGBM] [Warning] No further splits with positive gain, best gain: -inf\n",
            "[LightGBM] [Warning] No further splits with positive gain, best gain: -inf\n",
            "[LightGBM] [Warning] No further splits with positive gain, best gain: -inf\n",
            "[LightGBM] [Warning] No further splits with positive gain, best gain: -inf\n",
            "[LightGBM] [Warning] No further splits with positive gain, best gain: -inf\n",
            "[LightGBM] [Warning] No further splits with positive gain, best gain: -inf\n",
            "[LightGBM] [Warning] No further splits with positive gain, best gain: -inf\n",
            "[LightGBM] [Warning] No further splits with positive gain, best gain: -inf\n",
            "[LightGBM] [Warning] No further splits with positive gain, best gain: -inf\n",
            "[LightGBM] [Warning] No further splits with positive gain, best gain: -inf\n",
            "[LightGBM] [Warning] No further splits with positive gain, best gain: -inf\n",
            "[LightGBM] [Warning] No further splits with positive gain, best gain: -inf\n",
            "[LightGBM] [Warning] No further splits with positive gain, best gain: -inf\n",
            "[LightGBM] [Warning] No further splits with positive gain, best gain: -inf\n",
            "[LightGBM] [Warning] No further splits with positive gain, best gain: -inf\n",
            "[LightGBM] [Warning] No further splits with positive gain, best gain: -inf\n",
            "[LightGBM] [Warning] No further splits with positive gain, best gain: -inf\n",
            "[LightGBM] [Warning] No further splits with positive gain, best gain: -inf\n",
            "[LightGBM] [Warning] No further splits with positive gain, best gain: -inf\n",
            "[LightGBM] [Warning] No further splits with positive gain, best gain: -inf\n",
            "[LightGBM] [Warning] No further splits with positive gain, best gain: -inf\n",
            "[LightGBM] [Warning] No further splits with positive gain, best gain: -inf\n",
            "[LightGBM] [Warning] No further splits with positive gain, best gain: -inf\n",
            "[LightGBM] [Warning] No further splits with positive gain, best gain: -inf\n",
            "[LightGBM] [Warning] No further splits with positive gain, best gain: -inf\n",
            "[LightGBM] [Warning] No further splits with positive gain, best gain: -inf\n",
            "[LightGBM] [Warning] No further splits with positive gain, best gain: -inf\n",
            "[LightGBM] [Warning] No further splits with positive gain, best gain: -inf\n",
            "[LightGBM] [Warning] No further splits with positive gain, best gain: -inf\n",
            "[LightGBM] [Warning] No further splits with positive gain, best gain: -inf\n",
            "[LightGBM] [Warning] No further splits with positive gain, best gain: -inf\n",
            "[LightGBM] [Warning] No further splits with positive gain, best gain: -inf\n",
            "[LightGBM] [Warning] No further splits with positive gain, best gain: -inf\n",
            "[LightGBM] [Warning] No further splits with positive gain, best gain: -inf\n",
            "[LightGBM] [Warning] No further splits with positive gain, best gain: -inf\n",
            "[LightGBM] [Warning] No further splits with positive gain, best gain: -inf\n",
            "[LightGBM] [Warning] No further splits with positive gain, best gain: -inf\n",
            "[LightGBM] [Warning] No further splits with positive gain, best gain: -inf\n",
            "[LightGBM] [Warning] No further splits with positive gain, best gain: -inf\n",
            "[LightGBM] [Warning] No further splits with positive gain, best gain: -inf\n",
            "[LightGBM] [Warning] Auto-choosing col-wise multi-threading, the overhead of testing was 0.043356 seconds.\n",
            "You can set `force_col_wise=true` to remove the overhead.\n",
            "[LightGBM] [Info] Total Bins 1917\n",
            "[LightGBM] [Info] Number of data points in the train set: 293953, number of used features: 15\n",
            "[LightGBM] [Info] Start training from score 61.822064\n",
            "[LightGBM] [Warning] No further splits with positive gain, best gain: -inf\n",
            "[LightGBM] [Warning] No further splits with positive gain, best gain: -inf\n",
            "[LightGBM] [Warning] No further splits with positive gain, best gain: -inf\n",
            "[LightGBM] [Warning] No further splits with positive gain, best gain: -inf\n",
            "[LightGBM] [Warning] No further splits with positive gain, best gain: -inf\n",
            "[LightGBM] [Warning] No further splits with positive gain, best gain: -inf\n",
            "[LightGBM] [Warning] No further splits with positive gain, best gain: -inf\n",
            "[LightGBM] [Warning] No further splits with positive gain, best gain: -inf\n",
            "[LightGBM] [Warning] No further splits with positive gain, best gain: -inf\n",
            "[LightGBM] [Warning] No further splits with positive gain, best gain: -inf\n",
            "[LightGBM] [Warning] No further splits with positive gain, best gain: -inf\n",
            "[LightGBM] [Warning] No further splits with positive gain, best gain: -inf\n",
            "[LightGBM] [Warning] No further splits with positive gain, best gain: -inf\n",
            "[LightGBM] [Warning] No further splits with positive gain, best gain: -inf\n",
            "[LightGBM] [Warning] No further splits with positive gain, best gain: -inf\n",
            "[LightGBM] [Warning] No further splits with positive gain, best gain: -inf\n",
            "[LightGBM] [Warning] No further splits with positive gain, best gain: -inf\n",
            "[LightGBM] [Warning] No further splits with positive gain, best gain: -inf\n",
            "[LightGBM] [Warning] No further splits with positive gain, best gain: -inf\n",
            "[LightGBM] [Warning] No further splits with positive gain, best gain: -inf\n",
            "[LightGBM] [Warning] No further splits with positive gain, best gain: -inf\n",
            "[LightGBM] [Warning] No further splits with positive gain, best gain: -inf\n",
            "[LightGBM] [Warning] No further splits with positive gain, best gain: -inf\n",
            "[LightGBM] [Warning] No further splits with positive gain, best gain: -inf\n",
            "[LightGBM] [Warning] No further splits with positive gain, best gain: -inf\n",
            "[LightGBM] [Warning] No further splits with positive gain, best gain: -inf\n",
            "[LightGBM] [Warning] No further splits with positive gain, best gain: -inf\n",
            "[LightGBM] [Warning] No further splits with positive gain, best gain: -inf\n",
            "[LightGBM] [Warning] No further splits with positive gain, best gain: -inf\n",
            "[LightGBM] [Warning] No further splits with positive gain, best gain: -inf\n",
            "[LightGBM] [Warning] No further splits with positive gain, best gain: -inf\n",
            "[LightGBM] [Warning] No further splits with positive gain, best gain: -inf\n",
            "[LightGBM] [Warning] No further splits with positive gain, best gain: -inf\n",
            "[LightGBM] [Warning] No further splits with positive gain, best gain: -inf\n",
            "[LightGBM] [Warning] No further splits with positive gain, best gain: -inf\n",
            "[LightGBM] [Warning] No further splits with positive gain, best gain: -inf\n",
            "[LightGBM] [Warning] No further splits with positive gain, best gain: -inf\n",
            "[LightGBM] [Warning] No further splits with positive gain, best gain: -inf\n",
            "[LightGBM] [Warning] No further splits with positive gain, best gain: -inf\n",
            "[LightGBM] [Warning] No further splits with positive gain, best gain: -inf\n",
            "[LightGBM] [Warning] No further splits with positive gain, best gain: -inf\n",
            "[LightGBM] [Warning] No further splits with positive gain, best gain: -inf\n",
            "[LightGBM] [Warning] No further splits with positive gain, best gain: -inf\n",
            "[LightGBM] [Warning] No further splits with positive gain, best gain: -inf\n",
            "[LightGBM] [Warning] No further splits with positive gain, best gain: -inf\n",
            "[LightGBM] [Warning] No further splits with positive gain, best gain: -inf\n",
            "[LightGBM] [Warning] No further splits with positive gain, best gain: -inf\n",
            "[LightGBM] [Warning] No further splits with positive gain, best gain: -inf\n",
            "[LightGBM] [Warning] No further splits with positive gain, best gain: -inf\n",
            "[LightGBM] [Warning] No further splits with positive gain, best gain: -inf\n",
            "[LightGBM] [Warning] No further splits with positive gain, best gain: -inf\n",
            "[LightGBM] [Warning] No further splits with positive gain, best gain: -inf\n",
            "[LightGBM] [Warning] No further splits with positive gain, best gain: -inf\n",
            "[LightGBM] [Warning] No further splits with positive gain, best gain: -inf\n",
            "[LightGBM] [Warning] No further splits with positive gain, best gain: -inf\n",
            "[LightGBM] [Warning] No further splits with positive gain, best gain: -inf\n",
            "[LightGBM] [Warning] No further splits with positive gain, best gain: -inf\n",
            "[LightGBM] [Warning] No further splits with positive gain, best gain: -inf\n",
            "[LightGBM] [Warning] No further splits with positive gain, best gain: -inf\n",
            "[LightGBM] [Warning] No further splits with positive gain, best gain: -inf\n",
            "[LightGBM] [Warning] No further splits with positive gain, best gain: -inf\n",
            "[LightGBM] [Warning] Auto-choosing col-wise multi-threading, the overhead of testing was 0.044187 seconds.\n",
            "You can set `force_col_wise=true` to remove the overhead.\n",
            "[LightGBM] [Info] Total Bins 1917\n",
            "[LightGBM] [Info] Number of data points in the train set: 293953, number of used features: 15\n",
            "[LightGBM] [Info] Start training from score 62.044190\n",
            "[LightGBM] [Warning] No further splits with positive gain, best gain: -inf\n",
            "[LightGBM] [Warning] No further splits with positive gain, best gain: -inf\n",
            "[LightGBM] [Warning] No further splits with positive gain, best gain: -inf\n",
            "[LightGBM] [Warning] No further splits with positive gain, best gain: -inf\n",
            "[LightGBM] [Warning] No further splits with positive gain, best gain: -inf\n",
            "[LightGBM] [Warning] No further splits with positive gain, best gain: -inf\n",
            "[LightGBM] [Warning] No further splits with positive gain, best gain: -inf\n",
            "[LightGBM] [Warning] No further splits with positive gain, best gain: -inf\n",
            "[LightGBM] [Warning] No further splits with positive gain, best gain: -inf\n",
            "[LightGBM] [Warning] No further splits with positive gain, best gain: -inf\n",
            "[LightGBM] [Warning] No further splits with positive gain, best gain: -inf\n",
            "[LightGBM] [Warning] No further splits with positive gain, best gain: -inf\n",
            "[LightGBM] [Warning] No further splits with positive gain, best gain: -inf\n",
            "[LightGBM] [Warning] No further splits with positive gain, best gain: -inf\n",
            "[LightGBM] [Warning] No further splits with positive gain, best gain: -inf\n",
            "[LightGBM] [Warning] No further splits with positive gain, best gain: -inf\n",
            "[LightGBM] [Warning] No further splits with positive gain, best gain: -inf\n",
            "[LightGBM] [Warning] No further splits with positive gain, best gain: -inf\n",
            "[LightGBM] [Warning] No further splits with positive gain, best gain: -inf\n",
            "[LightGBM] [Warning] No further splits with positive gain, best gain: -inf\n",
            "[LightGBM] [Warning] No further splits with positive gain, best gain: -inf\n",
            "[LightGBM] [Warning] No further splits with positive gain, best gain: -inf\n",
            "[LightGBM] [Warning] No further splits with positive gain, best gain: -inf\n",
            "[LightGBM] [Warning] No further splits with positive gain, best gain: -inf\n",
            "[LightGBM] [Warning] No further splits with positive gain, best gain: -inf\n",
            "[LightGBM] [Warning] No further splits with positive gain, best gain: -inf\n",
            "[LightGBM] [Warning] No further splits with positive gain, best gain: -inf\n",
            "[LightGBM] [Warning] No further splits with positive gain, best gain: -inf\n",
            "[LightGBM] [Warning] No further splits with positive gain, best gain: -inf\n",
            "[LightGBM] [Warning] No further splits with positive gain, best gain: -inf\n",
            "[LightGBM] [Warning] No further splits with positive gain, best gain: -inf\n",
            "[LightGBM] [Warning] No further splits with positive gain, best gain: -inf\n",
            "[LightGBM] [Warning] No further splits with positive gain, best gain: -inf\n",
            "[LightGBM] [Warning] No further splits with positive gain, best gain: -inf\n",
            "[LightGBM] [Warning] No further splits with positive gain, best gain: -inf\n",
            "[LightGBM] [Warning] No further splits with positive gain, best gain: -inf\n",
            "[LightGBM] [Warning] No further splits with positive gain, best gain: -inf\n",
            "[LightGBM] [Warning] No further splits with positive gain, best gain: -inf\n",
            "[LightGBM] [Warning] No further splits with positive gain, best gain: -inf\n",
            "[LightGBM] [Warning] No further splits with positive gain, best gain: -inf\n",
            "[LightGBM] [Warning] No further splits with positive gain, best gain: -inf\n",
            "[LightGBM] [Warning] No further splits with positive gain, best gain: -inf\n",
            "[LightGBM] [Warning] No further splits with positive gain, best gain: -inf\n",
            "[LightGBM] [Warning] No further splits with positive gain, best gain: -inf\n",
            "[LightGBM] [Warning] No further splits with positive gain, best gain: -inf\n",
            "[LightGBM] [Warning] No further splits with positive gain, best gain: -inf\n",
            "[LightGBM] [Warning] No further splits with positive gain, best gain: -inf\n",
            "[LightGBM] [Warning] No further splits with positive gain, best gain: -inf\n",
            "[LightGBM] [Warning] No further splits with positive gain, best gain: -inf\n",
            "[LightGBM] [Warning] No further splits with positive gain, best gain: -inf\n",
            "[LightGBM] [Warning] No further splits with positive gain, best gain: -inf\n",
            "[LightGBM] [Warning] No further splits with positive gain, best gain: -inf\n",
            "[LightGBM] [Warning] No further splits with positive gain, best gain: -inf\n",
            "[LightGBM] [Warning] No further splits with positive gain, best gain: -inf\n",
            "[LightGBM] [Warning] No further splits with positive gain, best gain: -inf\n",
            "[LightGBM] [Warning] No further splits with positive gain, best gain: -inf\n",
            "[LightGBM] [Warning] No further splits with positive gain, best gain: -inf\n",
            "[LightGBM] [Warning] No further splits with positive gain, best gain: -inf\n",
            "[LightGBM] [Warning] No further splits with positive gain, best gain: -inf\n",
            "[LightGBM] [Warning] No further splits with positive gain, best gain: -inf\n",
            "[LightGBM] [Warning] No further splits with positive gain, best gain: -inf\n"
          ]
        },
        {
          "output_type": "stream",
          "name": "stderr",
          "text": [
            "[I 2023-10-10 14:48:45,527] Trial 9 finished with value: 53.0044359417207 and parameters: {'num_leaves': 512, 'max_depth': 10, 'learning_rate': 0.08815810910018407, 'n_estimators': 61, 'min_child_samples': 64, 'colsample_bytree': 0.7227585165228847}. Best is trial 0 with value: 32.41418144358808.\n"
          ]
        },
        {
          "output_type": "stream",
          "name": "stdout",
          "text": [
            "[LightGBM] [Warning] Auto-choosing col-wise multi-threading, the overhead of testing was 0.044841 seconds.\n",
            "You can set `force_col_wise=true` to remove the overhead.\n",
            "[LightGBM] [Info] Total Bins 1919\n",
            "[LightGBM] [Info] Number of data points in the train set: 293952, number of used features: 15\n",
            "[LightGBM] [Info] Start training from score 61.807473\n",
            "[LightGBM] [Warning] Auto-choosing col-wise multi-threading, the overhead of testing was 0.044705 seconds.\n",
            "You can set `force_col_wise=true` to remove the overhead.\n",
            "[LightGBM] [Info] Total Bins 1918\n",
            "[LightGBM] [Info] Number of data points in the train set: 293953, number of used features: 15\n",
            "[LightGBM] [Info] Start training from score 62.051334\n",
            "[LightGBM] [Warning] Auto-choosing col-wise multi-threading, the overhead of testing was 0.074247 seconds.\n",
            "You can set `force_col_wise=true` to remove the overhead.\n",
            "[LightGBM] [Info] Total Bins 1915\n",
            "[LightGBM] [Info] Number of data points in the train set: 293953, number of used features: 15\n",
            "[LightGBM] [Info] Start training from score 61.660527\n",
            "[LightGBM] [Warning] Auto-choosing col-wise multi-threading, the overhead of testing was 0.046067 seconds.\n",
            "You can set `force_col_wise=true` to remove the overhead.\n",
            "[LightGBM] [Info] Total Bins 1917\n",
            "[LightGBM] [Info] Number of data points in the train set: 293953, number of used features: 15\n",
            "[LightGBM] [Info] Start training from score 61.822064\n",
            "[LightGBM] [Warning] Auto-choosing col-wise multi-threading, the overhead of testing was 0.052037 seconds.\n",
            "You can set `force_col_wise=true` to remove the overhead.\n",
            "[LightGBM] [Info] Total Bins 1917\n",
            "[LightGBM] [Info] Number of data points in the train set: 293953, number of used features: 15\n",
            "[LightGBM] [Info] Start training from score 62.044190\n"
          ]
        },
        {
          "output_type": "stream",
          "name": "stderr",
          "text": [
            "[I 2023-10-10 14:50:18,852] Trial 10 finished with value: 32.446393240246735 and parameters: {'num_leaves': 256, 'max_depth': 21, 'learning_rate': 0.26525331597087937, 'n_estimators': 491, 'min_child_samples': 23, 'colsample_bytree': 0.7996739415919697}. Best is trial 0 with value: 32.41418144358808.\n"
          ]
        },
        {
          "output_type": "stream",
          "name": "stdout",
          "text": [
            "[LightGBM] [Warning] Auto-choosing col-wise multi-threading, the overhead of testing was 0.046627 seconds.\n",
            "You can set `force_col_wise=true` to remove the overhead.\n",
            "[LightGBM] [Info] Total Bins 1919\n",
            "[LightGBM] [Info] Number of data points in the train set: 293952, number of used features: 15\n",
            "[LightGBM] [Info] Start training from score 61.807473\n",
            "[LightGBM] [Warning] Auto-choosing col-wise multi-threading, the overhead of testing was 0.079372 seconds.\n",
            "You can set `force_col_wise=true` to remove the overhead.\n",
            "[LightGBM] [Info] Total Bins 1918\n",
            "[LightGBM] [Info] Number of data points in the train set: 293953, number of used features: 15\n",
            "[LightGBM] [Info] Start training from score 62.051334\n",
            "[LightGBM] [Warning] Auto-choosing col-wise multi-threading, the overhead of testing was 0.046358 seconds.\n",
            "You can set `force_col_wise=true` to remove the overhead.\n",
            "[LightGBM] [Info] Total Bins 1915\n",
            "[LightGBM] [Info] Number of data points in the train set: 293953, number of used features: 15\n",
            "[LightGBM] [Info] Start training from score 61.660527\n",
            "[LightGBM] [Warning] Auto-choosing col-wise multi-threading, the overhead of testing was 0.044514 seconds.\n",
            "You can set `force_col_wise=true` to remove the overhead.\n",
            "[LightGBM] [Info] Total Bins 1917\n",
            "[LightGBM] [Info] Number of data points in the train set: 293953, number of used features: 15\n",
            "[LightGBM] [Info] Start training from score 61.822064\n",
            "[LightGBM] [Warning] Auto-choosing col-wise multi-threading, the overhead of testing was 0.044174 seconds.\n",
            "You can set `force_col_wise=true` to remove the overhead.\n",
            "[LightGBM] [Info] Total Bins 1917\n",
            "[LightGBM] [Info] Number of data points in the train set: 293953, number of used features: 15\n",
            "[LightGBM] [Info] Start training from score 62.044190\n"
          ]
        },
        {
          "output_type": "stream",
          "name": "stderr",
          "text": [
            "[I 2023-10-10 14:51:51,766] Trial 11 finished with value: 32.59502304264929 and parameters: {'num_leaves': 256, 'max_depth': 21, 'learning_rate': 0.28672717129912395, 'n_estimators': 500, 'min_child_samples': 19, 'colsample_bytree': 0.7893446873849992}. Best is trial 0 with value: 32.41418144358808.\n"
          ]
        },
        {
          "output_type": "stream",
          "name": "stdout",
          "text": [
            "[LightGBM] [Warning] Auto-choosing col-wise multi-threading, the overhead of testing was 0.076754 seconds.\n",
            "You can set `force_col_wise=true` to remove the overhead.\n",
            "[LightGBM] [Info] Total Bins 1919\n",
            "[LightGBM] [Info] Number of data points in the train set: 293952, number of used features: 15\n",
            "[LightGBM] [Info] Start training from score 61.807473\n",
            "[LightGBM] [Warning] Auto-choosing col-wise multi-threading, the overhead of testing was 0.045308 seconds.\n",
            "You can set `force_col_wise=true` to remove the overhead.\n",
            "[LightGBM] [Info] Total Bins 1918\n",
            "[LightGBM] [Info] Number of data points in the train set: 293953, number of used features: 15\n",
            "[LightGBM] [Info] Start training from score 62.051334\n",
            "[LightGBM] [Warning] Auto-choosing col-wise multi-threading, the overhead of testing was 0.045501 seconds.\n",
            "You can set `force_col_wise=true` to remove the overhead.\n",
            "[LightGBM] [Info] Total Bins 1915\n",
            "[LightGBM] [Info] Number of data points in the train set: 293953, number of used features: 15\n",
            "[LightGBM] [Info] Start training from score 61.660527\n",
            "[LightGBM] [Warning] Auto-choosing col-wise multi-threading, the overhead of testing was 0.074611 seconds.\n",
            "You can set `force_col_wise=true` to remove the overhead.\n",
            "[LightGBM] [Info] Total Bins 1917\n",
            "[LightGBM] [Info] Number of data points in the train set: 293953, number of used features: 15\n",
            "[LightGBM] [Info] Start training from score 61.822064\n",
            "[LightGBM] [Warning] Auto-choosing col-wise multi-threading, the overhead of testing was 0.044964 seconds.\n",
            "You can set `force_col_wise=true` to remove the overhead.\n",
            "[LightGBM] [Info] Total Bins 1917\n",
            "[LightGBM] [Info] Number of data points in the train set: 293953, number of used features: 15\n",
            "[LightGBM] [Info] Start training from score 62.044190\n"
          ]
        },
        {
          "output_type": "stream",
          "name": "stderr",
          "text": [
            "[I 2023-10-10 14:53:26,890] Trial 12 finished with value: 32.121394787327574 and parameters: {'num_leaves': 256, 'max_depth': 21, 'learning_rate': 0.27741906830699437, 'n_estimators': 498, 'min_child_samples': 26, 'colsample_bytree': 0.7942067465873648}. Best is trial 12 with value: 32.121394787327574.\n"
          ]
        },
        {
          "output_type": "stream",
          "name": "stdout",
          "text": [
            "[LightGBM] [Warning] Auto-choosing col-wise multi-threading, the overhead of testing was 0.043725 seconds.\n",
            "You can set `force_col_wise=true` to remove the overhead.\n",
            "[LightGBM] [Info] Total Bins 1919\n",
            "[LightGBM] [Info] Number of data points in the train set: 293952, number of used features: 15\n",
            "[LightGBM] [Info] Start training from score 61.807473\n",
            "[LightGBM] [Warning] Auto-choosing col-wise multi-threading, the overhead of testing was 0.044421 seconds.\n",
            "You can set `force_col_wise=true` to remove the overhead.\n",
            "[LightGBM] [Info] Total Bins 1918\n",
            "[LightGBM] [Info] Number of data points in the train set: 293953, number of used features: 15\n",
            "[LightGBM] [Info] Start training from score 62.051334\n",
            "[LightGBM] [Warning] Auto-choosing col-wise multi-threading, the overhead of testing was 0.074862 seconds.\n",
            "You can set `force_col_wise=true` to remove the overhead.\n",
            "[LightGBM] [Info] Total Bins 1915\n",
            "[LightGBM] [Info] Number of data points in the train set: 293953, number of used features: 15\n",
            "[LightGBM] [Info] Start training from score 61.660527\n",
            "[LightGBM] [Warning] Auto-choosing col-wise multi-threading, the overhead of testing was 0.071716 seconds.\n",
            "You can set `force_col_wise=true` to remove the overhead.\n",
            "[LightGBM] [Info] Total Bins 1917\n",
            "[LightGBM] [Info] Number of data points in the train set: 293953, number of used features: 15\n",
            "[LightGBM] [Info] Start training from score 61.822064\n",
            "[LightGBM] [Warning] Auto-choosing col-wise multi-threading, the overhead of testing was 0.069971 seconds.\n",
            "You can set `force_col_wise=true` to remove the overhead.\n",
            "[LightGBM] [Info] Total Bins 1917\n",
            "[LightGBM] [Info] Number of data points in the train set: 293953, number of used features: 15\n",
            "[LightGBM] [Info] Start training from score 62.044190\n"
          ]
        },
        {
          "output_type": "stream",
          "name": "stderr",
          "text": [
            "[I 2023-10-10 14:54:49,056] Trial 13 finished with value: 34.21264637198756 and parameters: {'num_leaves': 256, 'max_depth': 23, 'learning_rate': 0.2983010879421756, 'n_estimators': 432, 'min_child_samples': 35, 'colsample_bytree': 0.6715063171805732}. Best is trial 12 with value: 32.121394787327574.\n"
          ]
        },
        {
          "output_type": "stream",
          "name": "stdout",
          "text": [
            "[LightGBM] [Warning] Auto-choosing row-wise multi-threading, the overhead of testing was 0.007796 seconds.\n",
            "You can set `force_row_wise=true` to remove the overhead.\n",
            "And if memory is not enough, you can set `force_col_wise=true`.\n",
            "[LightGBM] [Info] Total Bins 1919\n",
            "[LightGBM] [Info] Number of data points in the train set: 293952, number of used features: 15\n",
            "[LightGBM] [Info] Start training from score 61.807473\n",
            "[LightGBM] [Warning] Auto-choosing row-wise multi-threading, the overhead of testing was 0.007783 seconds.\n",
            "You can set `force_row_wise=true` to remove the overhead.\n",
            "And if memory is not enough, you can set `force_col_wise=true`.\n",
            "[LightGBM] [Info] Total Bins 1918\n",
            "[LightGBM] [Info] Number of data points in the train set: 293953, number of used features: 15\n",
            "[LightGBM] [Info] Start training from score 62.051334\n",
            "[LightGBM] [Warning] Auto-choosing col-wise multi-threading, the overhead of testing was 0.041596 seconds.\n",
            "You can set `force_col_wise=true` to remove the overhead.\n",
            "[LightGBM] [Info] Total Bins 1915\n",
            "[LightGBM] [Info] Number of data points in the train set: 293953, number of used features: 15\n",
            "[LightGBM] [Info] Start training from score 61.660527\n",
            "[LightGBM] [Warning] Auto-choosing col-wise multi-threading, the overhead of testing was 0.042382 seconds.\n",
            "You can set `force_col_wise=true` to remove the overhead.\n",
            "[LightGBM] [Info] Total Bins 1917\n",
            "[LightGBM] [Info] Number of data points in the train set: 293953, number of used features: 15\n",
            "[LightGBM] [Info] Start training from score 61.822064\n",
            "[LightGBM] [Warning] Auto-choosing col-wise multi-threading, the overhead of testing was 0.041760 seconds.\n",
            "You can set `force_col_wise=true` to remove the overhead.\n",
            "[LightGBM] [Info] Total Bins 1917\n",
            "[LightGBM] [Info] Number of data points in the train set: 293953, number of used features: 15\n",
            "[LightGBM] [Info] Start training from score 62.044190\n"
          ]
        },
        {
          "output_type": "stream",
          "name": "stderr",
          "text": [
            "[I 2023-10-10 14:56:02,533] Trial 14 finished with value: 33.24119657147297 and parameters: {'num_leaves': 256, 'max_depth': 20, 'learning_rate': 0.2666783414042515, 'n_estimators': 421, 'min_child_samples': 3, 'colsample_bytree': 0.6103625445423008}. Best is trial 12 with value: 32.121394787327574.\n"
          ]
        },
        {
          "output_type": "stream",
          "name": "stdout",
          "text": [
            "[LightGBM] [Warning] Auto-choosing row-wise multi-threading, the overhead of testing was 0.007089 seconds.\n",
            "You can set `force_row_wise=true` to remove the overhead.\n",
            "And if memory is not enough, you can set `force_col_wise=true`.\n",
            "[LightGBM] [Info] Total Bins 1919\n",
            "[LightGBM] [Info] Number of data points in the train set: 293952, number of used features: 15\n",
            "[LightGBM] [Info] Start training from score 61.807473\n",
            "[LightGBM] [Warning] Auto-choosing col-wise multi-threading, the overhead of testing was 0.063918 seconds.\n",
            "You can set `force_col_wise=true` to remove the overhead.\n",
            "[LightGBM] [Info] Total Bins 1918\n",
            "[LightGBM] [Info] Number of data points in the train set: 293953, number of used features: 15\n",
            "[LightGBM] [Info] Start training from score 62.051334\n",
            "[LightGBM] [Warning] Auto-choosing col-wise multi-threading, the overhead of testing was 0.039590 seconds.\n",
            "You can set `force_col_wise=true` to remove the overhead.\n",
            "[LightGBM] [Info] Total Bins 1915\n",
            "[LightGBM] [Info] Number of data points in the train set: 293953, number of used features: 15\n",
            "[LightGBM] [Info] Start training from score 61.660527\n",
            "[LightGBM] [Warning] Auto-choosing col-wise multi-threading, the overhead of testing was 0.040206 seconds.\n",
            "You can set `force_col_wise=true` to remove the overhead.\n",
            "[LightGBM] [Info] Total Bins 1917\n",
            "[LightGBM] [Info] Number of data points in the train set: 293953, number of used features: 15\n",
            "[LightGBM] [Info] Start training from score 61.822064\n",
            "[LightGBM] [Warning] Auto-choosing col-wise multi-threading, the overhead of testing was 0.041582 seconds.\n",
            "You can set `force_col_wise=true` to remove the overhead.\n",
            "[LightGBM] [Info] Total Bins 1917\n",
            "[LightGBM] [Info] Number of data points in the train set: 293953, number of used features: 15\n",
            "[LightGBM] [Info] Start training from score 62.044190\n",
            "[LightGBM] [Warning] No further splits with positive gain, best gain: -inf\n"
          ]
        },
        {
          "output_type": "stream",
          "name": "stderr",
          "text": [
            "[I 2023-10-10 14:57:01,812] Trial 15 finished with value: 35.403529968121575 and parameters: {'num_leaves': 256, 'max_depth': 13, 'learning_rate': 0.16351958022329177, 'n_estimators': 243, 'min_child_samples': 37, 'colsample_bytree': 0.5012710772991329}. Best is trial 12 with value: 32.121394787327574.\n"
          ]
        },
        {
          "output_type": "stream",
          "name": "stdout",
          "text": [
            "[LightGBM] [Warning] Auto-choosing col-wise multi-threading, the overhead of testing was 0.059238 seconds.\n",
            "You can set `force_col_wise=true` to remove the overhead.\n",
            "[LightGBM] [Info] Total Bins 1919\n",
            "[LightGBM] [Info] Number of data points in the train set: 293952, number of used features: 15\n",
            "[LightGBM] [Info] Start training from score 61.807473\n",
            "[LightGBM] [Warning] Auto-choosing col-wise multi-threading, the overhead of testing was 0.044886 seconds.\n",
            "You can set `force_col_wise=true` to remove the overhead.\n",
            "[LightGBM] [Info] Total Bins 1918\n",
            "[LightGBM] [Info] Number of data points in the train set: 293953, number of used features: 15\n",
            "[LightGBM] [Info] Start training from score 62.051334\n",
            "[LightGBM] [Warning] Auto-choosing col-wise multi-threading, the overhead of testing was 0.073507 seconds.\n",
            "You can set `force_col_wise=true` to remove the overhead.\n",
            "[LightGBM] [Info] Total Bins 1915\n",
            "[LightGBM] [Info] Number of data points in the train set: 293953, number of used features: 15\n",
            "[LightGBM] [Info] Start training from score 61.660527\n",
            "[LightGBM] [Warning] Auto-choosing col-wise multi-threading, the overhead of testing was 0.044017 seconds.\n",
            "You can set `force_col_wise=true` to remove the overhead.\n",
            "[LightGBM] [Info] Total Bins 1917\n",
            "[LightGBM] [Info] Number of data points in the train set: 293953, number of used features: 15\n",
            "[LightGBM] [Info] Start training from score 61.822064\n",
            "[LightGBM] [Warning] Auto-choosing col-wise multi-threading, the overhead of testing was 0.045007 seconds.\n",
            "You can set `force_col_wise=true` to remove the overhead.\n",
            "[LightGBM] [Info] Total Bins 1917\n",
            "[LightGBM] [Info] Number of data points in the train set: 293953, number of used features: 15\n",
            "[LightGBM] [Info] Start training from score 62.044190\n"
          ]
        },
        {
          "output_type": "stream",
          "name": "stderr",
          "text": [
            "[I 2023-10-10 14:58:45,135] Trial 16 finished with value: 32.18732948412442 and parameters: {'num_leaves': 256, 'max_depth': 23, 'learning_rate': 0.24520938904173645, 'n_estimators': 454, 'min_child_samples': 59, 'colsample_bytree': 0.7502345659126138}. Best is trial 12 with value: 32.121394787327574.\n"
          ]
        },
        {
          "output_type": "stream",
          "name": "stdout",
          "text": [
            "[LightGBM] [Warning] Auto-choosing col-wise multi-threading, the overhead of testing was 0.044113 seconds.\n",
            "You can set `force_col_wise=true` to remove the overhead.\n",
            "[LightGBM] [Info] Total Bins 1919\n",
            "[LightGBM] [Info] Number of data points in the train set: 293952, number of used features: 15\n",
            "[LightGBM] [Info] Start training from score 61.807473\n",
            "[LightGBM] [Warning] Auto-choosing col-wise multi-threading, the overhead of testing was 0.045842 seconds.\n",
            "You can set `force_col_wise=true` to remove the overhead.\n",
            "[LightGBM] [Info] Total Bins 1918\n",
            "[LightGBM] [Info] Number of data points in the train set: 293953, number of used features: 15\n",
            "[LightGBM] [Info] Start training from score 62.051334\n",
            "[LightGBM] [Warning] Auto-choosing col-wise multi-threading, the overhead of testing was 0.047674 seconds.\n",
            "You can set `force_col_wise=true` to remove the overhead.\n",
            "[LightGBM] [Info] Total Bins 1915\n",
            "[LightGBM] [Info] Number of data points in the train set: 293953, number of used features: 15\n",
            "[LightGBM] [Info] Start training from score 61.660527\n",
            "[LightGBM] [Warning] Auto-choosing col-wise multi-threading, the overhead of testing was 0.044044 seconds.\n",
            "You can set `force_col_wise=true` to remove the overhead.\n",
            "[LightGBM] [Info] Total Bins 1917\n",
            "[LightGBM] [Info] Number of data points in the train set: 293953, number of used features: 15\n",
            "[LightGBM] [Info] Start training from score 61.822064\n",
            "[LightGBM] [Warning] Auto-choosing col-wise multi-threading, the overhead of testing was 0.071315 seconds.\n",
            "You can set `force_col_wise=true` to remove the overhead.\n",
            "[LightGBM] [Info] Total Bins 1917\n",
            "[LightGBM] [Info] Number of data points in the train set: 293953, number of used features: 15\n",
            "[LightGBM] [Info] Start training from score 62.044190\n"
          ]
        },
        {
          "output_type": "stream",
          "name": "stderr",
          "text": [
            "[I 2023-10-10 15:00:12,241] Trial 17 finished with value: 32.74891797349352 and parameters: {'num_leaves': 256, 'max_depth': 25, 'learning_rate': 0.2571698636837761, 'n_estimators': 385, 'min_child_samples': 60, 'colsample_bytree': 0.7576872171888644}. Best is trial 12 with value: 32.121394787327574.\n"
          ]
        },
        {
          "output_type": "stream",
          "name": "stdout",
          "text": [
            "[LightGBM] [Warning] Auto-choosing col-wise multi-threading, the overhead of testing was 0.046972 seconds.\n",
            "You can set `force_col_wise=true` to remove the overhead.\n",
            "[LightGBM] [Info] Total Bins 1919\n",
            "[LightGBM] [Info] Number of data points in the train set: 293952, number of used features: 15\n",
            "[LightGBM] [Info] Start training from score 61.807473\n",
            "[LightGBM] [Warning] No further splits with positive gain, best gain: -inf\n",
            "[LightGBM] [Warning] No further splits with positive gain, best gain: -inf\n",
            "[LightGBM] [Warning] Auto-choosing col-wise multi-threading, the overhead of testing was 0.071477 seconds.\n",
            "You can set `force_col_wise=true` to remove the overhead.\n",
            "[LightGBM] [Info] Total Bins 1918\n",
            "[LightGBM] [Info] Number of data points in the train set: 293953, number of used features: 15\n",
            "[LightGBM] [Info] Start training from score 62.051334\n",
            "[LightGBM] [Warning] Auto-choosing col-wise multi-threading, the overhead of testing was 0.070673 seconds.\n",
            "You can set `force_col_wise=true` to remove the overhead.\n",
            "[LightGBM] [Info] Total Bins 1915\n",
            "[LightGBM] [Info] Number of data points in the train set: 293953, number of used features: 15\n",
            "[LightGBM] [Info] Start training from score 61.660527\n",
            "[LightGBM] [Warning] Auto-choosing col-wise multi-threading, the overhead of testing was 0.076553 seconds.\n",
            "You can set `force_col_wise=true` to remove the overhead.\n",
            "[LightGBM] [Info] Total Bins 1917\n",
            "[LightGBM] [Info] Number of data points in the train set: 293953, number of used features: 15\n",
            "[LightGBM] [Info] Start training from score 61.822064\n",
            "[LightGBM] [Warning] Auto-choosing col-wise multi-threading, the overhead of testing was 0.045964 seconds.\n",
            "You can set `force_col_wise=true` to remove the overhead.\n",
            "[LightGBM] [Info] Total Bins 1917\n",
            "[LightGBM] [Info] Number of data points in the train set: 293953, number of used features: 15\n",
            "[LightGBM] [Info] Start training from score 62.044190\n"
          ]
        },
        {
          "output_type": "stream",
          "name": "stderr",
          "text": [
            "[I 2023-10-10 15:01:20,171] Trial 18 finished with value: 33.520058317395396 and parameters: {'num_leaves': 256, 'max_depth': 19, 'learning_rate': 0.29782044414468123, 'n_estimators': 248, 'min_child_samples': 96, 'colsample_bytree': 0.7718130311718182}. Best is trial 12 with value: 32.121394787327574.\n"
          ]
        },
        {
          "output_type": "stream",
          "name": "stdout",
          "text": [
            "[LightGBM] [Warning] Auto-choosing col-wise multi-threading, the overhead of testing was 0.044304 seconds.\n",
            "You can set `force_col_wise=true` to remove the overhead.\n",
            "[LightGBM] [Info] Total Bins 1919\n",
            "[LightGBM] [Info] Number of data points in the train set: 293952, number of used features: 15\n",
            "[LightGBM] [Info] Start training from score 61.807473\n",
            "[LightGBM] [Warning] Auto-choosing col-wise multi-threading, the overhead of testing was 0.075928 seconds.\n",
            "You can set `force_col_wise=true` to remove the overhead.\n",
            "[LightGBM] [Info] Total Bins 1918\n",
            "[LightGBM] [Info] Number of data points in the train set: 293953, number of used features: 15\n",
            "[LightGBM] [Info] Start training from score 62.051334\n",
            "[LightGBM] [Warning] Auto-choosing col-wise multi-threading, the overhead of testing was 0.043521 seconds.\n",
            "You can set `force_col_wise=true` to remove the overhead.\n",
            "[LightGBM] [Info] Total Bins 1915\n",
            "[LightGBM] [Info] Number of data points in the train set: 293953, number of used features: 15\n",
            "[LightGBM] [Info] Start training from score 61.660527\n",
            "[LightGBM] [Warning] Auto-choosing col-wise multi-threading, the overhead of testing was 0.044896 seconds.\n",
            "You can set `force_col_wise=true` to remove the overhead.\n",
            "[LightGBM] [Info] Total Bins 1917\n",
            "[LightGBM] [Info] Number of data points in the train set: 293953, number of used features: 15\n",
            "[LightGBM] [Info] Start training from score 61.822064\n",
            "[LightGBM] [Warning] Auto-choosing col-wise multi-threading, the overhead of testing was 0.045332 seconds.\n",
            "You can set `force_col_wise=true` to remove the overhead.\n",
            "[LightGBM] [Info] Total Bins 1917\n",
            "[LightGBM] [Info] Number of data points in the train set: 293953, number of used features: 15\n",
            "[LightGBM] [Info] Start training from score 62.044190\n"
          ]
        },
        {
          "output_type": "stream",
          "name": "stderr",
          "text": [
            "[I 2023-10-10 15:02:49,034] Trial 19 finished with value: 31.696385146173764 and parameters: {'num_leaves': 256, 'max_depth': 23, 'learning_rate': 0.24278121837449979, 'n_estimators': 466, 'min_child_samples': 23, 'colsample_bytree': 0.7197112749408942}. Best is trial 19 with value: 31.696385146173764.\n"
          ]
        },
        {
          "output_type": "stream",
          "name": "stdout",
          "text": [
            "[LightGBM] [Warning] Auto-choosing col-wise multi-threading, the overhead of testing was 0.045036 seconds.\n",
            "You can set `force_col_wise=true` to remove the overhead.\n",
            "[LightGBM] [Info] Total Bins 1919\n",
            "[LightGBM] [Info] Number of data points in the train set: 293952, number of used features: 15\n",
            "[LightGBM] [Info] Start training from score 61.807473\n",
            "[LightGBM] [Warning] Auto-choosing col-wise multi-threading, the overhead of testing was 0.076596 seconds.\n",
            "You can set `force_col_wise=true` to remove the overhead.\n",
            "[LightGBM] [Info] Total Bins 1918\n",
            "[LightGBM] [Info] Number of data points in the train set: 293953, number of used features: 15\n",
            "[LightGBM] [Info] Start training from score 62.051334\n",
            "[LightGBM] [Warning] Auto-choosing col-wise multi-threading, the overhead of testing was 0.071384 seconds.\n",
            "You can set `force_col_wise=true` to remove the overhead.\n",
            "[LightGBM] [Info] Total Bins 1915\n",
            "[LightGBM] [Info] Number of data points in the train set: 293953, number of used features: 15\n",
            "[LightGBM] [Info] Start training from score 61.660527\n",
            "[LightGBM] [Warning] Auto-choosing col-wise multi-threading, the overhead of testing was 0.072137 seconds.\n",
            "You can set `force_col_wise=true` to remove the overhead.\n",
            "[LightGBM] [Info] Total Bins 1917\n",
            "[LightGBM] [Info] Number of data points in the train set: 293953, number of used features: 15\n",
            "[LightGBM] [Info] Start training from score 61.822064\n",
            "[LightGBM] [Warning] Auto-choosing col-wise multi-threading, the overhead of testing was 0.070634 seconds.\n",
            "You can set `force_col_wise=true` to remove the overhead.\n",
            "[LightGBM] [Info] Total Bins 1917\n",
            "[LightGBM] [Info] Number of data points in the train set: 293953, number of used features: 15\n",
            "[LightGBM] [Info] Start training from score 62.044190\n"
          ]
        },
        {
          "output_type": "stream",
          "name": "stderr",
          "text": [
            "[I 2023-10-10 15:04:03,999] Trial 20 finished with value: 32.41716644274914 and parameters: {'num_leaves': 256, 'max_depth': 20, 'learning_rate': 0.24421061898935853, 'n_estimators': 388, 'min_child_samples': 22, 'colsample_bytree': 0.7083979136747898}. Best is trial 19 with value: 31.696385146173764.\n"
          ]
        },
        {
          "output_type": "stream",
          "name": "stdout",
          "text": [
            "[LightGBM] [Warning] Auto-choosing col-wise multi-threading, the overhead of testing was 0.070937 seconds.\n",
            "You can set `force_col_wise=true` to remove the overhead.\n",
            "[LightGBM] [Info] Total Bins 1919\n",
            "[LightGBM] [Info] Number of data points in the train set: 293952, number of used features: 15\n",
            "[LightGBM] [Info] Start training from score 61.807473\n",
            "[LightGBM] [Warning] Auto-choosing col-wise multi-threading, the overhead of testing was 0.047265 seconds.\n",
            "You can set `force_col_wise=true` to remove the overhead.\n",
            "[LightGBM] [Info] Total Bins 1918\n",
            "[LightGBM] [Info] Number of data points in the train set: 293953, number of used features: 15\n",
            "[LightGBM] [Info] Start training from score 62.051334\n",
            "[LightGBM] [Warning] Auto-choosing col-wise multi-threading, the overhead of testing was 0.050316 seconds.\n",
            "You can set `force_col_wise=true` to remove the overhead.\n",
            "[LightGBM] [Info] Total Bins 1915\n",
            "[LightGBM] [Info] Number of data points in the train set: 293953, number of used features: 15\n",
            "[LightGBM] [Info] Start training from score 61.660527\n",
            "[LightGBM] [Warning] Auto-choosing col-wise multi-threading, the overhead of testing was 0.046071 seconds.\n",
            "You can set `force_col_wise=true` to remove the overhead.\n",
            "[LightGBM] [Info] Total Bins 1917\n",
            "[LightGBM] [Info] Number of data points in the train set: 293953, number of used features: 15\n",
            "[LightGBM] [Info] Start training from score 61.822064\n",
            "[LightGBM] [Warning] Auto-choosing col-wise multi-threading, the overhead of testing was 0.071675 seconds.\n",
            "You can set `force_col_wise=true` to remove the overhead.\n",
            "[LightGBM] [Info] Total Bins 1917\n",
            "[LightGBM] [Info] Number of data points in the train set: 293953, number of used features: 15\n",
            "[LightGBM] [Info] Start training from score 62.044190\n"
          ]
        },
        {
          "output_type": "stream",
          "name": "stderr",
          "text": [
            "[I 2023-10-10 15:05:37,298] Trial 21 finished with value: 32.126986278738094 and parameters: {'num_leaves': 256, 'max_depth': 23, 'learning_rate': 0.2474510225489999, 'n_estimators': 464, 'min_child_samples': 29, 'colsample_bytree': 0.7422760863265953}. Best is trial 19 with value: 31.696385146173764.\n"
          ]
        },
        {
          "output_type": "stream",
          "name": "stdout",
          "text": [
            "[LightGBM] [Warning] Auto-choosing col-wise multi-threading, the overhead of testing was 0.044296 seconds.\n",
            "You can set `force_col_wise=true` to remove the overhead.\n",
            "[LightGBM] [Info] Total Bins 1919\n",
            "[LightGBM] [Info] Number of data points in the train set: 293952, number of used features: 15\n",
            "[LightGBM] [Info] Start training from score 61.807473\n",
            "[LightGBM] [Warning] Auto-choosing row-wise multi-threading, the overhead of testing was 0.014857 seconds.\n",
            "You can set `force_row_wise=true` to remove the overhead.\n",
            "And if memory is not enough, you can set `force_col_wise=true`.\n",
            "[LightGBM] [Info] Total Bins 1918\n",
            "[LightGBM] [Info] Number of data points in the train set: 293953, number of used features: 15\n",
            "[LightGBM] [Info] Start training from score 62.051334\n",
            "[LightGBM] [Warning] Auto-choosing col-wise multi-threading, the overhead of testing was 0.069872 seconds.\n",
            "You can set `force_col_wise=true` to remove the overhead.\n",
            "[LightGBM] [Info] Total Bins 1915\n",
            "[LightGBM] [Info] Number of data points in the train set: 293953, number of used features: 15\n",
            "[LightGBM] [Info] Start training from score 61.660527\n",
            "[LightGBM] [Warning] Auto-choosing col-wise multi-threading, the overhead of testing was 0.044594 seconds.\n",
            "You can set `force_col_wise=true` to remove the overhead.\n",
            "[LightGBM] [Info] Total Bins 1917\n",
            "[LightGBM] [Info] Number of data points in the train set: 293953, number of used features: 15\n",
            "[LightGBM] [Info] Start training from score 61.822064\n",
            "[LightGBM] [Warning] Auto-choosing col-wise multi-threading, the overhead of testing was 0.044308 seconds.\n",
            "You can set `force_col_wise=true` to remove the overhead.\n",
            "[LightGBM] [Info] Total Bins 1917\n",
            "[LightGBM] [Info] Number of data points in the train set: 293953, number of used features: 15\n",
            "[LightGBM] [Info] Start training from score 62.044190\n"
          ]
        },
        {
          "output_type": "stream",
          "name": "stderr",
          "text": [
            "[I 2023-10-10 15:07:12,492] Trial 22 finished with value: 32.153189630276884 and parameters: {'num_leaves': 256, 'max_depth': 23, 'learning_rate': 0.27039921224309743, 'n_estimators': 496, 'min_child_samples': 27, 'colsample_bytree': 0.7300907916992163}. Best is trial 19 with value: 31.696385146173764.\n"
          ]
        },
        {
          "output_type": "stream",
          "name": "stdout",
          "text": [
            "[LightGBM] [Warning] Auto-choosing col-wise multi-threading, the overhead of testing was 0.044062 seconds.\n",
            "You can set `force_col_wise=true` to remove the overhead.\n",
            "[LightGBM] [Info] Total Bins 1919\n",
            "[LightGBM] [Info] Number of data points in the train set: 293952, number of used features: 15\n",
            "[LightGBM] [Info] Start training from score 61.807473\n",
            "[LightGBM] [Warning] Auto-choosing col-wise multi-threading, the overhead of testing was 0.070988 seconds.\n",
            "You can set `force_col_wise=true` to remove the overhead.\n",
            "[LightGBM] [Info] Total Bins 1918\n",
            "[LightGBM] [Info] Number of data points in the train set: 293953, number of used features: 15\n",
            "[LightGBM] [Info] Start training from score 62.051334\n",
            "[LightGBM] [Warning] Auto-choosing col-wise multi-threading, the overhead of testing was 0.069515 seconds.\n",
            "You can set `force_col_wise=true` to remove the overhead.\n",
            "[LightGBM] [Info] Total Bins 1915\n",
            "[LightGBM] [Info] Number of data points in the train set: 293953, number of used features: 15\n",
            "[LightGBM] [Info] Start training from score 61.660527\n",
            "[LightGBM] [Warning] Auto-choosing col-wise multi-threading, the overhead of testing was 0.044091 seconds.\n",
            "You can set `force_col_wise=true` to remove the overhead.\n",
            "[LightGBM] [Info] Total Bins 1917\n",
            "[LightGBM] [Info] Number of data points in the train set: 293953, number of used features: 15\n",
            "[LightGBM] [Info] Start training from score 61.822064\n",
            "[LightGBM] [Warning] Auto-choosing col-wise multi-threading, the overhead of testing was 0.044934 seconds.\n",
            "You can set `force_col_wise=true` to remove the overhead.\n",
            "[LightGBM] [Info] Total Bins 1917\n",
            "[LightGBM] [Info] Number of data points in the train set: 293953, number of used features: 15\n",
            "[LightGBM] [Info] Start training from score 62.044190\n"
          ]
        },
        {
          "output_type": "stream",
          "name": "stderr",
          "text": [
            "[I 2023-10-10 15:08:35,625] Trial 23 finished with value: 31.76768627399805 and parameters: {'num_leaves': 256, 'max_depth': 24, 'learning_rate': 0.24179863854586345, 'n_estimators': 464, 'min_child_samples': 11, 'colsample_bytree': 0.7744154779210952}. Best is trial 19 with value: 31.696385146173764.\n"
          ]
        },
        {
          "output_type": "stream",
          "name": "stdout",
          "text": [
            "[LightGBM] [Warning] Auto-choosing col-wise multi-threading, the overhead of testing was 0.053061 seconds.\n",
            "You can set `force_col_wise=true` to remove the overhead.\n",
            "[LightGBM] [Info] Total Bins 1919\n",
            "[LightGBM] [Info] Number of data points in the train set: 293952, number of used features: 15\n",
            "[LightGBM] [Info] Start training from score 61.807473\n",
            "[LightGBM] [Warning] Auto-choosing col-wise multi-threading, the overhead of testing was 0.052903 seconds.\n",
            "You can set `force_col_wise=true` to remove the overhead.\n",
            "[LightGBM] [Info] Total Bins 1918\n",
            "[LightGBM] [Info] Number of data points in the train set: 293953, number of used features: 15\n",
            "[LightGBM] [Info] Start training from score 62.051334\n",
            "[LightGBM] [Warning] Auto-choosing col-wise multi-threading, the overhead of testing was 0.044254 seconds.\n",
            "You can set `force_col_wise=true` to remove the overhead.\n",
            "[LightGBM] [Info] Total Bins 1915\n",
            "[LightGBM] [Info] Number of data points in the train set: 293953, number of used features: 15\n",
            "[LightGBM] [Info] Start training from score 61.660527\n",
            "[LightGBM] [Warning] Auto-choosing col-wise multi-threading, the overhead of testing was 0.044653 seconds.\n",
            "You can set `force_col_wise=true` to remove the overhead.\n",
            "[LightGBM] [Info] Total Bins 1917\n",
            "[LightGBM] [Info] Number of data points in the train set: 293953, number of used features: 15\n",
            "[LightGBM] [Info] Start training from score 61.822064\n",
            "[LightGBM] [Warning] Auto-choosing col-wise multi-threading, the overhead of testing was 0.045842 seconds.\n",
            "You can set `force_col_wise=true` to remove the overhead.\n",
            "[LightGBM] [Info] Total Bins 1917\n",
            "[LightGBM] [Info] Number of data points in the train set: 293953, number of used features: 15\n",
            "[LightGBM] [Info] Start training from score 62.044190\n"
          ]
        },
        {
          "output_type": "stream",
          "name": "stderr",
          "text": [
            "[I 2023-10-10 15:09:50,955] Trial 24 finished with value: 31.207129495211422 and parameters: {'num_leaves': 256, 'max_depth': 25, 'learning_rate': 0.27748454068376865, 'n_estimators': 409, 'min_child_samples': 1, 'colsample_bytree': 0.7818027446517477}. Best is trial 24 with value: 31.207129495211422.\n"
          ]
        },
        {
          "output_type": "stream",
          "name": "stdout",
          "text": [
            "[LightGBM] [Warning] Auto-choosing col-wise multi-threading, the overhead of testing was 0.050432 seconds.\n",
            "You can set `force_col_wise=true` to remove the overhead.\n",
            "[LightGBM] [Info] Total Bins 1919\n",
            "[LightGBM] [Info] Number of data points in the train set: 293952, number of used features: 15\n",
            "[LightGBM] [Info] Start training from score 61.807473\n",
            "[LightGBM] [Warning] Auto-choosing col-wise multi-threading, the overhead of testing was 0.053402 seconds.\n",
            "You can set `force_col_wise=true` to remove the overhead.\n",
            "[LightGBM] [Info] Total Bins 1918\n",
            "[LightGBM] [Info] Number of data points in the train set: 293953, number of used features: 15\n",
            "[LightGBM] [Info] Start training from score 62.051334\n",
            "[LightGBM] [Warning] Auto-choosing col-wise multi-threading, the overhead of testing was 0.046230 seconds.\n",
            "You can set `force_col_wise=true` to remove the overhead.\n",
            "[LightGBM] [Info] Total Bins 1915\n",
            "[LightGBM] [Info] Number of data points in the train set: 293953, number of used features: 15\n",
            "[LightGBM] [Info] Start training from score 61.660527\n",
            "[LightGBM] [Warning] Auto-choosing col-wise multi-threading, the overhead of testing was 0.043834 seconds.\n",
            "You can set `force_col_wise=true` to remove the overhead.\n",
            "[LightGBM] [Info] Total Bins 1917\n",
            "[LightGBM] [Info] Number of data points in the train set: 293953, number of used features: 15\n",
            "[LightGBM] [Info] Start training from score 61.822064\n",
            "[LightGBM] [Warning] Auto-choosing col-wise multi-threading, the overhead of testing was 0.046859 seconds.\n",
            "You can set `force_col_wise=true` to remove the overhead.\n",
            "[LightGBM] [Info] Total Bins 1917\n",
            "[LightGBM] [Info] Number of data points in the train set: 293953, number of used features: 15\n",
            "[LightGBM] [Info] Start training from score 62.044190\n"
          ]
        },
        {
          "output_type": "stream",
          "name": "stderr",
          "text": [
            "[I 2023-10-10 15:11:07,147] Trial 25 finished with value: 31.697936074878196 and parameters: {'num_leaves': 256, 'max_depth': 25, 'learning_rate': 0.19256330645651135, 'n_estimators': 403, 'min_child_samples': 4, 'colsample_bytree': 0.7731053703262122}. Best is trial 24 with value: 31.207129495211422.\n"
          ]
        },
        {
          "output_type": "stream",
          "name": "stdout",
          "text": [
            "[LightGBM] [Warning] Auto-choosing col-wise multi-threading, the overhead of testing was 0.046099 seconds.\n",
            "You can set `force_col_wise=true` to remove the overhead.\n",
            "[LightGBM] [Info] Total Bins 1919\n",
            "[LightGBM] [Info] Number of data points in the train set: 293952, number of used features: 15\n",
            "[LightGBM] [Info] Start training from score 61.807473\n",
            "[LightGBM] [Warning] Auto-choosing col-wise multi-threading, the overhead of testing was 0.044975 seconds.\n",
            "You can set `force_col_wise=true` to remove the overhead.\n",
            "[LightGBM] [Info] Total Bins 1918\n",
            "[LightGBM] [Info] Number of data points in the train set: 293953, number of used features: 15\n",
            "[LightGBM] [Info] Start training from score 62.051334\n",
            "[LightGBM] [Warning] Auto-choosing col-wise multi-threading, the overhead of testing was 0.045819 seconds.\n",
            "You can set `force_col_wise=true` to remove the overhead.\n",
            "[LightGBM] [Info] Total Bins 1915\n",
            "[LightGBM] [Info] Number of data points in the train set: 293953, number of used features: 15\n",
            "[LightGBM] [Info] Start training from score 61.660527\n",
            "[LightGBM] [Warning] Auto-choosing col-wise multi-threading, the overhead of testing was 0.045393 seconds.\n",
            "You can set `force_col_wise=true` to remove the overhead.\n",
            "[LightGBM] [Info] Total Bins 1917\n",
            "[LightGBM] [Info] Number of data points in the train set: 293953, number of used features: 15\n",
            "[LightGBM] [Info] Start training from score 61.822064\n",
            "[LightGBM] [Warning] Auto-choosing col-wise multi-threading, the overhead of testing was 0.045603 seconds.\n",
            "You can set `force_col_wise=true` to remove the overhead.\n",
            "[LightGBM] [Info] Total Bins 1917\n",
            "[LightGBM] [Info] Number of data points in the train set: 293953, number of used features: 15\n",
            "[LightGBM] [Info] Start training from score 62.044190\n"
          ]
        },
        {
          "output_type": "stream",
          "name": "stderr",
          "text": [
            "[I 2023-10-10 15:12:16,861] Trial 26 finished with value: 31.872459305476895 and parameters: {'num_leaves': 256, 'max_depth': 25, 'learning_rate': 0.18623431589831918, 'n_estimators': 346, 'min_child_samples': 1, 'colsample_bytree': 0.7722809911696389}. Best is trial 24 with value: 31.207129495211422.\n"
          ]
        },
        {
          "output_type": "stream",
          "name": "stdout",
          "text": [
            "[LightGBM] [Warning] Auto-choosing col-wise multi-threading, the overhead of testing was 0.044375 seconds.\n",
            "You can set `force_col_wise=true` to remove the overhead.\n",
            "[LightGBM] [Info] Total Bins 1919\n",
            "[LightGBM] [Info] Number of data points in the train set: 293952, number of used features: 15\n",
            "[LightGBM] [Info] Start training from score 61.807473\n",
            "[LightGBM] [Warning] Auto-choosing col-wise multi-threading, the overhead of testing was 0.044766 seconds.\n",
            "You can set `force_col_wise=true` to remove the overhead.\n",
            "[LightGBM] [Info] Total Bins 1918\n",
            "[LightGBM] [Info] Number of data points in the train set: 293953, number of used features: 15\n",
            "[LightGBM] [Info] Start training from score 62.051334\n",
            "[LightGBM] [Warning] Auto-choosing col-wise multi-threading, the overhead of testing was 0.042971 seconds.\n",
            "You can set `force_col_wise=true` to remove the overhead.\n",
            "[LightGBM] [Info] Total Bins 1915\n",
            "[LightGBM] [Info] Number of data points in the train set: 293953, number of used features: 15\n",
            "[LightGBM] [Info] Start training from score 61.660527\n",
            "[LightGBM] [Warning] Auto-choosing col-wise multi-threading, the overhead of testing was 0.045413 seconds.\n",
            "You can set `force_col_wise=true` to remove the overhead.\n",
            "[LightGBM] [Info] Total Bins 1917\n",
            "[LightGBM] [Info] Number of data points in the train set: 293953, number of used features: 15\n",
            "[LightGBM] [Info] Start training from score 61.822064\n",
            "[LightGBM] [Warning] Auto-choosing col-wise multi-threading, the overhead of testing was 0.043701 seconds.\n",
            "You can set `force_col_wise=true` to remove the overhead.\n",
            "[LightGBM] [Info] Total Bins 1917\n",
            "[LightGBM] [Info] Number of data points in the train set: 293953, number of used features: 15\n",
            "[LightGBM] [Info] Start training from score 62.044190\n"
          ]
        },
        {
          "output_type": "stream",
          "name": "stderr",
          "text": [
            "[I 2023-10-10 15:13:31,934] Trial 27 finished with value: 32.18068443011222 and parameters: {'num_leaves': 256, 'max_depth': 25, 'learning_rate': 0.1870745220729437, 'n_estimators': 406, 'min_child_samples': 11, 'colsample_bytree': 0.6972349816636375}. Best is trial 24 with value: 31.207129495211422.\n"
          ]
        },
        {
          "output_type": "stream",
          "name": "stdout",
          "text": [
            "[LightGBM] [Warning] Auto-choosing col-wise multi-threading, the overhead of testing was 0.049336 seconds.\n",
            "You can set `force_col_wise=true` to remove the overhead.\n",
            "[LightGBM] [Info] Total Bins 1919\n",
            "[LightGBM] [Info] Number of data points in the train set: 293952, number of used features: 15\n",
            "[LightGBM] [Info] Start training from score 61.807473\n",
            "[LightGBM] [Warning] Auto-choosing col-wise multi-threading, the overhead of testing was 0.045389 seconds.\n",
            "You can set `force_col_wise=true` to remove the overhead.\n",
            "[LightGBM] [Info] Total Bins 1918\n",
            "[LightGBM] [Info] Number of data points in the train set: 293953, number of used features: 15\n",
            "[LightGBM] [Info] Start training from score 62.051334\n",
            "[LightGBM] [Warning] Auto-choosing col-wise multi-threading, the overhead of testing was 0.070397 seconds.\n",
            "You can set `force_col_wise=true` to remove the overhead.\n",
            "[LightGBM] [Info] Total Bins 1915\n",
            "[LightGBM] [Info] Number of data points in the train set: 293953, number of used features: 15\n",
            "[LightGBM] [Info] Start training from score 61.660527\n",
            "[LightGBM] [Warning] Auto-choosing col-wise multi-threading, the overhead of testing was 0.045226 seconds.\n",
            "You can set `force_col_wise=true` to remove the overhead.\n",
            "[LightGBM] [Info] Total Bins 1917\n",
            "[LightGBM] [Info] Number of data points in the train set: 293953, number of used features: 15\n",
            "[LightGBM] [Info] Start training from score 61.822064\n",
            "[LightGBM] [Warning] Auto-choosing col-wise multi-threading, the overhead of testing was 0.078786 seconds.\n",
            "You can set `force_col_wise=true` to remove the overhead.\n",
            "[LightGBM] [Info] Total Bins 1917\n",
            "[LightGBM] [Info] Number of data points in the train set: 293953, number of used features: 15\n",
            "[LightGBM] [Info] Start training from score 62.044190\n"
          ]
        },
        {
          "output_type": "stream",
          "name": "stderr",
          "text": [
            "[I 2023-10-10 15:14:16,594] Trial 28 finished with value: 37.56985116957201 and parameters: {'num_leaves': 128, 'max_depth': 24, 'learning_rate': 0.13729414783901586, 'n_estimators': 284, 'min_child_samples': 14, 'colsample_bytree': 0.7262837785002633}. Best is trial 24 with value: 31.207129495211422.\n"
          ]
        },
        {
          "output_type": "stream",
          "name": "stdout",
          "text": [
            "[LightGBM] [Warning] Auto-choosing col-wise multi-threading, the overhead of testing was 0.055128 seconds.\n",
            "You can set `force_col_wise=true` to remove the overhead.\n",
            "[LightGBM] [Info] Total Bins 1919\n",
            "[LightGBM] [Info] Number of data points in the train set: 293952, number of used features: 15\n",
            "[LightGBM] [Info] Start training from score 61.807473\n",
            "[LightGBM] [Warning] Auto-choosing col-wise multi-threading, the overhead of testing was 0.050709 seconds.\n",
            "You can set `force_col_wise=true` to remove the overhead.\n",
            "[LightGBM] [Info] Total Bins 1918\n",
            "[LightGBM] [Info] Number of data points in the train set: 293953, number of used features: 15\n",
            "[LightGBM] [Info] Start training from score 62.051334\n",
            "[LightGBM] [Warning] Auto-choosing col-wise multi-threading, the overhead of testing was 0.070205 seconds.\n",
            "You can set `force_col_wise=true` to remove the overhead.\n",
            "[LightGBM] [Info] Total Bins 1915\n",
            "[LightGBM] [Info] Number of data points in the train set: 293953, number of used features: 15\n",
            "[LightGBM] [Info] Start training from score 61.660527\n",
            "[LightGBM] [Warning] Auto-choosing col-wise multi-threading, the overhead of testing was 0.069793 seconds.\n",
            "You can set `force_col_wise=true` to remove the overhead.\n",
            "[LightGBM] [Info] Total Bins 1917\n",
            "[LightGBM] [Info] Number of data points in the train set: 293953, number of used features: 15\n",
            "[LightGBM] [Info] Start training from score 61.822064\n",
            "[LightGBM] [Warning] Auto-choosing col-wise multi-threading, the overhead of testing was 0.046115 seconds.\n",
            "You can set `force_col_wise=true` to remove the overhead.\n",
            "[LightGBM] [Info] Total Bins 1917\n",
            "[LightGBM] [Info] Number of data points in the train set: 293953, number of used features: 15\n",
            "[LightGBM] [Info] Start training from score 62.044190\n"
          ]
        },
        {
          "output_type": "stream",
          "name": "stderr",
          "text": [
            "[I 2023-10-10 15:15:40,403] Trial 29 finished with value: 32.55722845024172 and parameters: {'num_leaves': 512, 'max_depth': 22, 'learning_rate': 0.22570269607738924, 'n_estimators': 341, 'min_child_samples': 5, 'colsample_bytree': 0.7599783430633107}. Best is trial 24 with value: 31.207129495211422.\n"
          ]
        },
        {
          "output_type": "stream",
          "name": "stdout",
          "text": [
            "[LightGBM] [Warning] Auto-choosing col-wise multi-threading, the overhead of testing was 0.046271 seconds.\n",
            "You can set `force_col_wise=true` to remove the overhead.\n",
            "[LightGBM] [Info] Total Bins 1919\n",
            "[LightGBM] [Info] Number of data points in the train set: 293952, number of used features: 15\n",
            "[LightGBM] [Info] Start training from score 61.807473\n",
            "[LightGBM] [Warning] Auto-choosing col-wise multi-threading, the overhead of testing was 0.053010 seconds.\n",
            "You can set `force_col_wise=true` to remove the overhead.\n",
            "[LightGBM] [Info] Total Bins 1918\n",
            "[LightGBM] [Info] Number of data points in the train set: 293953, number of used features: 15\n",
            "[LightGBM] [Info] Start training from score 62.051334\n"
          ]
        }
      ]
    },
    {
      "cell_type": "code",
      "source": [
        "# optuna가 시도했던 모든 실험 관련 데이터\n",
        "study.trials_dataframe()"
      ],
      "metadata": {
        "id": "5XnSXcOlBWTG"
      },
      "execution_count": null,
      "outputs": []
    },
    {
      "cell_type": "code",
      "source": [
        "print(\"Best Score: %.4f\" % study.best_value) # best score 출력\n",
        "print(\"Best params: \", study.best_trial.params) # best score일 때의 하이퍼파라미터들"
      ],
      "metadata": {
        "id": "Yl0-Pl0FBZV3"
      },
      "execution_count": null,
      "outputs": []
    },
    {
      "cell_type": "code",
      "source": [
        "# 실험 기록 시각화\n",
        "optuna.visualization.plot_optimization_history(study)"
      ],
      "metadata": {
        "id": "kFxaowJ0Bfv4"
      },
      "execution_count": null,
      "outputs": []
    },
    {
      "cell_type": "code",
      "source": [
        "# hyper-parameter들의 중요도\n",
        "optuna.visualization.plot_param_importances(study)"
      ],
      "metadata": {
        "id": "SVbqMdx7Bi2z"
      },
      "execution_count": null,
      "outputs": []
    },
    {
      "cell_type": "markdown",
      "source": [
        "## 파라미터에따른 MAE 변화  \n",
        "설정을 하지 않았을 떄 MAE = 53.45077523955608  \n",
        "{'num_leaves': 256, 'max_depth': 15, 'learning_rate': 0.3, 'colsample_bytree' : 0.8}일 때 MAE = 36.97465414001219\n",
        "\n",
        "{'num_leaves': 512, 'max_depth': 25, 'learning_rate': 0.16,'colsample_bytree' : 0.8, 'n_estimators' : 500}일 때 MAE = 30 -> Dacon Leader Board 기준 28.504"
      ],
      "metadata": {
        "id": "t4X2YrWm2J4g"
      }
    },
    {
      "cell_type": "markdown",
      "source": [
        "## Submission"
      ],
      "metadata": {
        "id": "kglhV-0Ye37K"
      }
    },
    {
      "cell_type": "code",
      "source": [
        "best_params = study.best_params\n",
        "best_model = lgb.LGBMRegressor(**best_params,\n",
        "                           random_state = 42)\n",
        "\n",
        "# model finalization : 가장 좋은 성능을 보인 모델로, 전체 데이터 트레이닝\n",
        "best_model.fit(X_train_reduced, y_train)\n",
        "preds = best_model.predict(X_test_reduced)\n",
        "preds"
      ],
      "metadata": {
        "id": "VoVcvtsP-WIL"
      },
      "execution_count": null,
      "outputs": []
    },
    {
      "cell_type": "code",
      "source": [
        "submission = pd.read_csv(file_path + 'sample_submission.csv')\n",
        "submission['answer'] = preds\n",
        "submission.to_csv(file_path + \"submission.csv\", index=False)\n",
        "submission"
      ],
      "metadata": {
        "id": "qBMrAorZe6J5"
      },
      "execution_count": null,
      "outputs": []
    },
    {
      "cell_type": "code",
      "source": [],
      "metadata": {
        "id": "0pK3EuNJ_iyL"
      },
      "execution_count": null,
      "outputs": []
    },
    {
      "cell_type": "code",
      "source": [],
      "metadata": {
        "id": "1ueT3-8pHpVn"
      },
      "execution_count": null,
      "outputs": []
    }
  ]
}