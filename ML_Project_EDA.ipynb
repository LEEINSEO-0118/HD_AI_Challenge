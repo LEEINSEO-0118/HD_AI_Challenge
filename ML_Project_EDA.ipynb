{
  "cells": [
    {
      "cell_type": "markdown",
      "metadata": {
        "id": "view-in-github",
        "colab_type": "text"
      },
      "source": [
        "<a href=\"https://colab.research.google.com/github/LEEINSEO-0118/HD_AI_Challenge/blob/main/ML_Project_EDA.ipynb\" target=\"_parent\"><img src=\"https://colab.research.google.com/assets/colab-badge.svg\" alt=\"Open In Colab\"/></a>"
      ]
    },
    {
      "cell_type": "markdown",
      "id": "8f3119aa",
      "metadata": {
        "id": "8f3119aa"
      },
      "source": [
        "## Machine Learning 프로젝트 수행을 위한 코드 구조화"
      ]
    },
    {
      "cell_type": "markdown",
      "id": "9f7610ea",
      "metadata": {
        "id": "9f7610ea"
      },
      "source": [
        "- ML project를 위해서 사용하는 템플릿 코드를 만듭니다.\n",
        "\n",
        "1. **필요한 라이브러리와 데이터를 불러옵니다.**\n",
        "\n",
        "\n",
        "2. **EDA를 수행합니다.** 이 때 EDA의 목적은 풀어야하는 문제를 위해서 수행됩니다.\n",
        "\n",
        "\n",
        "3. **전처리를 수행합니다.** 이 때 중요한건 **feature engineering**을 어떻게 하느냐 입니다.\n",
        "\n",
        "\n",
        "4. **데이터 분할을 합니다.** 이 때 train data와 test data 간의 분포 차이가 없는지 확인합니다.\n",
        "\n",
        "\n",
        "5. **학습을 진행합니다.** 어떤 모델을 사용하여 학습할지 정합니다. 성능이 잘 나오는 GBM을 추천합니다.\n",
        "\n",
        "\n",
        "6. **hyper-parameter tuning을 수행합니다.** 원하는 목표 성능이 나올 때 까지 진행합니다. 검증 단계를 통해 지속적으로 **overfitting이 되지 않게 주의**하세요.\n",
        "\n",
        "\n",
        "7. **최종 테스트를 진행합니다.** 데이터 분석 대회 포맷에 맞는 submission 파일을 만들어서 성능을 확인해보세요."
      ]
    },
    {
      "cell_type": "markdown",
      "id": "bd2f7530",
      "metadata": {
        "id": "bd2f7530"
      },
      "source": [
        "## 1. 라이브러리, 데이터 불러오기"
      ]
    },
    {
      "cell_type": "code",
      "execution_count": 55,
      "id": "48ff1318",
      "metadata": {
        "scrolled": false,
        "colab": {
          "base_uri": "https://localhost:8080/"
        },
        "id": "48ff1318",
        "outputId": "d1f833f4-b92e-4850-fd47-05e63507250e"
      },
      "outputs": [
        {
          "output_type": "stream",
          "name": "stdout",
          "text": [
            "Requirement already satisfied: lightgbm in /usr/local/lib/python3.10/dist-packages (4.0.0)\n",
            "Requirement already satisfied: optuna in /usr/local/lib/python3.10/dist-packages (3.3.0)\n",
            "Requirement already satisfied: numpy in /usr/local/lib/python3.10/dist-packages (from lightgbm) (1.23.5)\n",
            "Requirement already satisfied: scipy in /usr/local/lib/python3.10/dist-packages (from lightgbm) (1.11.3)\n",
            "Requirement already satisfied: alembic>=1.5.0 in /usr/local/lib/python3.10/dist-packages (from optuna) (1.12.0)\n",
            "Requirement already satisfied: cmaes>=0.10.0 in /usr/local/lib/python3.10/dist-packages (from optuna) (0.10.0)\n",
            "Requirement already satisfied: colorlog in /usr/local/lib/python3.10/dist-packages (from optuna) (6.7.0)\n",
            "Requirement already satisfied: packaging>=20.0 in /usr/local/lib/python3.10/dist-packages (from optuna) (23.2)\n",
            "Requirement already satisfied: sqlalchemy>=1.3.0 in /usr/local/lib/python3.10/dist-packages (from optuna) (2.0.21)\n",
            "Requirement already satisfied: tqdm in /usr/local/lib/python3.10/dist-packages (from optuna) (4.66.1)\n",
            "Requirement already satisfied: PyYAML in /usr/local/lib/python3.10/dist-packages (from optuna) (6.0.1)\n",
            "Requirement already satisfied: Mako in /usr/local/lib/python3.10/dist-packages (from alembic>=1.5.0->optuna) (1.2.4)\n",
            "Requirement already satisfied: typing-extensions>=4 in /usr/local/lib/python3.10/dist-packages (from alembic>=1.5.0->optuna) (4.5.0)\n",
            "Requirement already satisfied: greenlet!=0.4.17 in /usr/local/lib/python3.10/dist-packages (from sqlalchemy>=1.3.0->optuna) (3.0.0)\n",
            "Requirement already satisfied: MarkupSafe>=0.9.2 in /usr/local/lib/python3.10/dist-packages (from Mako->alembic>=1.5.0->optuna) (2.1.3)\n"
          ]
        }
      ],
      "source": [
        "# 설치에 필요한 라이브러리들이 있다면 모두 적어둡니다. anaconda에 기본적으로 설치되지 않은 라이브러리들을 적어두세요.\n",
        "!pip install lightgbm optuna"
      ]
    },
    {
      "cell_type": "code",
      "execution_count": 56,
      "id": "125fc348",
      "metadata": {
        "id": "125fc348"
      },
      "outputs": [],
      "source": [
        "# 데이터분석 4종 세트\n",
        "import numpy as np\n",
        "import pandas as pd\n",
        "import matplotlib.pyplot as plt\n",
        "import seaborn as sns\n",
        "\n",
        "# 모델들, 성능 평가\n",
        "# (저는 일반적으로 정형데이터로 머신러닝 분석할 때는 이 2개 모델은 그냥 돌려봅니다. 특히 RF가 테스트하기 좋습니다.)\n",
        "from sklearn.ensemble import RandomForestClassifier, RandomForestRegressor\n",
        "from lightgbm.sklearn import LGBMClassifier, LGBMRegressor\n",
        "\n",
        "# 상관관계 분석, VIF : 다중공선성 제거\n",
        "from statsmodels.stats.outliers_influence import variance_inflation_factor\n",
        "\n",
        "# KFold(CV), partial : optuna를 사용하기 위함\n",
        "from sklearn.model_selection import KFold\n",
        "from functools import partial\n",
        "\n",
        "# hyper-parameter tuning을 위한 라이브러리, optuna\n",
        "import optuna"
      ]
    },
    {
      "cell_type": "code",
      "execution_count": 57,
      "id": "0e4d49ce",
      "metadata": {
        "id": "0e4d49ce"
      },
      "outputs": [],
      "source": [
        "# flag setting\n",
        "feature_reducing = False"
      ]
    },
    {
      "cell_type": "code",
      "source": [
        "from google.colab import drive\n",
        "drive.mount('/content/drive')"
      ],
      "metadata": {
        "colab": {
          "base_uri": "https://localhost:8080/"
        },
        "id": "ZpBlna3KKndu",
        "outputId": "73d2f3a6-b43b-4fb9-f035-3fdb337e3430"
      },
      "id": "ZpBlna3KKndu",
      "execution_count": 58,
      "outputs": [
        {
          "output_type": "stream",
          "name": "stdout",
          "text": [
            "Drive already mounted at /content/drive; to attempt to forcibly remount, call drive.mount(\"/content/drive\", force_remount=True).\n"
          ]
        }
      ]
    },
    {
      "cell_type": "code",
      "execution_count": 59,
      "id": "3615c24a",
      "metadata": {
        "colab": {
          "base_uri": "https://localhost:8080/"
        },
        "id": "3615c24a",
        "outputId": "25eda04c-6ec2-49c7-defe-07bfc12a0875"
      },
      "outputs": [
        {
          "output_type": "stream",
          "name": "stdout",
          "text": [
            "(367441, 27) (244989, 26)\n"
          ]
        }
      ],
      "source": [
        "# 데이터를 불러옵니다.\n",
        "file_path = '/content/drive/MyDrive/ai부트캠프/Machine_Learning/DATA/HD_challenge/'\n",
        "train = pd.read_csv(file_path + 'train.csv')\n",
        "test = pd.read_csv(file_path + 'test.csv')\n",
        "print(train.shape, test.shape)"
      ]
    },
    {
      "cell_type": "markdown",
      "id": "c9c9acb8",
      "metadata": {
        "id": "c9c9acb8"
      },
      "source": [
        "## 2. EDA"
      ]
    },
    {
      "cell_type": "markdown",
      "id": "6fdf620b",
      "metadata": {
        "id": "6fdf620b"
      },
      "source": [
        "- 데이터에서 찾아야 하는 기초적인 내용들을 확인합니다.\n",
        "\n",
        "\n",
        "- class imbalance, target distribution, outlier, correlation을 확인합니다."
      ]
    },
    {
      "cell_type": "code",
      "source": [
        "display(train.iloc[:,:14].head(3))\n",
        "train.iloc[:,14:].head(3)"
      ],
      "metadata": {
        "colab": {
          "base_uri": "https://localhost:8080/",
          "height": 270
        },
        "id": "zk_0Mwj8Qj82",
        "outputId": "22623b0a-fe22-4d0a-876d-844f827f65d7"
      },
      "id": "zk_0Mwj8Qj82",
      "execution_count": 60,
      "outputs": [
        {
          "output_type": "display_data",
          "data": {
            "text/plain": [
              "      SAMPLE_ID ARI_CO ARI_PO SHIP_TYPE_CATEGORY       DIST              ATA  \\\n",
              "0  TRAIN_000000     CN   EKP8               Bulk  30.736578  2020-10-15 4:03   \n",
              "1  TRAIN_000001     CN   EUC8          Container  63.220425  2019-09-17 2:55   \n",
              "2  TRAIN_000002     CN   NGG6          Container  90.427421  2019-02-23 6:43   \n",
              "\n",
              "        ID  BREADTH  BUILT  DEADWEIGHT  DEPTH  DRAUGHT     GT  LENGTH  \n",
              "0  Z517571     30.0     28       73100   20.0     10.0  38600   220.0  \n",
              "1  U467618     30.0     15       37900   20.0     10.0  28100   220.0  \n",
              "2  V378315     50.0      7      115000   20.0     10.0  96400   300.0  "
            ],
            "text/html": [
              "\n",
              "  <div id=\"df-6fb95d02-6fde-4e41-a132-99b001d264b0\" class=\"colab-df-container\">\n",
              "    <div>\n",
              "<style scoped>\n",
              "    .dataframe tbody tr th:only-of-type {\n",
              "        vertical-align: middle;\n",
              "    }\n",
              "\n",
              "    .dataframe tbody tr th {\n",
              "        vertical-align: top;\n",
              "    }\n",
              "\n",
              "    .dataframe thead th {\n",
              "        text-align: right;\n",
              "    }\n",
              "</style>\n",
              "<table border=\"1\" class=\"dataframe\">\n",
              "  <thead>\n",
              "    <tr style=\"text-align: right;\">\n",
              "      <th></th>\n",
              "      <th>SAMPLE_ID</th>\n",
              "      <th>ARI_CO</th>\n",
              "      <th>ARI_PO</th>\n",
              "      <th>SHIP_TYPE_CATEGORY</th>\n",
              "      <th>DIST</th>\n",
              "      <th>ATA</th>\n",
              "      <th>ID</th>\n",
              "      <th>BREADTH</th>\n",
              "      <th>BUILT</th>\n",
              "      <th>DEADWEIGHT</th>\n",
              "      <th>DEPTH</th>\n",
              "      <th>DRAUGHT</th>\n",
              "      <th>GT</th>\n",
              "      <th>LENGTH</th>\n",
              "    </tr>\n",
              "  </thead>\n",
              "  <tbody>\n",
              "    <tr>\n",
              "      <th>0</th>\n",
              "      <td>TRAIN_000000</td>\n",
              "      <td>CN</td>\n",
              "      <td>EKP8</td>\n",
              "      <td>Bulk</td>\n",
              "      <td>30.736578</td>\n",
              "      <td>2020-10-15 4:03</td>\n",
              "      <td>Z517571</td>\n",
              "      <td>30.0</td>\n",
              "      <td>28</td>\n",
              "      <td>73100</td>\n",
              "      <td>20.0</td>\n",
              "      <td>10.0</td>\n",
              "      <td>38600</td>\n",
              "      <td>220.0</td>\n",
              "    </tr>\n",
              "    <tr>\n",
              "      <th>1</th>\n",
              "      <td>TRAIN_000001</td>\n",
              "      <td>CN</td>\n",
              "      <td>EUC8</td>\n",
              "      <td>Container</td>\n",
              "      <td>63.220425</td>\n",
              "      <td>2019-09-17 2:55</td>\n",
              "      <td>U467618</td>\n",
              "      <td>30.0</td>\n",
              "      <td>15</td>\n",
              "      <td>37900</td>\n",
              "      <td>20.0</td>\n",
              "      <td>10.0</td>\n",
              "      <td>28100</td>\n",
              "      <td>220.0</td>\n",
              "    </tr>\n",
              "    <tr>\n",
              "      <th>2</th>\n",
              "      <td>TRAIN_000002</td>\n",
              "      <td>CN</td>\n",
              "      <td>NGG6</td>\n",
              "      <td>Container</td>\n",
              "      <td>90.427421</td>\n",
              "      <td>2019-02-23 6:43</td>\n",
              "      <td>V378315</td>\n",
              "      <td>50.0</td>\n",
              "      <td>7</td>\n",
              "      <td>115000</td>\n",
              "      <td>20.0</td>\n",
              "      <td>10.0</td>\n",
              "      <td>96400</td>\n",
              "      <td>300.0</td>\n",
              "    </tr>\n",
              "  </tbody>\n",
              "</table>\n",
              "</div>\n",
              "    <div class=\"colab-df-buttons\">\n",
              "\n",
              "  <div class=\"colab-df-container\">\n",
              "    <button class=\"colab-df-convert\" onclick=\"convertToInteractive('df-6fb95d02-6fde-4e41-a132-99b001d264b0')\"\n",
              "            title=\"Convert this dataframe to an interactive table.\"\n",
              "            style=\"display:none;\">\n",
              "\n",
              "  <svg xmlns=\"http://www.w3.org/2000/svg\" height=\"24px\" viewBox=\"0 -960 960 960\">\n",
              "    <path d=\"M120-120v-720h720v720H120Zm60-500h600v-160H180v160Zm220 220h160v-160H400v160Zm0 220h160v-160H400v160ZM180-400h160v-160H180v160Zm440 0h160v-160H620v160ZM180-180h160v-160H180v160Zm440 0h160v-160H620v160Z\"/>\n",
              "  </svg>\n",
              "    </button>\n",
              "\n",
              "  <style>\n",
              "    .colab-df-container {\n",
              "      display:flex;\n",
              "      gap: 12px;\n",
              "    }\n",
              "\n",
              "    .colab-df-convert {\n",
              "      background-color: #E8F0FE;\n",
              "      border: none;\n",
              "      border-radius: 50%;\n",
              "      cursor: pointer;\n",
              "      display: none;\n",
              "      fill: #1967D2;\n",
              "      height: 32px;\n",
              "      padding: 0 0 0 0;\n",
              "      width: 32px;\n",
              "    }\n",
              "\n",
              "    .colab-df-convert:hover {\n",
              "      background-color: #E2EBFA;\n",
              "      box-shadow: 0px 1px 2px rgba(60, 64, 67, 0.3), 0px 1px 3px 1px rgba(60, 64, 67, 0.15);\n",
              "      fill: #174EA6;\n",
              "    }\n",
              "\n",
              "    .colab-df-buttons div {\n",
              "      margin-bottom: 4px;\n",
              "    }\n",
              "\n",
              "    [theme=dark] .colab-df-convert {\n",
              "      background-color: #3B4455;\n",
              "      fill: #D2E3FC;\n",
              "    }\n",
              "\n",
              "    [theme=dark] .colab-df-convert:hover {\n",
              "      background-color: #434B5C;\n",
              "      box-shadow: 0px 1px 3px 1px rgba(0, 0, 0, 0.15);\n",
              "      filter: drop-shadow(0px 1px 2px rgba(0, 0, 0, 0.3));\n",
              "      fill: #FFFFFF;\n",
              "    }\n",
              "  </style>\n",
              "\n",
              "    <script>\n",
              "      const buttonEl =\n",
              "        document.querySelector('#df-6fb95d02-6fde-4e41-a132-99b001d264b0 button.colab-df-convert');\n",
              "      buttonEl.style.display =\n",
              "        google.colab.kernel.accessAllowed ? 'block' : 'none';\n",
              "\n",
              "      async function convertToInteractive(key) {\n",
              "        const element = document.querySelector('#df-6fb95d02-6fde-4e41-a132-99b001d264b0');\n",
              "        const dataTable =\n",
              "          await google.colab.kernel.invokeFunction('convertToInteractive',\n",
              "                                                    [key], {});\n",
              "        if (!dataTable) return;\n",
              "\n",
              "        const docLinkHtml = 'Like what you see? Visit the ' +\n",
              "          '<a target=\"_blank\" href=https://colab.research.google.com/notebooks/data_table.ipynb>data table notebook</a>'\n",
              "          + ' to learn more about interactive tables.';\n",
              "        element.innerHTML = '';\n",
              "        dataTable['output_type'] = 'display_data';\n",
              "        await google.colab.output.renderOutput(dataTable, element);\n",
              "        const docLink = document.createElement('div');\n",
              "        docLink.innerHTML = docLinkHtml;\n",
              "        element.appendChild(docLink);\n",
              "      }\n",
              "    </script>\n",
              "  </div>\n",
              "\n",
              "\n",
              "<div id=\"df-c2ede433-54ab-4f41-89f7-40a39078e713\">\n",
              "  <button class=\"colab-df-quickchart\" onclick=\"quickchart('df-c2ede433-54ab-4f41-89f7-40a39078e713')\"\n",
              "            title=\"Suggest charts.\"\n",
              "            style=\"display:none;\">\n",
              "\n",
              "<svg xmlns=\"http://www.w3.org/2000/svg\" height=\"24px\"viewBox=\"0 0 24 24\"\n",
              "     width=\"24px\">\n",
              "    <g>\n",
              "        <path d=\"M19 3H5c-1.1 0-2 .9-2 2v14c0 1.1.9 2 2 2h14c1.1 0 2-.9 2-2V5c0-1.1-.9-2-2-2zM9 17H7v-7h2v7zm4 0h-2V7h2v10zm4 0h-2v-4h2v4z\"/>\n",
              "    </g>\n",
              "</svg>\n",
              "  </button>\n",
              "\n",
              "<style>\n",
              "  .colab-df-quickchart {\n",
              "      --bg-color: #E8F0FE;\n",
              "      --fill-color: #1967D2;\n",
              "      --hover-bg-color: #E2EBFA;\n",
              "      --hover-fill-color: #174EA6;\n",
              "      --disabled-fill-color: #AAA;\n",
              "      --disabled-bg-color: #DDD;\n",
              "  }\n",
              "\n",
              "  [theme=dark] .colab-df-quickchart {\n",
              "      --bg-color: #3B4455;\n",
              "      --fill-color: #D2E3FC;\n",
              "      --hover-bg-color: #434B5C;\n",
              "      --hover-fill-color: #FFFFFF;\n",
              "      --disabled-bg-color: #3B4455;\n",
              "      --disabled-fill-color: #666;\n",
              "  }\n",
              "\n",
              "  .colab-df-quickchart {\n",
              "    background-color: var(--bg-color);\n",
              "    border: none;\n",
              "    border-radius: 50%;\n",
              "    cursor: pointer;\n",
              "    display: none;\n",
              "    fill: var(--fill-color);\n",
              "    height: 32px;\n",
              "    padding: 0;\n",
              "    width: 32px;\n",
              "  }\n",
              "\n",
              "  .colab-df-quickchart:hover {\n",
              "    background-color: var(--hover-bg-color);\n",
              "    box-shadow: 0 1px 2px rgba(60, 64, 67, 0.3), 0 1px 3px 1px rgba(60, 64, 67, 0.15);\n",
              "    fill: var(--button-hover-fill-color);\n",
              "  }\n",
              "\n",
              "  .colab-df-quickchart-complete:disabled,\n",
              "  .colab-df-quickchart-complete:disabled:hover {\n",
              "    background-color: var(--disabled-bg-color);\n",
              "    fill: var(--disabled-fill-color);\n",
              "    box-shadow: none;\n",
              "  }\n",
              "\n",
              "  .colab-df-spinner {\n",
              "    border: 2px solid var(--fill-color);\n",
              "    border-color: transparent;\n",
              "    border-bottom-color: var(--fill-color);\n",
              "    animation:\n",
              "      spin 1s steps(1) infinite;\n",
              "  }\n",
              "\n",
              "  @keyframes spin {\n",
              "    0% {\n",
              "      border-color: transparent;\n",
              "      border-bottom-color: var(--fill-color);\n",
              "      border-left-color: var(--fill-color);\n",
              "    }\n",
              "    20% {\n",
              "      border-color: transparent;\n",
              "      border-left-color: var(--fill-color);\n",
              "      border-top-color: var(--fill-color);\n",
              "    }\n",
              "    30% {\n",
              "      border-color: transparent;\n",
              "      border-left-color: var(--fill-color);\n",
              "      border-top-color: var(--fill-color);\n",
              "      border-right-color: var(--fill-color);\n",
              "    }\n",
              "    40% {\n",
              "      border-color: transparent;\n",
              "      border-right-color: var(--fill-color);\n",
              "      border-top-color: var(--fill-color);\n",
              "    }\n",
              "    60% {\n",
              "      border-color: transparent;\n",
              "      border-right-color: var(--fill-color);\n",
              "    }\n",
              "    80% {\n",
              "      border-color: transparent;\n",
              "      border-right-color: var(--fill-color);\n",
              "      border-bottom-color: var(--fill-color);\n",
              "    }\n",
              "    90% {\n",
              "      border-color: transparent;\n",
              "      border-bottom-color: var(--fill-color);\n",
              "    }\n",
              "  }\n",
              "</style>\n",
              "\n",
              "  <script>\n",
              "    async function quickchart(key) {\n",
              "      const quickchartButtonEl =\n",
              "        document.querySelector('#' + key + ' button');\n",
              "      quickchartButtonEl.disabled = true;  // To prevent multiple clicks.\n",
              "      quickchartButtonEl.classList.add('colab-df-spinner');\n",
              "      try {\n",
              "        const charts = await google.colab.kernel.invokeFunction(\n",
              "            'suggestCharts', [key], {});\n",
              "      } catch (error) {\n",
              "        console.error('Error during call to suggestCharts:', error);\n",
              "      }\n",
              "      quickchartButtonEl.classList.remove('colab-df-spinner');\n",
              "      quickchartButtonEl.classList.add('colab-df-quickchart-complete');\n",
              "    }\n",
              "    (() => {\n",
              "      let quickchartButtonEl =\n",
              "        document.querySelector('#df-c2ede433-54ab-4f41-89f7-40a39078e713 button');\n",
              "      quickchartButtonEl.style.display =\n",
              "        google.colab.kernel.accessAllowed ? 'block' : 'none';\n",
              "    })();\n",
              "  </script>\n",
              "</div>\n",
              "    </div>\n",
              "  </div>\n"
            ]
          },
          "metadata": {}
        },
        {
          "output_type": "execute_result",
          "data": {
            "text/plain": [
              "  SHIPMANAGER                         FLAG  U_WIND  V_WIND  AIR_TEMPERATURE  \\\n",
              "0      CHMT36  China, People's Republic Of    0.14    3.77             15.9   \n",
              "1      CUFV52                    Singapore   -3.16   -6.72             24.5   \n",
              "2      ISIG88                      Liberia    0.00    0.00              9.4   \n",
              "\n",
              "         BN  ATA_LT  DUBAI  BRENT    WTI      BDI_ADJ  PORT_SIZE    CI_HOUR  \n",
              "0  2.730798      12  42.01  43.16  40.96  1407.668330   0.001660   3.048333  \n",
              "1  4.289058      10  67.53  64.55  59.34  2089.046774   0.001614  17.138611  \n",
              "2  0.000000      14  65.30  66.39  56.94   603.193047   0.001743  98.827500  "
            ],
            "text/html": [
              "\n",
              "  <div id=\"df-f02b8929-8f72-40a7-a319-b5a76dc50d00\" class=\"colab-df-container\">\n",
              "    <div>\n",
              "<style scoped>\n",
              "    .dataframe tbody tr th:only-of-type {\n",
              "        vertical-align: middle;\n",
              "    }\n",
              "\n",
              "    .dataframe tbody tr th {\n",
              "        vertical-align: top;\n",
              "    }\n",
              "\n",
              "    .dataframe thead th {\n",
              "        text-align: right;\n",
              "    }\n",
              "</style>\n",
              "<table border=\"1\" class=\"dataframe\">\n",
              "  <thead>\n",
              "    <tr style=\"text-align: right;\">\n",
              "      <th></th>\n",
              "      <th>SHIPMANAGER</th>\n",
              "      <th>FLAG</th>\n",
              "      <th>U_WIND</th>\n",
              "      <th>V_WIND</th>\n",
              "      <th>AIR_TEMPERATURE</th>\n",
              "      <th>BN</th>\n",
              "      <th>ATA_LT</th>\n",
              "      <th>DUBAI</th>\n",
              "      <th>BRENT</th>\n",
              "      <th>WTI</th>\n",
              "      <th>BDI_ADJ</th>\n",
              "      <th>PORT_SIZE</th>\n",
              "      <th>CI_HOUR</th>\n",
              "    </tr>\n",
              "  </thead>\n",
              "  <tbody>\n",
              "    <tr>\n",
              "      <th>0</th>\n",
              "      <td>CHMT36</td>\n",
              "      <td>China, People's Republic Of</td>\n",
              "      <td>0.14</td>\n",
              "      <td>3.77</td>\n",
              "      <td>15.9</td>\n",
              "      <td>2.730798</td>\n",
              "      <td>12</td>\n",
              "      <td>42.01</td>\n",
              "      <td>43.16</td>\n",
              "      <td>40.96</td>\n",
              "      <td>1407.668330</td>\n",
              "      <td>0.001660</td>\n",
              "      <td>3.048333</td>\n",
              "    </tr>\n",
              "    <tr>\n",
              "      <th>1</th>\n",
              "      <td>CUFV52</td>\n",
              "      <td>Singapore</td>\n",
              "      <td>-3.16</td>\n",
              "      <td>-6.72</td>\n",
              "      <td>24.5</td>\n",
              "      <td>4.289058</td>\n",
              "      <td>10</td>\n",
              "      <td>67.53</td>\n",
              "      <td>64.55</td>\n",
              "      <td>59.34</td>\n",
              "      <td>2089.046774</td>\n",
              "      <td>0.001614</td>\n",
              "      <td>17.138611</td>\n",
              "    </tr>\n",
              "    <tr>\n",
              "      <th>2</th>\n",
              "      <td>ISIG88</td>\n",
              "      <td>Liberia</td>\n",
              "      <td>0.00</td>\n",
              "      <td>0.00</td>\n",
              "      <td>9.4</td>\n",
              "      <td>0.000000</td>\n",
              "      <td>14</td>\n",
              "      <td>65.30</td>\n",
              "      <td>66.39</td>\n",
              "      <td>56.94</td>\n",
              "      <td>603.193047</td>\n",
              "      <td>0.001743</td>\n",
              "      <td>98.827500</td>\n",
              "    </tr>\n",
              "  </tbody>\n",
              "</table>\n",
              "</div>\n",
              "    <div class=\"colab-df-buttons\">\n",
              "\n",
              "  <div class=\"colab-df-container\">\n",
              "    <button class=\"colab-df-convert\" onclick=\"convertToInteractive('df-f02b8929-8f72-40a7-a319-b5a76dc50d00')\"\n",
              "            title=\"Convert this dataframe to an interactive table.\"\n",
              "            style=\"display:none;\">\n",
              "\n",
              "  <svg xmlns=\"http://www.w3.org/2000/svg\" height=\"24px\" viewBox=\"0 -960 960 960\">\n",
              "    <path d=\"M120-120v-720h720v720H120Zm60-500h600v-160H180v160Zm220 220h160v-160H400v160Zm0 220h160v-160H400v160ZM180-400h160v-160H180v160Zm440 0h160v-160H620v160ZM180-180h160v-160H180v160Zm440 0h160v-160H620v160Z\"/>\n",
              "  </svg>\n",
              "    </button>\n",
              "\n",
              "  <style>\n",
              "    .colab-df-container {\n",
              "      display:flex;\n",
              "      gap: 12px;\n",
              "    }\n",
              "\n",
              "    .colab-df-convert {\n",
              "      background-color: #E8F0FE;\n",
              "      border: none;\n",
              "      border-radius: 50%;\n",
              "      cursor: pointer;\n",
              "      display: none;\n",
              "      fill: #1967D2;\n",
              "      height: 32px;\n",
              "      padding: 0 0 0 0;\n",
              "      width: 32px;\n",
              "    }\n",
              "\n",
              "    .colab-df-convert:hover {\n",
              "      background-color: #E2EBFA;\n",
              "      box-shadow: 0px 1px 2px rgba(60, 64, 67, 0.3), 0px 1px 3px 1px rgba(60, 64, 67, 0.15);\n",
              "      fill: #174EA6;\n",
              "    }\n",
              "\n",
              "    .colab-df-buttons div {\n",
              "      margin-bottom: 4px;\n",
              "    }\n",
              "\n",
              "    [theme=dark] .colab-df-convert {\n",
              "      background-color: #3B4455;\n",
              "      fill: #D2E3FC;\n",
              "    }\n",
              "\n",
              "    [theme=dark] .colab-df-convert:hover {\n",
              "      background-color: #434B5C;\n",
              "      box-shadow: 0px 1px 3px 1px rgba(0, 0, 0, 0.15);\n",
              "      filter: drop-shadow(0px 1px 2px rgba(0, 0, 0, 0.3));\n",
              "      fill: #FFFFFF;\n",
              "    }\n",
              "  </style>\n",
              "\n",
              "    <script>\n",
              "      const buttonEl =\n",
              "        document.querySelector('#df-f02b8929-8f72-40a7-a319-b5a76dc50d00 button.colab-df-convert');\n",
              "      buttonEl.style.display =\n",
              "        google.colab.kernel.accessAllowed ? 'block' : 'none';\n",
              "\n",
              "      async function convertToInteractive(key) {\n",
              "        const element = document.querySelector('#df-f02b8929-8f72-40a7-a319-b5a76dc50d00');\n",
              "        const dataTable =\n",
              "          await google.colab.kernel.invokeFunction('convertToInteractive',\n",
              "                                                    [key], {});\n",
              "        if (!dataTable) return;\n",
              "\n",
              "        const docLinkHtml = 'Like what you see? Visit the ' +\n",
              "          '<a target=\"_blank\" href=https://colab.research.google.com/notebooks/data_table.ipynb>data table notebook</a>'\n",
              "          + ' to learn more about interactive tables.';\n",
              "        element.innerHTML = '';\n",
              "        dataTable['output_type'] = 'display_data';\n",
              "        await google.colab.output.renderOutput(dataTable, element);\n",
              "        const docLink = document.createElement('div');\n",
              "        docLink.innerHTML = docLinkHtml;\n",
              "        element.appendChild(docLink);\n",
              "      }\n",
              "    </script>\n",
              "  </div>\n",
              "\n",
              "\n",
              "<div id=\"df-4b15f101-1933-4977-b195-0bb1801f8795\">\n",
              "  <button class=\"colab-df-quickchart\" onclick=\"quickchart('df-4b15f101-1933-4977-b195-0bb1801f8795')\"\n",
              "            title=\"Suggest charts.\"\n",
              "            style=\"display:none;\">\n",
              "\n",
              "<svg xmlns=\"http://www.w3.org/2000/svg\" height=\"24px\"viewBox=\"0 0 24 24\"\n",
              "     width=\"24px\">\n",
              "    <g>\n",
              "        <path d=\"M19 3H5c-1.1 0-2 .9-2 2v14c0 1.1.9 2 2 2h14c1.1 0 2-.9 2-2V5c0-1.1-.9-2-2-2zM9 17H7v-7h2v7zm4 0h-2V7h2v10zm4 0h-2v-4h2v4z\"/>\n",
              "    </g>\n",
              "</svg>\n",
              "  </button>\n",
              "\n",
              "<style>\n",
              "  .colab-df-quickchart {\n",
              "      --bg-color: #E8F0FE;\n",
              "      --fill-color: #1967D2;\n",
              "      --hover-bg-color: #E2EBFA;\n",
              "      --hover-fill-color: #174EA6;\n",
              "      --disabled-fill-color: #AAA;\n",
              "      --disabled-bg-color: #DDD;\n",
              "  }\n",
              "\n",
              "  [theme=dark] .colab-df-quickchart {\n",
              "      --bg-color: #3B4455;\n",
              "      --fill-color: #D2E3FC;\n",
              "      --hover-bg-color: #434B5C;\n",
              "      --hover-fill-color: #FFFFFF;\n",
              "      --disabled-bg-color: #3B4455;\n",
              "      --disabled-fill-color: #666;\n",
              "  }\n",
              "\n",
              "  .colab-df-quickchart {\n",
              "    background-color: var(--bg-color);\n",
              "    border: none;\n",
              "    border-radius: 50%;\n",
              "    cursor: pointer;\n",
              "    display: none;\n",
              "    fill: var(--fill-color);\n",
              "    height: 32px;\n",
              "    padding: 0;\n",
              "    width: 32px;\n",
              "  }\n",
              "\n",
              "  .colab-df-quickchart:hover {\n",
              "    background-color: var(--hover-bg-color);\n",
              "    box-shadow: 0 1px 2px rgba(60, 64, 67, 0.3), 0 1px 3px 1px rgba(60, 64, 67, 0.15);\n",
              "    fill: var(--button-hover-fill-color);\n",
              "  }\n",
              "\n",
              "  .colab-df-quickchart-complete:disabled,\n",
              "  .colab-df-quickchart-complete:disabled:hover {\n",
              "    background-color: var(--disabled-bg-color);\n",
              "    fill: var(--disabled-fill-color);\n",
              "    box-shadow: none;\n",
              "  }\n",
              "\n",
              "  .colab-df-spinner {\n",
              "    border: 2px solid var(--fill-color);\n",
              "    border-color: transparent;\n",
              "    border-bottom-color: var(--fill-color);\n",
              "    animation:\n",
              "      spin 1s steps(1) infinite;\n",
              "  }\n",
              "\n",
              "  @keyframes spin {\n",
              "    0% {\n",
              "      border-color: transparent;\n",
              "      border-bottom-color: var(--fill-color);\n",
              "      border-left-color: var(--fill-color);\n",
              "    }\n",
              "    20% {\n",
              "      border-color: transparent;\n",
              "      border-left-color: var(--fill-color);\n",
              "      border-top-color: var(--fill-color);\n",
              "    }\n",
              "    30% {\n",
              "      border-color: transparent;\n",
              "      border-left-color: var(--fill-color);\n",
              "      border-top-color: var(--fill-color);\n",
              "      border-right-color: var(--fill-color);\n",
              "    }\n",
              "    40% {\n",
              "      border-color: transparent;\n",
              "      border-right-color: var(--fill-color);\n",
              "      border-top-color: var(--fill-color);\n",
              "    }\n",
              "    60% {\n",
              "      border-color: transparent;\n",
              "      border-right-color: var(--fill-color);\n",
              "    }\n",
              "    80% {\n",
              "      border-color: transparent;\n",
              "      border-right-color: var(--fill-color);\n",
              "      border-bottom-color: var(--fill-color);\n",
              "    }\n",
              "    90% {\n",
              "      border-color: transparent;\n",
              "      border-bottom-color: var(--fill-color);\n",
              "    }\n",
              "  }\n",
              "</style>\n",
              "\n",
              "  <script>\n",
              "    async function quickchart(key) {\n",
              "      const quickchartButtonEl =\n",
              "        document.querySelector('#' + key + ' button');\n",
              "      quickchartButtonEl.disabled = true;  // To prevent multiple clicks.\n",
              "      quickchartButtonEl.classList.add('colab-df-spinner');\n",
              "      try {\n",
              "        const charts = await google.colab.kernel.invokeFunction(\n",
              "            'suggestCharts', [key], {});\n",
              "      } catch (error) {\n",
              "        console.error('Error during call to suggestCharts:', error);\n",
              "      }\n",
              "      quickchartButtonEl.classList.remove('colab-df-spinner');\n",
              "      quickchartButtonEl.classList.add('colab-df-quickchart-complete');\n",
              "    }\n",
              "    (() => {\n",
              "      let quickchartButtonEl =\n",
              "        document.querySelector('#df-4b15f101-1933-4977-b195-0bb1801f8795 button');\n",
              "      quickchartButtonEl.style.display =\n",
              "        google.colab.kernel.accessAllowed ? 'block' : 'none';\n",
              "    })();\n",
              "  </script>\n",
              "</div>\n",
              "    </div>\n",
              "  </div>\n"
            ]
          },
          "metadata": {},
          "execution_count": 60
        }
      ]
    },
    {
      "cell_type": "code",
      "execution_count": 61,
      "id": "adb06474",
      "metadata": {
        "colab": {
          "base_uri": "https://localhost:8080/"
        },
        "id": "adb06474",
        "outputId": "9a02355d-a79f-4860-f96f-c1854f26636c"
      },
      "outputs": [
        {
          "output_type": "stream",
          "name": "stdout",
          "text": [
            "<class 'pandas.core.frame.DataFrame'>\n",
            "RangeIndex: 367441 entries, 0 to 367440\n",
            "Data columns (total 27 columns):\n",
            " #   Column              Non-Null Count   Dtype  \n",
            "---  ------              --------------   -----  \n",
            " 0   SAMPLE_ID           367441 non-null  object \n",
            " 1   ARI_CO              367441 non-null  object \n",
            " 2   ARI_PO              367441 non-null  object \n",
            " 3   SHIP_TYPE_CATEGORY  367441 non-null  object \n",
            " 4   DIST                367441 non-null  float64\n",
            " 5   ATA                 367441 non-null  object \n",
            " 6   ID                  367441 non-null  object \n",
            " 7   BREADTH             367440 non-null  float64\n",
            " 8   BUILT               367441 non-null  int64  \n",
            " 9   DEADWEIGHT          367441 non-null  int64  \n",
            " 10  DEPTH               367440 non-null  float64\n",
            " 11  DRAUGHT             367440 non-null  float64\n",
            " 12  GT                  367441 non-null  int64  \n",
            " 13  LENGTH              367440 non-null  float64\n",
            " 14  SHIPMANAGER         367441 non-null  object \n",
            " 15  FLAG                367441 non-null  object \n",
            " 16  U_WIND              213955 non-null  float64\n",
            " 17  V_WIND              213955 non-null  float64\n",
            " 18  AIR_TEMPERATURE     213076 non-null  float64\n",
            " 19  BN                  213955 non-null  float64\n",
            " 20  ATA_LT              367441 non-null  int64  \n",
            " 21  DUBAI               367441 non-null  float64\n",
            " 22  BRENT               367441 non-null  float64\n",
            " 23  WTI                 367441 non-null  float64\n",
            " 24  BDI_ADJ             367441 non-null  float64\n",
            " 25  PORT_SIZE           367441 non-null  float64\n",
            " 26  CI_HOUR             367441 non-null  float64\n",
            "dtypes: float64(15), int64(4), object(8)\n",
            "memory usage: 75.7+ MB\n"
          ]
        }
      ],
      "source": [
        "# Info()를 통한 전체적인 데이터 파악\n",
        "train.info()"
      ]
    },
    {
      "cell_type": "code",
      "source": [
        "# Target 분석\n",
        "print(train.CI_HOUR.describe())\n",
        "# 이상치에 데이터가 굉장히 많은 것으로 판단됨.\n",
        "sns.boxplot(data = train, x = 'CI_HOUR', fliersize=0.5, palette = 'Blues')\n",
        "plt.show()\n",
        "# CI_HOUR(대기시간) 이상치 개수\n",
        "IQR = train.CI_HOUR.quantile(0.75)-train.CI_HOUR.quantile(0.25)\n",
        "target_outlier_cnt = train.CI_HOUR[train.CI_HOUR > train.CI_HOUR.quantile(0.75) + (1.5 * IQR)].count()\n",
        "print(f'''\n",
        "        target outlier cnt : {target_outlier_cnt}\n",
        "        target outlier percenate : {round(target_outlier_cnt/train.CI_HOUR.count() * 100, 2)}%\n",
        "      ''')\n",
        "\n",
        "\n",
        "# Outlier가 많은 이유는 무엇일까?"
      ],
      "metadata": {
        "colab": {
          "base_uri": "https://localhost:8080/",
          "height": 674
        },
        "id": "uoRU5pKaSaKB",
        "outputId": "10fa9b80-72f8-4848-8bc2-cc308e950aad"
      },
      "id": "uoRU5pKaSaKB",
      "execution_count": 62,
      "outputs": [
        {
          "output_type": "stream",
          "name": "stdout",
          "text": [
            "count    367441.000000\n",
            "mean         61.877118\n",
            "std         170.575224\n",
            "min           0.000000\n",
            "25%           0.000000\n",
            "50%           7.949444\n",
            "75%          49.153333\n",
            "max        2159.130556\n",
            "Name: CI_HOUR, dtype: float64\n"
          ]
        },
        {
          "output_type": "display_data",
          "data": {
            "text/plain": [
              "<Figure size 640x480 with 1 Axes>"
            ],
            "image/png": "[encoded data removed]"
          },
          "metadata": {}
        },
        {
          "output_type": "stream",
          "name": "stdout",
          "text": [
            "\n",
            "        target outlier cnt : 45786\n",
            "        target outlier percenate : 12.46%\n",
            "      \n"
          ]
        }
      ]
    },
    {
      "cell_type": "code",
      "source": [
        "# U_WIND, V_WIND, AIR_TEMPERATURE, BN의 결측치가 많다.\n",
        "train_null = train[train.isnull().any(axis = 1)]\n",
        "train_not_null = train[~train.isna().any(axis = 1)]\n",
        "\n",
        "# 결측치 데이터를 가지는 target의 통계량\n",
        "print(train_null.CI_HOUR.describe())\n",
        "# print(train_not_null.CI_HOUR.describe())\n",
        "\n",
        "# 결측치 데이터를 가지는 traget의 boxplot\n",
        "plt.title('Target Data with nan')\n",
        "sns.boxplot(data = train_null, x = 'CI_HOUR', fliersize=0.5, palette = 'Blues')\n",
        "plt.show()\n",
        "# 결측치 데이터를 가지는 target의 outlier 비율\n",
        "IQR = train_null.CI_HOUR.quantile(0.75)-train_null.CI_HOUR.quantile(0.25)\n",
        "target_outlier_cnt = train_null.CI_HOUR[train_null.CI_HOUR > train_null.CI_HOUR.quantile(0.75) + (1.5 * IQR)].count()\n",
        "print(f'''\n",
        "        target outlier cnt : {target_outlier_cnt}\n",
        "        target outlier percenate : {round(target_outlier_cnt/train_null.CI_HOUR.count() * 100, 2)}%\n",
        "      ''')\n",
        "print(f'''\n",
        "        target means (not null) : {train_not_null.CI_HOUR.mean()}\n",
        "        target means (with null) : {train_null.CI_HOUR.mean()}\n",
        "        ''')\n",
        "\n",
        "# 결측치 데이터들의 traget 분포와 오리지널데이터의 traget은 이상치가 12% 정도로 분포의 형태는 비슷하지만\n",
        "# target 평균값의 경우, 결측치를 가지는 경우에는 65, 결측치가 없는 경우에는 56 정도의 차이를 보여준다. 표준편차가 160~170인 상황에서 평균 65, 56이 큰 의미가 있는지는 모르겠다."
      ],
      "metadata": {
        "colab": {
          "base_uri": "https://localhost:8080/",
          "height": 767
        },
        "id": "wIbVZA2ANd0f",
        "outputId": "5c23eeca-d8fb-48fa-ef50-c21d1eef3dc6"
      },
      "id": "wIbVZA2ANd0f",
      "execution_count": 63,
      "outputs": [
        {
          "output_type": "stream",
          "name": "stdout",
          "text": [
            "count    154366.000000\n",
            "mean         56.751802\n",
            "std         162.452287\n",
            "min           0.000000\n",
            "25%           0.000000\n",
            "50%           5.424861\n",
            "75%          43.451806\n",
            "max        2159.130556\n",
            "Name: CI_HOUR, dtype: float64\n"
          ]
        },
        {
          "output_type": "display_data",
          "data": {
            "text/plain": [
              "<Figure size 640x480 with 1 Axes>"
            ],
            "image/png": "[encoded data removed]"
          },
          "metadata": {}
        },
        {
          "output_type": "stream",
          "name": "stdout",
          "text": [
            "\n",
            "        target outlier cnt : 19776\n",
            "        target outlier percenate : 12.81%\n",
            "      \n",
            "\n",
            "        target means (not null) : 65.59024395944778\n",
            "        target means (with null) : 56.751802255280204\n",
            "        \n"
          ]
        }
      ]
    },
    {
      "cell_type": "markdown",
      "id": "f2c602bd",
      "metadata": {
        "id": "f2c602bd"
      },
      "source": [
        "이런 식으로 여러가지 그래프를 그려가며, 데이터에 대한 인사이트를 얻습니다!"
      ]
    },
    {
      "cell_type": "markdown",
      "id": "9dbb8802",
      "metadata": {
        "id": "9dbb8802"
      },
      "source": [
        "### 3. 전처리"
      ]
    },
    {
      "cell_type": "markdown",
      "source": [
        "### 결측치 처리 - knn imputation\n",
        "### datetime 처리\n",
        "### Categorical feature encoding - LabelEncoder를 통한 ordinal encoding"
      ],
      "metadata": {
        "id": "pH5NbY_mTBHn"
      },
      "id": "pH5NbY_mTBHn"
    },
    {
      "cell_type": "markdown",
      "source": [
        "#### SAMPLE_ID 제거"
      ],
      "metadata": {
        "id": "TN2t36Imk_tP"
      },
      "id": "TN2t36Imk_tP"
    },
    {
      "cell_type": "code",
      "source": [
        "train = train.drop(columns = ['SAMPLE_ID'])"
      ],
      "metadata": {
        "id": "iteLD-WIlJil"
      },
      "id": "iteLD-WIlJil",
      "execution_count": 64,
      "outputs": []
    },
    {
      "cell_type": "markdown",
      "source": [
        "#### datetime 처리"
      ],
      "metadata": {
        "id": "UgY8TnTveLuu"
      },
      "id": "UgY8TnTveLuu"
    },
    {
      "cell_type": "code",
      "source": [
        "# datetime 컬럼 처리\n",
        "train.ATA = pd.to_datetime(train['ATA'])\n",
        "\n",
        "# datetime 변환\n",
        "for df in [train]:\n",
        "    df['year'] = df['ATA'].dt.year\n",
        "    df['month'] = df['ATA'].dt.month\n",
        "    df['day'] = df['ATA'].dt.day\n",
        "    df['hour'] = df['ATA'].dt.hour\n",
        "    df['minute'] = df['ATA'].dt.minute\n",
        "    df['weekday'] = df['ATA'].dt.weekday\n",
        "\n",
        "# datetime 컬럼 제거\n",
        "train.drop(columns='ATA', inplace=True)"
      ],
      "metadata": {
        "id": "mO39KUvieOtg"
      },
      "id": "mO39KUvieOtg",
      "execution_count": 72,
      "outputs": []
    },
    {
      "cell_type": "markdown",
      "source": [
        "#### Categorical feature 처리"
      ],
      "metadata": {
        "id": "rnrun8HKYMAt"
      },
      "id": "rnrun8HKYMAt"
    },
    {
      "cell_type": "code",
      "source": [
        "from tqdm import tqdm\n",
        "import bisect\n",
        "from sklearn.preprocessing import LabelEncoder\n",
        "\n",
        "# Categorical 컬럼 인코딩\n",
        "categorical_features = ['ARI_CO', 'ARI_PO', 'SHIP_TYPE_CATEGORY', 'ID', 'SHIPMANAGER', 'FLAG']\n",
        "encoders = {}\n",
        "\n",
        "for feature in tqdm(categorical_features, desc=\"Encoding features\"):\n",
        "    le = LabelEncoder()\n",
        "    train[feature] = le.fit_transform(train[feature].astype(str))\n",
        "    le_classes_set = set(le.classes_)\n",
        "    test[feature] = test[feature].map(lambda s: '-1' if s not in le_classes_set else s)\n",
        "    le_classes = le.classes_.tolist()\n",
        "    bisect.insort_left(le_classes, '-1')\n",
        "    le.classes_ = np.array(le_classes)\n",
        "    test[feature] = le.transform(test[feature].astype(str))\n",
        "    encoders[feature] = le"
      ],
      "metadata": {
        "colab": {
          "base_uri": "https://localhost:8080/"
        },
        "id": "LOuPkIeAWpRd",
        "outputId": "148cf5d3-4d9a-4fe4-a30b-36dcee06c143"
      },
      "id": "LOuPkIeAWpRd",
      "execution_count": 73,
      "outputs": [
        {
          "output_type": "stream",
          "name": "stderr",
          "text": [
            "Encoding features: 100%|██████████| 6/6 [00:02<00:00,  2.16it/s]\n"
          ]
        }
      ]
    },
    {
      "cell_type": "markdown",
      "id": "b79a6f0a",
      "metadata": {
        "id": "b79a6f0a"
      },
      "source": [
        "#### 결측치 처리"
      ]
    },
    {
      "cell_type": "code",
      "source": [
        "from sklearn.impute import KNNImputer"
      ],
      "metadata": {
        "id": "52Tm0i9Kh2kk"
      },
      "id": "52Tm0i9Kh2kk",
      "execution_count": 65,
      "outputs": []
    },
    {
      "cell_type": "code",
      "source": [
        "train[train.isna().any(axis = 1)].iloc[:, 14:]"
      ],
      "metadata": {
        "colab": {
          "base_uri": "https://localhost:8080/",
          "height": 423
        },
        "id": "j6XTEvIhj96p",
        "outputId": "b8063ef3-6850-4f26-8d9e-cc7198e981d9"
      },
      "id": "j6XTEvIhj96p",
      "execution_count": 66,
      "outputs": [
        {
          "output_type": "execute_result",
          "data": {
            "text/plain": [
              "                               FLAG  U_WIND  V_WIND  AIR_TEMPERATURE  BN  \\\n",
              "5                  Hong Kong, China     NaN     NaN              NaN NaN   \n",
              "8                  Hong Kong, China     NaN     NaN              NaN NaN   \n",
              "9                  Hong Kong, China     NaN     NaN              NaN NaN   \n",
              "10      China, People's Republic Of     NaN     NaN              NaN NaN   \n",
              "11                           Panama     NaN     NaN              NaN NaN   \n",
              "...                             ...     ...     ...              ...  ..   \n",
              "367427                       Panama     NaN     NaN              NaN NaN   \n",
              "367428  China, People's Republic Of     NaN     NaN              NaN NaN   \n",
              "367432                       Tuvalu     NaN     NaN              NaN NaN   \n",
              "367435                       Cyprus     NaN     NaN              NaN NaN   \n",
              "367436                      Liberia     NaN     NaN              NaN NaN   \n",
              "\n",
              "        ATA_LT  DUBAI  BRENT    WTI      BDI_ADJ  PORT_SIZE     CI_HOUR  \n",
              "5           22  45.75  48.89  45.92   820.288044   0.001743   42.078056  \n",
              "8           15  54.49  55.52  53.17   796.790931   0.000552    0.000000  \n",
              "9           18  64.25  66.86  63.39  1030.009758   0.000103   73.985833  \n",
              "10          11  70.66  70.76  65.01  1610.724314   0.001660   31.891944  \n",
              "11           9  29.22  30.32  27.94   287.791271   0.000026    4.185556  \n",
              "...        ...    ...    ...    ...          ...        ...         ...  \n",
              "367427      13  32.19  37.28  37.04   471.884296   0.001028  186.698889  \n",
              "367428      22  60.99  62.45  57.47  1574.233684   0.000360  141.522500  \n",
              "367432       3  59.81  61.56  52.89  1203.463363   0.000256   70.663611  \n",
              "367435      10  80.08  82.34  77.40  1404.453239   0.000058    0.000000  \n",
              "367436       6  61.25  62.21  55.70  1333.609109   0.000360   65.850000  \n",
              "\n",
              "[154366 rows x 12 columns]"
            ],
            "text/html": [
              "\n",
              "  <div id=\"df-db479b44-e205-4726-9a6d-c801f4c180bf\" class=\"colab-df-container\">\n",
              "    <div>\n",
              "<style scoped>\n",
              "    .dataframe tbody tr th:only-of-type {\n",
              "        vertical-align: middle;\n",
              "    }\n",
              "\n",
              "    .dataframe tbody tr th {\n",
              "        vertical-align: top;\n",
              "    }\n",
              "\n",
              "    .dataframe thead th {\n",
              "        text-align: right;\n",
              "    }\n",
              "</style>\n",
              "<table border=\"1\" class=\"dataframe\">\n",
              "  <thead>\n",
              "    <tr style=\"text-align: right;\">\n",
              "      <th></th>\n",
              "      <th>FLAG</th>\n",
              "      <th>U_WIND</th>\n",
              "      <th>V_WIND</th>\n",
              "      <th>AIR_TEMPERATURE</th>\n",
              "      <th>BN</th>\n",
              "      <th>ATA_LT</th>\n",
              "      <th>DUBAI</th>\n",
              "      <th>BRENT</th>\n",
              "      <th>WTI</th>\n",
              "      <th>BDI_ADJ</th>\n",
              "      <th>PORT_SIZE</th>\n",
              "      <th>CI_HOUR</th>\n",
              "    </tr>\n",
              "  </thead>\n",
              "  <tbody>\n",
              "    <tr>\n",
              "      <th>5</th>\n",
              "      <td>Hong Kong, China</td>\n",
              "      <td>NaN</td>\n",
              "      <td>NaN</td>\n",
              "      <td>NaN</td>\n",
              "      <td>NaN</td>\n",
              "      <td>22</td>\n",
              "      <td>45.75</td>\n",
              "      <td>48.89</td>\n",
              "      <td>45.92</td>\n",
              "      <td>820.288044</td>\n",
              "      <td>0.001743</td>\n",
              "      <td>42.078056</td>\n",
              "    </tr>\n",
              "    <tr>\n",
              "      <th>8</th>\n",
              "      <td>Hong Kong, China</td>\n",
              "      <td>NaN</td>\n",
              "      <td>NaN</td>\n",
              "      <td>NaN</td>\n",
              "      <td>NaN</td>\n",
              "      <td>15</td>\n",
              "      <td>54.49</td>\n",
              "      <td>55.52</td>\n",
              "      <td>53.17</td>\n",
              "      <td>796.790931</td>\n",
              "      <td>0.000552</td>\n",
              "      <td>0.000000</td>\n",
              "    </tr>\n",
              "    <tr>\n",
              "      <th>9</th>\n",
              "      <td>Hong Kong, China</td>\n",
              "      <td>NaN</td>\n",
              "      <td>NaN</td>\n",
              "      <td>NaN</td>\n",
              "      <td>NaN</td>\n",
              "      <td>18</td>\n",
              "      <td>64.25</td>\n",
              "      <td>66.86</td>\n",
              "      <td>63.39</td>\n",
              "      <td>1030.009758</td>\n",
              "      <td>0.000103</td>\n",
              "      <td>73.985833</td>\n",
              "    </tr>\n",
              "    <tr>\n",
              "      <th>10</th>\n",
              "      <td>China, People's Republic Of</td>\n",
              "      <td>NaN</td>\n",
              "      <td>NaN</td>\n",
              "      <td>NaN</td>\n",
              "      <td>NaN</td>\n",
              "      <td>11</td>\n",
              "      <td>70.66</td>\n",
              "      <td>70.76</td>\n",
              "      <td>65.01</td>\n",
              "      <td>1610.724314</td>\n",
              "      <td>0.001660</td>\n",
              "      <td>31.891944</td>\n",
              "    </tr>\n",
              "    <tr>\n",
              "      <th>11</th>\n",
              "      <td>Panama</td>\n",
              "      <td>NaN</td>\n",
              "      <td>NaN</td>\n",
              "      <td>NaN</td>\n",
              "      <td>NaN</td>\n",
              "      <td>9</td>\n",
              "      <td>29.22</td>\n",
              "      <td>30.32</td>\n",
              "      <td>27.94</td>\n",
              "      <td>287.791271</td>\n",
              "      <td>0.000026</td>\n",
              "      <td>4.185556</td>\n",
              "    </tr>\n",
              "    <tr>\n",
              "      <th>...</th>\n",
              "      <td>...</td>\n",
              "      <td>...</td>\n",
              "      <td>...</td>\n",
              "      <td>...</td>\n",
              "      <td>...</td>\n",
              "      <td>...</td>\n",
              "      <td>...</td>\n",
              "      <td>...</td>\n",
              "      <td>...</td>\n",
              "      <td>...</td>\n",
              "      <td>...</td>\n",
              "      <td>...</td>\n",
              "    </tr>\n",
              "    <tr>\n",
              "      <th>367427</th>\n",
              "      <td>Panama</td>\n",
              "      <td>NaN</td>\n",
              "      <td>NaN</td>\n",
              "      <td>NaN</td>\n",
              "      <td>NaN</td>\n",
              "      <td>13</td>\n",
              "      <td>32.19</td>\n",
              "      <td>37.28</td>\n",
              "      <td>37.04</td>\n",
              "      <td>471.884296</td>\n",
              "      <td>0.001028</td>\n",
              "      <td>186.698889</td>\n",
              "    </tr>\n",
              "    <tr>\n",
              "      <th>367428</th>\n",
              "      <td>China, People's Republic Of</td>\n",
              "      <td>NaN</td>\n",
              "      <td>NaN</td>\n",
              "      <td>NaN</td>\n",
              "      <td>NaN</td>\n",
              "      <td>22</td>\n",
              "      <td>60.99</td>\n",
              "      <td>62.45</td>\n",
              "      <td>57.47</td>\n",
              "      <td>1574.233684</td>\n",
              "      <td>0.000360</td>\n",
              "      <td>141.522500</td>\n",
              "    </tr>\n",
              "    <tr>\n",
              "      <th>367432</th>\n",
              "      <td>Tuvalu</td>\n",
              "      <td>NaN</td>\n",
              "      <td>NaN</td>\n",
              "      <td>NaN</td>\n",
              "      <td>NaN</td>\n",
              "      <td>3</td>\n",
              "      <td>59.81</td>\n",
              "      <td>61.56</td>\n",
              "      <td>52.89</td>\n",
              "      <td>1203.463363</td>\n",
              "      <td>0.000256</td>\n",
              "      <td>70.663611</td>\n",
              "    </tr>\n",
              "    <tr>\n",
              "      <th>367435</th>\n",
              "      <td>Cyprus</td>\n",
              "      <td>NaN</td>\n",
              "      <td>NaN</td>\n",
              "      <td>NaN</td>\n",
              "      <td>NaN</td>\n",
              "      <td>10</td>\n",
              "      <td>80.08</td>\n",
              "      <td>82.34</td>\n",
              "      <td>77.40</td>\n",
              "      <td>1404.453239</td>\n",
              "      <td>0.000058</td>\n",
              "      <td>0.000000</td>\n",
              "    </tr>\n",
              "    <tr>\n",
              "      <th>367436</th>\n",
              "      <td>Liberia</td>\n",
              "      <td>NaN</td>\n",
              "      <td>NaN</td>\n",
              "      <td>NaN</td>\n",
              "      <td>NaN</td>\n",
              "      <td>6</td>\n",
              "      <td>61.25</td>\n",
              "      <td>62.21</td>\n",
              "      <td>55.70</td>\n",
              "      <td>1333.609109</td>\n",
              "      <td>0.000360</td>\n",
              "      <td>65.850000</td>\n",
              "    </tr>\n",
              "  </tbody>\n",
              "</table>\n",
              "<p>154366 rows × 12 columns</p>\n",
              "</div>\n",
              "    <div class=\"colab-df-buttons\">\n",
              "\n",
              "  <div class=\"colab-df-container\">\n",
              "    <button class=\"colab-df-convert\" onclick=\"convertToInteractive('df-db479b44-e205-4726-9a6d-c801f4c180bf')\"\n",
              "            title=\"Convert this dataframe to an interactive table.\"\n",
              "            style=\"display:none;\">\n",
              "\n",
              "  <svg xmlns=\"http://www.w3.org/2000/svg\" height=\"24px\" viewBox=\"0 -960 960 960\">\n",
              "    <path d=\"M120-120v-720h720v720H120Zm60-500h600v-160H180v160Zm220 220h160v-160H400v160Zm0 220h160v-160H400v160ZM180-400h160v-160H180v160Zm440 0h160v-160H620v160ZM180-180h160v-160H180v160Zm440 0h160v-160H620v160Z\"/>\n",
              "  </svg>\n",
              "    </button>\n",
              "\n",
              "  <style>\n",
              "    .colab-df-container {\n",
              "      display:flex;\n",
              "      gap: 12px;\n",
              "    }\n",
              "\n",
              "    .colab-df-convert {\n",
              "      background-color: #E8F0FE;\n",
              "      border: none;\n",
              "      border-radius: 50%;\n",
              "      cursor: pointer;\n",
              "      display: none;\n",
              "      fill: #1967D2;\n",
              "      height: 32px;\n",
              "      padding: 0 0 0 0;\n",
              "      width: 32px;\n",
              "    }\n",
              "\n",
              "    .colab-df-convert:hover {\n",
              "      background-color: #E2EBFA;\n",
              "      box-shadow: 0px 1px 2px rgba(60, 64, 67, 0.3), 0px 1px 3px 1px rgba(60, 64, 67, 0.15);\n",
              "      fill: #174EA6;\n",
              "    }\n",
              "\n",
              "    .colab-df-buttons div {\n",
              "      margin-bottom: 4px;\n",
              "    }\n",
              "\n",
              "    [theme=dark] .colab-df-convert {\n",
              "      background-color: #3B4455;\n",
              "      fill: #D2E3FC;\n",
              "    }\n",
              "\n",
              "    [theme=dark] .colab-df-convert:hover {\n",
              "      background-color: #434B5C;\n",
              "      box-shadow: 0px 1px 3px 1px rgba(0, 0, 0, 0.15);\n",
              "      filter: drop-shadow(0px 1px 2px rgba(0, 0, 0, 0.3));\n",
              "      fill: #FFFFFF;\n",
              "    }\n",
              "  </style>\n",
              "\n",
              "    <script>\n",
              "      const buttonEl =\n",
              "        document.querySelector('#df-db479b44-e205-4726-9a6d-c801f4c180bf button.colab-df-convert');\n",
              "      buttonEl.style.display =\n",
              "        google.colab.kernel.accessAllowed ? 'block' : 'none';\n",
              "\n",
              "      async function convertToInteractive(key) {\n",
              "        const element = document.querySelector('#df-db479b44-e205-4726-9a6d-c801f4c180bf');\n",
              "        const dataTable =\n",
              "          await google.colab.kernel.invokeFunction('convertToInteractive',\n",
              "                                                    [key], {});\n",
              "        if (!dataTable) return;\n",
              "\n",
              "        const docLinkHtml = 'Like what you see? Visit the ' +\n",
              "          '<a target=\"_blank\" href=https://colab.research.google.com/notebooks/data_table.ipynb>data table notebook</a>'\n",
              "          + ' to learn more about interactive tables.';\n",
              "        element.innerHTML = '';\n",
              "        dataTable['output_type'] = 'display_data';\n",
              "        await google.colab.output.renderOutput(dataTable, element);\n",
              "        const docLink = document.createElement('div');\n",
              "        docLink.innerHTML = docLinkHtml;\n",
              "        element.appendChild(docLink);\n",
              "      }\n",
              "    </script>\n",
              "  </div>\n",
              "\n",
              "\n",
              "<div id=\"df-a6fa6902-f093-4b96-80b7-afd9e1df9a55\">\n",
              "  <button class=\"colab-df-quickchart\" onclick=\"quickchart('df-a6fa6902-f093-4b96-80b7-afd9e1df9a55')\"\n",
              "            title=\"Suggest charts.\"\n",
              "            style=\"display:none;\">\n",
              "\n",
              "<svg xmlns=\"http://www.w3.org/2000/svg\" height=\"24px\"viewBox=\"0 0 24 24\"\n",
              "     width=\"24px\">\n",
              "    <g>\n",
              "        <path d=\"M19 3H5c-1.1 0-2 .9-2 2v14c0 1.1.9 2 2 2h14c1.1 0 2-.9 2-2V5c0-1.1-.9-2-2-2zM9 17H7v-7h2v7zm4 0h-2V7h2v10zm4 0h-2v-4h2v4z\"/>\n",
              "    </g>\n",
              "</svg>\n",
              "  </button>\n",
              "\n",
              "<style>\n",
              "  .colab-df-quickchart {\n",
              "      --bg-color: #E8F0FE;\n",
              "      --fill-color: #1967D2;\n",
              "      --hover-bg-color: #E2EBFA;\n",
              "      --hover-fill-color: #174EA6;\n",
              "      --disabled-fill-color: #AAA;\n",
              "      --disabled-bg-color: #DDD;\n",
              "  }\n",
              "\n",
              "  [theme=dark] .colab-df-quickchart {\n",
              "      --bg-color: #3B4455;\n",
              "      --fill-color: #D2E3FC;\n",
              "      --hover-bg-color: #434B5C;\n",
              "      --hover-fill-color: #FFFFFF;\n",
              "      --disabled-bg-color: #3B4455;\n",
              "      --disabled-fill-color: #666;\n",
              "  }\n",
              "\n",
              "  .colab-df-quickchart {\n",
              "    background-color: var(--bg-color);\n",
              "    border: none;\n",
              "    border-radius: 50%;\n",
              "    cursor: pointer;\n",
              "    display: none;\n",
              "    fill: var(--fill-color);\n",
              "    height: 32px;\n",
              "    padding: 0;\n",
              "    width: 32px;\n",
              "  }\n",
              "\n",
              "  .colab-df-quickchart:hover {\n",
              "    background-color: var(--hover-bg-color);\n",
              "    box-shadow: 0 1px 2px rgba(60, 64, 67, 0.3), 0 1px 3px 1px rgba(60, 64, 67, 0.15);\n",
              "    fill: var(--button-hover-fill-color);\n",
              "  }\n",
              "\n",
              "  .colab-df-quickchart-complete:disabled,\n",
              "  .colab-df-quickchart-complete:disabled:hover {\n",
              "    background-color: var(--disabled-bg-color);\n",
              "    fill: var(--disabled-fill-color);\n",
              "    box-shadow: none;\n",
              "  }\n",
              "\n",
              "  .colab-df-spinner {\n",
              "    border: 2px solid var(--fill-color);\n",
              "    border-color: transparent;\n",
              "    border-bottom-color: var(--fill-color);\n",
              "    animation:\n",
              "      spin 1s steps(1) infinite;\n",
              "  }\n",
              "\n",
              "  @keyframes spin {\n",
              "    0% {\n",
              "      border-color: transparent;\n",
              "      border-bottom-color: var(--fill-color);\n",
              "      border-left-color: var(--fill-color);\n",
              "    }\n",
              "    20% {\n",
              "      border-color: transparent;\n",
              "      border-left-color: var(--fill-color);\n",
              "      border-top-color: var(--fill-color);\n",
              "    }\n",
              "    30% {\n",
              "      border-color: transparent;\n",
              "      border-left-color: var(--fill-color);\n",
              "      border-top-color: var(--fill-color);\n",
              "      border-right-color: var(--fill-color);\n",
              "    }\n",
              "    40% {\n",
              "      border-color: transparent;\n",
              "      border-right-color: var(--fill-color);\n",
              "      border-top-color: var(--fill-color);\n",
              "    }\n",
              "    60% {\n",
              "      border-color: transparent;\n",
              "      border-right-color: var(--fill-color);\n",
              "    }\n",
              "    80% {\n",
              "      border-color: transparent;\n",
              "      border-right-color: var(--fill-color);\n",
              "      border-bottom-color: var(--fill-color);\n",
              "    }\n",
              "    90% {\n",
              "      border-color: transparent;\n",
              "      border-bottom-color: var(--fill-color);\n",
              "    }\n",
              "  }\n",
              "</style>\n",
              "\n",
              "  <script>\n",
              "    async function quickchart(key) {\n",
              "      const quickchartButtonEl =\n",
              "        document.querySelector('#' + key + ' button');\n",
              "      quickchartButtonEl.disabled = true;  // To prevent multiple clicks.\n",
              "      quickchartButtonEl.classList.add('colab-df-spinner');\n",
              "      try {\n",
              "        const charts = await google.colab.kernel.invokeFunction(\n",
              "            'suggestCharts', [key], {});\n",
              "      } catch (error) {\n",
              "        console.error('Error during call to suggestCharts:', error);\n",
              "      }\n",
              "      quickchartButtonEl.classList.remove('colab-df-spinner');\n",
              "      quickchartButtonEl.classList.add('colab-df-quickchart-complete');\n",
              "    }\n",
              "    (() => {\n",
              "      let quickchartButtonEl =\n",
              "        document.querySelector('#df-a6fa6902-f093-4b96-80b7-afd9e1df9a55 button');\n",
              "      quickchartButtonEl.style.display =\n",
              "        google.colab.kernel.accessAllowed ? 'block' : 'none';\n",
              "    })();\n",
              "  </script>\n",
              "</div>\n",
              "    </div>\n",
              "  </div>\n"
            ]
          },
          "metadata": {},
          "execution_count": 66
        }
      ]
    },
    {
      "cell_type": "code",
      "source": [
        "# df = pd.DataFrame({\n",
        "#     'First' : [100, 80, np.nan, 60],\n",
        "#     'Second' : [20, 55, 76, np.nan],\n",
        "#     'Thrid' : [np.nan, 70, 60, 88]\n",
        "# })\n",
        "\n",
        "# display(df)\n",
        "\n",
        "# imputer = KNNImputer(n_neighbors = 2, weights = 'distance')\n",
        "# data_filled = imputer.fit_transform(df)\n",
        "# data = pd.DataFrame(data_filled)\n",
        "# data.columns = df.columns\n",
        "# data.to_csv(file_path + 'data.csv')\n",
        "# data"
      ],
      "metadata": {
        "id": "5Yt_rHIz6kwT"
      },
      "id": "5Yt_rHIz6kwT",
      "execution_count": 68,
      "outputs": []
    },
    {
      "cell_type": "code",
      "source": [
        "imputer = KNNImputer(n_neighbors = 1, weights = 'distance')\n",
        "data_filled = imputer.fit_transform(train)\n",
        "data = pd.DataFrame(data_filled)\n",
        "data.columns = train.columns\n",
        "data.to_csv(file_path + 'data.csv')\n",
        "data"
      ],
      "metadata": {
        "id": "pBumO6ohh--7"
      },
      "id": "pBumO6ohh--7",
      "execution_count": null,
      "outputs": []
    },
    {
      "cell_type": "code",
      "source": [],
      "metadata": {
        "id": "IaLgffkADtfN"
      },
      "id": "IaLgffkADtfN",
      "execution_count": null,
      "outputs": []
    },
    {
      "cell_type": "markdown",
      "source": [
        "#### 상관계수 처리"
      ],
      "metadata": {
        "id": "Ez619jdNCgEX"
      },
      "id": "Ez619jdNCgEX"
    },
    {
      "cell_type": "code",
      "execution_count": null,
      "id": "c4d33e12",
      "metadata": {
        "scrolled": true,
        "id": "c4d33e12"
      },
      "outputs": [],
      "source": [
        "# 중복정보가 있는 column 제거하기 위해 상관계수를 확인해봅니다.\n",
        "correlated_features ="
      ]
    },
    {
      "cell_type": "code",
      "source": [
        "plt.figure(figsize = (20, 10))\n",
        "sns.heatmap(data = train.corr(), annot = True, fmt = '.2f', cmap = 'Blues')\n",
        "plt.show()"
      ],
      "metadata": {
        "colab": {
          "base_uri": "https://localhost:8080/",
          "height": 853
        },
        "id": "kMbGRmAaahsN",
        "outputId": "32f0d7c9-196c-4513-c35a-3a599d1fc365"
      },
      "id": "kMbGRmAaahsN",
      "execution_count": 33,
      "outputs": [
        {
          "output_type": "stream",
          "name": "stderr",
          "text": [
            "<ipython-input-33-d30f59f87530>:2: FutureWarning: The default value of numeric_only in DataFrame.corr is deprecated. In a future version, it will default to False. Select only valid columns or specify the value of numeric_only to silence this warning.\n",
            "  sns.heatmap(data = train.corr(), annot = True, fmt = '.2f', cmap = 'Blues')\n"
          ]
        },
        {
          "output_type": "display_data",
          "data": {
            "text/plain": [
              "<Figure size 2000x1000 with 2 Axes>"
            ],
            "image/png": "[encoded data removed]"
          },
          "metadata": {}
        }
      ]
    },
    {
      "cell_type": "markdown",
      "id": "f497a2d8",
      "metadata": {
        "id": "f497a2d8"
      },
      "source": [
        "### 4. 학습 데이터 분할"
      ]
    },
    {
      "cell_type": "code",
      "execution_count": null,
      "id": "47306aaf",
      "metadata": {
        "id": "47306aaf"
      },
      "outputs": [],
      "source": [
        "# 첫번째 테스트용으로 사용하고, 실제 학습시에는 K-Fold CV를 사용합니다.\n",
        "from sklearn.model_selection import train_test_split\n",
        "\n",
        "X = train.drop(['CI_HOUR'])\n",
        "y = train.CI_HOUR\n",
        "\n",
        "X_train, X_val, y_train, y_val = train_test_split(X, y, test_size = 0.05, random_state = 42)"
      ]
    },
    {
      "cell_type": "code",
      "execution_count": null,
      "id": "67efd2ee",
      "metadata": {
        "id": "67efd2ee"
      },
      "outputs": [],
      "source": [
        "print(X_train.shape, y_train.shape, X_val.shape, y_val.shape)"
      ]
    },
    {
      "cell_type": "markdown",
      "id": "58056e51",
      "metadata": {
        "id": "58056e51"
      },
      "source": [
        "### 5. 학습 및 평가"
      ]
    },
    {
      "cell_type": "code",
      "execution_count": null,
      "id": "39fd2515",
      "metadata": {
        "id": "39fd2515"
      },
      "outputs": [],
      "source": [
        "# 간단하게 LightGBM 테스트\n",
        "# 적당한 hyper-parameter 조합을 두었습니다. (항상 best는 아닙니다. 예시입니다.)\n",
        "\n",
        "param_grid = {\n",
        "    \"max_bin\" : 20,\n",
        "    \"learning_rate\" : 0.0025,\n",
        "    \"objective\" : \"regression\",\n",
        "    \"boosting_type\" : \"gbdt\",\n",
        "    \"metric\" : \"mae\",\n",
        "    \"sub_feature\" : 0.345,\n",
        "    \"bagging_fraction\" : 0.85,\n",
        "    \"bagging_freq\" : 40,\n",
        "    \"num_leaves\" : 512,\n",
        "    \"min_data\" : 500,\n",
        "    \"min_hessian\" : 0.05,\n",
        "    \"verbose\" : 2,\n",
        "    \"feature_fraction_seed\" : 2,\n",
        "    \"bagging_seed\" : 3\n",
        "}\n",
        "\n",
        "model = LGBMRegressor(**param_grid)"
      ]
    },
    {
      "cell_type": "code",
      "execution_count": null,
      "id": "ddffa474",
      "metadata": {
        "scrolled": true,
        "id": "ddffa474"
      },
      "outputs": [],
      "source": [
        "print(\"\\nFitting LightGBM...\")\n",
        "model.fit(X_train, y_train)"
      ]
    },
    {
      "cell_type": "code",
      "execution_count": null,
      "id": "6c8b0259",
      "metadata": {
        "id": "6c8b0259"
      },
      "outputs": [],
      "source": [
        "# metric은 그때마다 맞게 바꿔줘야 합니다.\n",
        "evaluation_metric ="
      ]
    },
    {
      "cell_type": "code",
      "execution_count": null,
      "id": "a6b39be5",
      "metadata": {
        "id": "a6b39be5"
      },
      "outputs": [],
      "source": [
        "print(\"Prediction\")\n",
        "pred_train = model.predict(X_train)\n",
        "pred_val = model.predict(X_val)\n",
        "\n",
        "\n",
        "train_score = evaluation_metric(y_train, pred_train)\n",
        "val_score = evaluation_metric(y_val, pred_val)\n",
        "\n",
        "print(\"Train Score : %.4f\" % train_score)\n",
        "print(\"Test Score : %.4f\" % val_score)"
      ]
    },
    {
      "cell_type": "markdown",
      "id": "bc755b17",
      "metadata": {
        "id": "bc755b17"
      },
      "source": [
        "### 6. Hyper-parameter Tuning"
      ]
    },
    {
      "cell_type": "markdown",
      "id": "60070d0e",
      "metadata": {
        "id": "60070d0e"
      },
      "source": [
        "> GridSearchCV"
      ]
    },
    {
      "cell_type": "markdown",
      "id": "2bf886a9",
      "metadata": {
        "id": "2bf886a9"
      },
      "source": [
        "** LightGBM의 hyperparameter **\n",
        "\n",
        "[Official Documentation] https://lightgbm.readthedocs.io/en/latest/Parameters-Tuning.html\n",
        "\n",
        "[Blog 1] https://smecsm.tistory.com/133\n",
        "\n",
        "[Blog 2] https://towardsdatascience.com/kagglers-guide-to-lightgbm-hyperparameter-tuning-with-optuna-in-2021-ed048d9838b5\n",
        "\n",
        "[Blog 3] https://nurilee.com/2020/04/03/lightgbm-definition-parameter-tuning/"
      ]
    },
    {
      "cell_type": "markdown",
      "id": "97e5302d",
      "metadata": {
        "id": "97e5302d"
      },
      "source": [
        "> optuna를 사용해봅시다 !"
      ]
    },
    {
      "cell_type": "code",
      "execution_count": null,
      "id": "34ce4986",
      "metadata": {
        "id": "34ce4986"
      },
      "outputs": [],
      "source": [
        "def optimizer(trial, X, y, K):\n",
        "    # 조절할 hyper-parameter 조합을 적어줍니다.\n",
        "    n_estimators =\n",
        "    max_depth =\n",
        "    max_features =\n",
        "\n",
        "\n",
        "    # 원하는 모델을 지정합니다, optuna는 시간이 오래걸리기 때문에 저는 보통 RF로 일단 테스트를 해본 뒤에 LGBM을 사용합니다.\n",
        "    model = RandomForestRegressor(n_estimators=n_estimators,\n",
        "                                 max_depth=max_depth,\n",
        "                                 max_features=max_features)\n",
        "\n",
        "\n",
        "    # K-Fold Cross validation을 구현합니다.\n",
        "    folds = KFold(n_splits=K)\n",
        "    losses = []\n",
        "\n",
        "    for train_idx, val_idx in folds.split(X, y):\n",
        "        X_train = X.iloc[train_idx, :]\n",
        "        y_train = y.iloc[train_idx]\n",
        "\n",
        "        X_val = X.iloc[val_idx, :]\n",
        "        y_val = y.iloc[val_idx]\n",
        "\n",
        "        model.fit(X_train, y_train)\n",
        "        preds = model.predict(X_val)\n",
        "        loss = evaluation_metric(y_val, preds)\n",
        "        losses.append(loss)\n",
        "\n",
        "\n",
        "    # K-Fold의 평균 loss값을 돌려줍니다.\n",
        "    return np.mean(losses)"
      ]
    },
    {
      "cell_type": "code",
      "execution_count": null,
      "id": "7150b210",
      "metadata": {
        "scrolled": false,
        "id": "7150b210"
      },
      "outputs": [],
      "source": [
        "K = # Kfold 수\n",
        "opt_func = partial(optimizer, X=X_train, y=y_train, K=K)\n",
        "\n",
        "study = optuna.create_study(direction=\"\") # 최소/최대 어느 방향의 최적값을 구할 건지.\n",
        "study.optimize(opt_func, n_trials=5)"
      ]
    },
    {
      "cell_type": "code",
      "execution_count": null,
      "id": "72d0a118",
      "metadata": {
        "id": "72d0a118"
      },
      "outputs": [],
      "source": [
        "# optuna가 시도했던 모든 실험 관련 데이터\n",
        "study.trials_dataframe()"
      ]
    },
    {
      "cell_type": "code",
      "execution_count": null,
      "id": "a805da05",
      "metadata": {
        "id": "a805da05"
      },
      "outputs": [],
      "source": [
        "print(\"Best Score: %.4f\" % study.best_value) # best score 출력\n",
        "print(\"Best params: \", study.best_trial.params) # best score일 때의 하이퍼파라미터들"
      ]
    },
    {
      "cell_type": "code",
      "execution_count": null,
      "id": "051ae1eb",
      "metadata": {
        "id": "051ae1eb"
      },
      "outputs": [],
      "source": [
        "# 실험 기록 시각화\n",
        "optuna.visualization.plot_optimization_history(study)"
      ]
    },
    {
      "cell_type": "code",
      "execution_count": null,
      "id": "efbf8f65",
      "metadata": {
        "scrolled": false,
        "id": "efbf8f65"
      },
      "outputs": [],
      "source": [
        "# hyper-parameter들의 중요도\n",
        "optuna.visualization.plot_param_importances(study)"
      ]
    },
    {
      "cell_type": "markdown",
      "id": "24b360ec",
      "metadata": {
        "id": "24b360ec"
      },
      "source": [
        "### 7. 테스트 및 제출 파일 생성"
      ]
    },
    {
      "cell_type": "code",
      "execution_count": null,
      "id": "b6787765",
      "metadata": {
        "id": "b6787765"
      },
      "outputs": [],
      "source": [
        "## X_test 만들기\n",
        "X_test =\n"
      ]
    },
    {
      "cell_type": "code",
      "execution_count": null,
      "id": "a0daf54e",
      "metadata": {
        "id": "a0daf54e"
      },
      "outputs": [],
      "source": [
        "best_params =\n",
        "\n",
        "best_model = RandomForestRegressor(**best_params)\n",
        "\n",
        "best_model.fit(X_train, y_train)\n",
        "preds = best_model.predict(X_test)\n",
        "preds"
      ]
    },
    {
      "cell_type": "code",
      "execution_count": null,
      "id": "dfa0db70",
      "metadata": {
        "id": "dfa0db70"
      },
      "outputs": [],
      "source": [
        "X_test # 원본 데이터랑 id가 맞는지 확인 해보기!"
      ]
    },
    {
      "cell_type": "code",
      "execution_count": null,
      "id": "8ff2070c",
      "metadata": {
        "id": "8ff2070c"
      },
      "outputs": [],
      "source": [
        "submission = pd.read_csv('./data/sample_submission.csv')\n",
        "submission"
      ]
    },
    {
      "cell_type": "code",
      "execution_count": null,
      "id": "55a2c13f",
      "metadata": {
        "id": "55a2c13f"
      },
      "outputs": [],
      "source": [
        "submission.to_csv(\"submission.csv\", index=False)"
      ]
    }
  ],
  "metadata": {
    "kernelspec": {
      "display_name": "Python 3 (ipykernel)",
      "language": "python",
      "name": "python3"
    },
    "language_info": {
      "codemirror_mode": {
        "name": "ipython",
        "version": 3
      },
      "file_extension": ".py",
      "mimetype": "text/x-python",
      "name": "python",
      "nbconvert_exporter": "python",
      "pygments_lexer": "ipython3",
      "version": "3.10.1"
    },
    "colab": {
      "provenance": [],
      "include_colab_link": true
    }
  },
  "nbformat": 4,
  "nbformat_minor": 5
}